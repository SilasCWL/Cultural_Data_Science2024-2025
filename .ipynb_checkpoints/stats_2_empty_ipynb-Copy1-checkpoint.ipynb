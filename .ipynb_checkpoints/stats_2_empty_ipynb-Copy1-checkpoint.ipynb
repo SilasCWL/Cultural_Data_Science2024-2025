{
 "cells": [
  {
   "cell_type": "markdown",
   "id": "d3927537-1b77-4eb6-857e-c0f544f42808",
   "metadata": {},
   "source": [
    "# Exercise 1 - introducing t-test "
   ]
  },
  {
   "cell_type": "markdown",
   "id": "6745e103-4594-4df5-85e9-9c3a63a4a105",
   "metadata": {},
   "source": [
    "You have already learned about the the command line, scripts, and functions. R has one more level of organisation. Packages. Packages are sets of functions. We have already used one of these. Packages can also include data. We are now going to install a package, load it, and use it just for it's data. \n",
    "\n",
    "The package level is what makes R so powerful as a an open source language. you can make a package, get it reviewed, and have it stored on CRAN (Comprehensive R Archive Network) where everyone can download it. This means that R is an active environment for the development of statistical methods and theory.\n",
    "\n",
    "Description of the package here: https://simplystatistics.org/2018/01/22/the-dslabs-package-provides-datasets-for-teaching-data-science/"
   ]
  },
  {
   "cell_type": "code",
   "execution_count": 57,
   "id": "2e87183f-20b4-4c3b-9452-4e3305b8fd5e",
   "metadata": {},
   "outputs": [
    {
     "name": "stderr",
     "output_type": "stream",
     "text": [
      "Installing package into ‘/usr/local/spark-3.5.2-bin-hadoop3/R/lib’\n",
      "(as ‘lib’ is unspecified)\n",
      "\n",
      "Installing package into ‘/usr/local/spark-3.5.2-bin-hadoop3/R/lib’\n",
      "(as ‘lib’ is unspecified)\n",
      "\n",
      "Installing package into ‘/usr/local/spark-3.5.2-bin-hadoop3/R/lib’\n",
      "(as ‘lib’ is unspecified)\n",
      "\n"
     ]
    }
   ],
   "source": [
    "install.packages('dplyr')\n",
    "install.packages('ggplot2')\n",
    "install.packages('dslabs')"
   ]
  },
  {
   "cell_type": "code",
   "execution_count": 56,
   "id": "e7b9c27b-27c9-40cc-868a-b77e64a22d74",
   "metadata": {},
   "outputs": [],
   "source": [
    "library(dslabs)\n",
    "library(ggplot2)\n",
    "library(dplyr)"
   ]
  },
  {
   "cell_type": "code",
   "execution_count": null,
   "id": "828c5dbf-1804-49e1-928a-49c0a82425d4",
   "metadata": {},
   "outputs": [],
   "source": [
    "#dslabs - package with 40 datasets to test on - there is a lot of help about them online. So if you want to practice regression osv. - this is a good place"
   ]
  },
  {
   "cell_type": "markdown",
   "id": "50106507-c673-47f6-b062-e71041497c98",
   "metadata": {},
   "source": [
    "Let's conduct an analysis of the height data - self-reported heights in inches"
   ]
  },
  {
   "cell_type": "code",
   "execution_count": 5,
   "id": "def34e2b-2e8c-4db6-8e6a-7ea62570d126",
   "metadata": {},
   "outputs": [],
   "source": [
    "data('heights')"
   ]
  },
  {
   "cell_type": "markdown",
   "id": "666794e2-67fb-4e14-8397-6664cba7c555",
   "metadata": {},
   "source": [
    "This gives us a data frame."
   ]
  },
  {
   "cell_type": "code",
   "execution_count": 7,
   "id": "4f8f7879-52df-4da5-a147-04a208256b40",
   "metadata": {},
   "outputs": [
    {
     "data": {
      "text/html": [
       "<table class=\"dataframe\">\n",
       "<caption>A data.frame: 6 × 2</caption>\n",
       "<thead>\n",
       "\t<tr><th></th><th scope=col>sex</th><th scope=col>height</th></tr>\n",
       "\t<tr><th></th><th scope=col>&lt;fct&gt;</th><th scope=col>&lt;dbl&gt;</th></tr>\n",
       "</thead>\n",
       "<tbody>\n",
       "\t<tr><th scope=row>1</th><td>Male  </td><td>75</td></tr>\n",
       "\t<tr><th scope=row>2</th><td>Male  </td><td>70</td></tr>\n",
       "\t<tr><th scope=row>3</th><td>Male  </td><td>68</td></tr>\n",
       "\t<tr><th scope=row>4</th><td>Male  </td><td>74</td></tr>\n",
       "\t<tr><th scope=row>5</th><td>Male  </td><td>61</td></tr>\n",
       "\t<tr><th scope=row>6</th><td>Female</td><td>65</td></tr>\n",
       "</tbody>\n",
       "</table>\n"
      ],
      "text/latex": [
       "A data.frame: 6 × 2\n",
       "\\begin{tabular}{r|ll}\n",
       "  & sex & height\\\\\n",
       "  & <fct> & <dbl>\\\\\n",
       "\\hline\n",
       "\t1 & Male   & 75\\\\\n",
       "\t2 & Male   & 70\\\\\n",
       "\t3 & Male   & 68\\\\\n",
       "\t4 & Male   & 74\\\\\n",
       "\t5 & Male   & 61\\\\\n",
       "\t6 & Female & 65\\\\\n",
       "\\end{tabular}\n"
      ],
      "text/markdown": [
       "\n",
       "A data.frame: 6 × 2\n",
       "\n",
       "| <!--/--> | sex &lt;fct&gt; | height &lt;dbl&gt; |\n",
       "|---|---|---|\n",
       "| 1 | Male   | 75 |\n",
       "| 2 | Male   | 70 |\n",
       "| 3 | Male   | 68 |\n",
       "| 4 | Male   | 74 |\n",
       "| 5 | Male   | 61 |\n",
       "| 6 | Female | 65 |\n",
       "\n"
      ],
      "text/plain": [
       "  sex    height\n",
       "1 Male   75    \n",
       "2 Male   70    \n",
       "3 Male   68    \n",
       "4 Male   74    \n",
       "5 Male   61    \n",
       "6 Female 65    "
      ]
     },
     "metadata": {},
     "output_type": "display_data"
    }
   ],
   "source": [
    "head(heights)"
   ]
  },
  {
   "cell_type": "code",
   "execution_count": null,
   "id": "42c5218a-9cc3-4ab9-9a80-205a98939aa7",
   "metadata": {},
   "outputs": [],
   "source": []
  },
  {
   "cell_type": "code",
   "execution_count": 6,
   "id": "de6c4c81-a690-494d-bb18-0c7be24c8eb3",
   "metadata": {
    "collapsed": true,
    "jupyter": {
     "outputs_hidden": true
    },
    "scrolled": true
   },
   "outputs": [
    {
     "data": {
      "text/html": [
       "<table class=\"dataframe\">\n",
       "<caption>A data.frame: 1050 × 2</caption>\n",
       "<thead>\n",
       "\t<tr><th scope=col>sex</th><th scope=col>height</th></tr>\n",
       "\t<tr><th scope=col>&lt;fct&gt;</th><th scope=col>&lt;dbl&gt;</th></tr>\n",
       "</thead>\n",
       "<tbody>\n",
       "\t<tr><td>Male  </td><td>75</td></tr>\n",
       "\t<tr><td>Male  </td><td>70</td></tr>\n",
       "\t<tr><td>Male  </td><td>68</td></tr>\n",
       "\t<tr><td>Male  </td><td>74</td></tr>\n",
       "\t<tr><td>Male  </td><td>61</td></tr>\n",
       "\t<tr><td>Female</td><td>65</td></tr>\n",
       "\t<tr><td>Female</td><td>66</td></tr>\n",
       "\t<tr><td>Female</td><td>62</td></tr>\n",
       "\t<tr><td>Female</td><td>66</td></tr>\n",
       "\t<tr><td>Male  </td><td>67</td></tr>\n",
       "\t<tr><td>Male  </td><td>72</td></tr>\n",
       "\t<tr><td>Male  </td><td>72</td></tr>\n",
       "\t<tr><td>Male  </td><td>69</td></tr>\n",
       "\t<tr><td>Male  </td><td>68</td></tr>\n",
       "\t<tr><td>Male  </td><td>69</td></tr>\n",
       "\t<tr><td>Male  </td><td>66</td></tr>\n",
       "\t<tr><td>Male  </td><td>75</td></tr>\n",
       "\t<tr><td>Female</td><td>64</td></tr>\n",
       "\t<tr><td>Female</td><td>60</td></tr>\n",
       "\t<tr><td>Male  </td><td>67</td></tr>\n",
       "\t<tr><td>Male  </td><td>66</td></tr>\n",
       "\t<tr><td>Male  </td><td>64</td></tr>\n",
       "\t<tr><td>Male  </td><td>70</td></tr>\n",
       "\t<tr><td>Male  </td><td>73</td></tr>\n",
       "\t<tr><td>Male  </td><td>72</td></tr>\n",
       "\t<tr><td>Male  </td><td>69</td></tr>\n",
       "\t<tr><td>Male  </td><td>69</td></tr>\n",
       "\t<tr><td>Male  </td><td>72</td></tr>\n",
       "\t<tr><td>Female</td><td>64</td></tr>\n",
       "\t<tr><td>Male  </td><td>72</td></tr>\n",
       "\t<tr><td>⋮</td><td>⋮</td></tr>\n",
       "\t<tr><td>Male  </td><td>69.00000</td></tr>\n",
       "\t<tr><td>Female</td><td>64.20000</td></tr>\n",
       "\t<tr><td>Male  </td><td>72.00000</td></tr>\n",
       "\t<tr><td>Male  </td><td>63.00000</td></tr>\n",
       "\t<tr><td>Female</td><td>63.77953</td></tr>\n",
       "\t<tr><td>Male  </td><td>66.00000</td></tr>\n",
       "\t<tr><td>Male  </td><td>66.92913</td></tr>\n",
       "\t<tr><td>Male  </td><td>74.00000</td></tr>\n",
       "\t<tr><td>Male  </td><td>72.00000</td></tr>\n",
       "\t<tr><td>Male  </td><td>67.00000</td></tr>\n",
       "\t<tr><td>Male  </td><td>71.00000</td></tr>\n",
       "\t<tr><td>Male  </td><td>50.00000</td></tr>\n",
       "\t<tr><td>Male  </td><td>66.92913</td></tr>\n",
       "\t<tr><td>Male  </td><td>61.81102</td></tr>\n",
       "\t<tr><td>Male  </td><td>73.22835</td></tr>\n",
       "\t<tr><td>Male  </td><td>65.00000</td></tr>\n",
       "\t<tr><td>Male  </td><td>66.92913</td></tr>\n",
       "\t<tr><td>Male  </td><td>63.00000</td></tr>\n",
       "\t<tr><td>Male  </td><td>74.00000</td></tr>\n",
       "\t<tr><td>Male  </td><td>67.71650</td></tr>\n",
       "\t<tr><td>Male  </td><td>60.00000</td></tr>\n",
       "\t<tr><td>Male  </td><td>60.00000</td></tr>\n",
       "\t<tr><td>Male  </td><td>69.00000</td></tr>\n",
       "\t<tr><td>Male  </td><td>69.00000</td></tr>\n",
       "\t<tr><td>Male  </td><td>50.00000</td></tr>\n",
       "\t<tr><td>Female</td><td>69.00000</td></tr>\n",
       "\t<tr><td>Male  </td><td>69.00000</td></tr>\n",
       "\t<tr><td>Male  </td><td>63.38583</td></tr>\n",
       "\t<tr><td>Male  </td><td>66.00000</td></tr>\n",
       "\t<tr><td>Male  </td><td>66.00000</td></tr>\n",
       "</tbody>\n",
       "</table>\n"
      ],
      "text/latex": [
       "A data.frame: 1050 × 2\n",
       "\\begin{tabular}{ll}\n",
       " sex & height\\\\\n",
       " <fct> & <dbl>\\\\\n",
       "\\hline\n",
       "\t Male   & 75\\\\\n",
       "\t Male   & 70\\\\\n",
       "\t Male   & 68\\\\\n",
       "\t Male   & 74\\\\\n",
       "\t Male   & 61\\\\\n",
       "\t Female & 65\\\\\n",
       "\t Female & 66\\\\\n",
       "\t Female & 62\\\\\n",
       "\t Female & 66\\\\\n",
       "\t Male   & 67\\\\\n",
       "\t Male   & 72\\\\\n",
       "\t Male   & 72\\\\\n",
       "\t Male   & 69\\\\\n",
       "\t Male   & 68\\\\\n",
       "\t Male   & 69\\\\\n",
       "\t Male   & 66\\\\\n",
       "\t Male   & 75\\\\\n",
       "\t Female & 64\\\\\n",
       "\t Female & 60\\\\\n",
       "\t Male   & 67\\\\\n",
       "\t Male   & 66\\\\\n",
       "\t Male   & 64\\\\\n",
       "\t Male   & 70\\\\\n",
       "\t Male   & 73\\\\\n",
       "\t Male   & 72\\\\\n",
       "\t Male   & 69\\\\\n",
       "\t Male   & 69\\\\\n",
       "\t Male   & 72\\\\\n",
       "\t Female & 64\\\\\n",
       "\t Male   & 72\\\\\n",
       "\t ⋮ & ⋮\\\\\n",
       "\t Male   & 69.00000\\\\\n",
       "\t Female & 64.20000\\\\\n",
       "\t Male   & 72.00000\\\\\n",
       "\t Male   & 63.00000\\\\\n",
       "\t Female & 63.77953\\\\\n",
       "\t Male   & 66.00000\\\\\n",
       "\t Male   & 66.92913\\\\\n",
       "\t Male   & 74.00000\\\\\n",
       "\t Male   & 72.00000\\\\\n",
       "\t Male   & 67.00000\\\\\n",
       "\t Male   & 71.00000\\\\\n",
       "\t Male   & 50.00000\\\\\n",
       "\t Male   & 66.92913\\\\\n",
       "\t Male   & 61.81102\\\\\n",
       "\t Male   & 73.22835\\\\\n",
       "\t Male   & 65.00000\\\\\n",
       "\t Male   & 66.92913\\\\\n",
       "\t Male   & 63.00000\\\\\n",
       "\t Male   & 74.00000\\\\\n",
       "\t Male   & 67.71650\\\\\n",
       "\t Male   & 60.00000\\\\\n",
       "\t Male   & 60.00000\\\\\n",
       "\t Male   & 69.00000\\\\\n",
       "\t Male   & 69.00000\\\\\n",
       "\t Male   & 50.00000\\\\\n",
       "\t Female & 69.00000\\\\\n",
       "\t Male   & 69.00000\\\\\n",
       "\t Male   & 63.38583\\\\\n",
       "\t Male   & 66.00000\\\\\n",
       "\t Male   & 66.00000\\\\\n",
       "\\end{tabular}\n"
      ],
      "text/markdown": [
       "\n",
       "A data.frame: 1050 × 2\n",
       "\n",
       "| sex &lt;fct&gt; | height &lt;dbl&gt; |\n",
       "|---|---|\n",
       "| Male   | 75 |\n",
       "| Male   | 70 |\n",
       "| Male   | 68 |\n",
       "| Male   | 74 |\n",
       "| Male   | 61 |\n",
       "| Female | 65 |\n",
       "| Female | 66 |\n",
       "| Female | 62 |\n",
       "| Female | 66 |\n",
       "| Male   | 67 |\n",
       "| Male   | 72 |\n",
       "| Male   | 72 |\n",
       "| Male   | 69 |\n",
       "| Male   | 68 |\n",
       "| Male   | 69 |\n",
       "| Male   | 66 |\n",
       "| Male   | 75 |\n",
       "| Female | 64 |\n",
       "| Female | 60 |\n",
       "| Male   | 67 |\n",
       "| Male   | 66 |\n",
       "| Male   | 64 |\n",
       "| Male   | 70 |\n",
       "| Male   | 73 |\n",
       "| Male   | 72 |\n",
       "| Male   | 69 |\n",
       "| Male   | 69 |\n",
       "| Male   | 72 |\n",
       "| Female | 64 |\n",
       "| Male   | 72 |\n",
       "| ⋮ | ⋮ |\n",
       "| Male   | 69.00000 |\n",
       "| Female | 64.20000 |\n",
       "| Male   | 72.00000 |\n",
       "| Male   | 63.00000 |\n",
       "| Female | 63.77953 |\n",
       "| Male   | 66.00000 |\n",
       "| Male   | 66.92913 |\n",
       "| Male   | 74.00000 |\n",
       "| Male   | 72.00000 |\n",
       "| Male   | 67.00000 |\n",
       "| Male   | 71.00000 |\n",
       "| Male   | 50.00000 |\n",
       "| Male   | 66.92913 |\n",
       "| Male   | 61.81102 |\n",
       "| Male   | 73.22835 |\n",
       "| Male   | 65.00000 |\n",
       "| Male   | 66.92913 |\n",
       "| Male   | 63.00000 |\n",
       "| Male   | 74.00000 |\n",
       "| Male   | 67.71650 |\n",
       "| Male   | 60.00000 |\n",
       "| Male   | 60.00000 |\n",
       "| Male   | 69.00000 |\n",
       "| Male   | 69.00000 |\n",
       "| Male   | 50.00000 |\n",
       "| Female | 69.00000 |\n",
       "| Male   | 69.00000 |\n",
       "| Male   | 63.38583 |\n",
       "| Male   | 66.00000 |\n",
       "| Male   | 66.00000 |\n",
       "\n"
      ],
      "text/plain": [
       "     sex    height  \n",
       "1    Male   75      \n",
       "2    Male   70      \n",
       "3    Male   68      \n",
       "4    Male   74      \n",
       "5    Male   61      \n",
       "6    Female 65      \n",
       "7    Female 66      \n",
       "8    Female 62      \n",
       "9    Female 66      \n",
       "10   Male   67      \n",
       "11   Male   72      \n",
       "12   Male   72      \n",
       "13   Male   69      \n",
       "14   Male   68      \n",
       "15   Male   69      \n",
       "16   Male   66      \n",
       "17   Male   75      \n",
       "18   Female 64      \n",
       "19   Female 60      \n",
       "20   Male   67      \n",
       "21   Male   66      \n",
       "22   Male   64      \n",
       "23   Male   70      \n",
       "24   Male   73      \n",
       "25   Male   72      \n",
       "26   Male   69      \n",
       "27   Male   69      \n",
       "28   Male   72      \n",
       "29   Female 64      \n",
       "30   Male   72      \n",
       "⋮    ⋮      ⋮       \n",
       "1021 Male   69.00000\n",
       "1022 Female 64.20000\n",
       "1023 Male   72.00000\n",
       "1024 Male   63.00000\n",
       "1025 Female 63.77953\n",
       "1026 Male   66.00000\n",
       "1027 Male   66.92913\n",
       "1028 Male   74.00000\n",
       "1029 Male   72.00000\n",
       "1030 Male   67.00000\n",
       "1031 Male   71.00000\n",
       "1032 Male   50.00000\n",
       "1033 Male   66.92913\n",
       "1034 Male   61.81102\n",
       "1035 Male   73.22835\n",
       "1036 Male   65.00000\n",
       "1037 Male   66.92913\n",
       "1038 Male   63.00000\n",
       "1039 Male   74.00000\n",
       "1040 Male   67.71650\n",
       "1041 Male   60.00000\n",
       "1042 Male   60.00000\n",
       "1043 Male   69.00000\n",
       "1044 Male   69.00000\n",
       "1045 Male   50.00000\n",
       "1046 Female 69.00000\n",
       "1047 Male   69.00000\n",
       "1048 Male   63.38583\n",
       "1049 Male   66.00000\n",
       "1050 Male   66.00000"
      ]
     },
     "metadata": {},
     "output_type": "display_data"
    }
   ],
   "source": [
    "heights"
   ]
  },
  {
   "cell_type": "code",
   "execution_count": 8,
   "id": "d85f3dc8-fa37-48b1-a809-efe35e37e433",
   "metadata": {},
   "outputs": [
    {
     "name": "stdout",
     "output_type": "stream",
     "text": [
      "'data.frame':\t1050 obs. of  2 variables:\n",
      " $ sex   : Factor w/ 2 levels \"Female\",\"Male\": 2 2 2 2 2 1 1 1 1 2 ...\n",
      " $ height: num  75 70 68 74 61 65 66 62 66 67 ...\n"
     ]
    }
   ],
   "source": [
    "str(heights)"
   ]
  },
  {
   "cell_type": "code",
   "execution_count": null,
   "id": "8eccabeb-2813-4fd5-96ff-3a9ed4b1a015",
   "metadata": {},
   "outputs": [],
   "source": [
    "#str gives a summary of the dataframe. factor is a categorical variable"
   ]
  },
  {
   "cell_type": "code",
   "execution_count": null,
   "id": "afde2fb8-f6b3-4b07-bbd4-3f225655505c",
   "metadata": {},
   "outputs": [],
   "source": []
  },
  {
   "cell_type": "markdown",
   "id": "8fbeea90-5b5a-4884-b3b6-a522d9e33947",
   "metadata": {},
   "source": [
    "First let's make frequency distributions for the women and men seperately.\n",
    "\n",
    "You can make some quick and dirty separate plots using a basic function and indexing..."
   ]
  },
  {
   "cell_type": "code",
   "execution_count": null,
   "id": "55cc0899-92c7-49f5-892a-6639448c33a3",
   "metadata": {},
   "outputs": [],
   "source": [
    "#"
   ]
  },
  {
   "cell_type": "code",
   "execution_count": 9,
   "id": "52dbe38a-badb-4c62-a9e4-76d99bd6ca71",
   "metadata": {},
   "outputs": [
    {
     "data": {
      "image/png": "[encoded data removed]",
      "text/plain": [
       "Plot with title “Histogram of heights$height[heights$sex == \"Male\"]”"
      ]
     },
     "metadata": {
      "image/png": {
       "height": 420,
       "width": 420
      }
     },
     "output_type": "display_data"
    },
    {
     "data": {
      "image/png": "[encoded data removed]",
      "text/plain": [
       "Plot with title “Histogram of heights$height[heights$sex == \"Female\"]”"
      ]
     },
     "metadata": {
      "image/png": {
       "height": 420,
       "width": 420
      }
     },
     "output_type": "display_data"
    }
   ],
   "source": [
    "hist(heights$height[heights$sex=='Male'])\n",
    "hist(heights$height[heights$sex=='Female'])"
   ]
  },
  {
   "cell_type": "code",
   "execution_count": null,
   "id": "3d96332d-7242-4677-af1b-bdb2338f6c04",
   "metadata": {},
   "outputs": [],
   "source": []
  },
  {
   "cell_type": "code",
   "execution_count": null,
   "id": "6e0da554-efce-4448-b517-8153546d40f3",
   "metadata": {},
   "outputs": [],
   "source": []
  },
  {
   "cell_type": "markdown",
   "id": "05022b95-27fb-42d6-a694-2399a105f0e4",
   "metadata": {},
   "source": [
    "... though it would be better if we could see all the data together on the same histogram"
   ]
  },
  {
   "cell_type": "code",
   "execution_count": null,
   "id": "5826a37f-8585-4e89-988f-7dbfacf9bd44",
   "metadata": {},
   "outputs": [],
   "source": [
    "#the dataframe is heights"
   ]
  },
  {
   "cell_type": "code",
   "execution_count": 10,
   "id": "099c6b7c-96c2-44f7-af89-6e47d33bb9cd",
   "metadata": {},
   "outputs": [
    {
     "name": "stderr",
     "output_type": "stream",
     "text": [
      "\u001b[1m\u001b[22m`stat_bin()` using `bins = 30`. Pick better value with `binwidth`.\n"
     ]
    },
    {
     "data": {
      "image/png": "[encoded data removed]",
      "text/plain": [
       "plot without title"
      ]
     },
     "metadata": {
      "image/png": {
       "height": 420,
       "width": 420
      }
     },
     "output_type": "display_data"
    }
   ],
   "source": [
    "ggplot(heights,\n",
    "       aes(x=height,\n",
    "           fill=sex)) +\n",
    "    geom_histogram()"
   ]
  },
  {
   "cell_type": "code",
   "execution_count": null,
   "id": "6d2d937a-6b4f-4915-bc24-56ea382944bb",
   "metadata": {},
   "outputs": [],
   "source": [
    "#here is the fix"
   ]
  },
  {
   "cell_type": "code",
   "execution_count": 13,
   "id": "816cca71-de49-4ee9-8899-d348b85dd2c8",
   "metadata": {},
   "outputs": [
    {
     "name": "stderr",
     "output_type": "stream",
     "text": [
      "\u001b[1m\u001b[22m`stat_bin()` using `bins = 30`. Pick better value with `binwidth`.\n"
     ]
    },
    {
     "data": {
      "image/png": "[encoded data removed]",
      "text/plain": [
       "plot without title"
      ]
     },
     "metadata": {
      "image/png": {
       "height": 420,
       "width": 420
      }
     },
     "output_type": "display_data"
    }
   ],
   "source": [
    "ggplot(heights,\n",
    "       aes(x=height,\n",
    "           fill=sex)) +\n",
    "    geom_histogram(position='identity',\n",
    "                  alpha=0.5)"
   ]
  },
  {
   "cell_type": "code",
   "execution_count": null,
   "id": "e7017460-2405-4c05-b8b6-593577548740",
   "metadata": {},
   "outputs": [],
   "source": [
    "ggplot(heights,\n",
    "       aes(x=height,\n",
    "           fill=sex)) +\n",
    "    geom_histogram(position='identity',\n",
    "                  alpha=0.5)"
   ]
  },
  {
   "cell_type": "code",
   "execution_count": null,
   "id": "cf72d458-8e14-4713-9409-d140d784e315",
   "metadata": {},
   "outputs": [],
   "source": []
  },
  {
   "cell_type": "markdown",
   "id": "c3457cc6-bd01-462d-a386-f6731ed824fa",
   "metadata": {},
   "source": [
    "Let's look at the summary statistics - you can actually make them in 1 table!"
   ]
  },
  {
   "cell_type": "code",
   "execution_count": 18,
   "id": "9246a1fe-4f0b-400f-9975-26fead9ff3ed",
   "metadata": {},
   "outputs": [],
   "source": [
    "stats_table <- heights %>%\n",
    "    group_by(sex) %>%\n",
    "    summarise(mean_height = mean(height),\n",
    "                median_height = median(height),\n",
    "            sd_height = sd(height))"
   ]
  },
  {
   "cell_type": "code",
   "execution_count": null,
   "id": "6e781035-5bf1-49da-b5fd-68f46dec4f76",
   "metadata": {},
   "outputs": [],
   "source": [
    "#sd = standard deviation"
   ]
  },
  {
   "cell_type": "code",
   "execution_count": 19,
   "id": "95fa193e-a118-4145-a4d3-3af6d4aa2b07",
   "metadata": {},
   "outputs": [
    {
     "data": {
      "text/html": [
       "<table class=\"dataframe\">\n",
       "<caption>A tibble: 2 × 4</caption>\n",
       "<thead>\n",
       "\t<tr><th scope=col>sex</th><th scope=col>mean_height</th><th scope=col>median_height</th><th scope=col>sd_height</th></tr>\n",
       "\t<tr><th scope=col>&lt;fct&gt;</th><th scope=col>&lt;dbl&gt;</th><th scope=col>&lt;dbl&gt;</th><th scope=col>&lt;dbl&gt;</th></tr>\n",
       "</thead>\n",
       "<tbody>\n",
       "\t<tr><td>Female</td><td>64.93942</td><td>64.98031</td><td>3.760656</td></tr>\n",
       "\t<tr><td>Male  </td><td>69.31475</td><td>69.00000</td><td>3.611024</td></tr>\n",
       "</tbody>\n",
       "</table>\n"
      ],
      "text/latex": [
       "A tibble: 2 × 4\n",
       "\\begin{tabular}{llll}\n",
       " sex & mean\\_height & median\\_height & sd\\_height\\\\\n",
       " <fct> & <dbl> & <dbl> & <dbl>\\\\\n",
       "\\hline\n",
       "\t Female & 64.93942 & 64.98031 & 3.760656\\\\\n",
       "\t Male   & 69.31475 & 69.00000 & 3.611024\\\\\n",
       "\\end{tabular}\n"
      ],
      "text/markdown": [
       "\n",
       "A tibble: 2 × 4\n",
       "\n",
       "| sex &lt;fct&gt; | mean_height &lt;dbl&gt; | median_height &lt;dbl&gt; | sd_height &lt;dbl&gt; |\n",
       "|---|---|---|---|\n",
       "| Female | 64.93942 | 64.98031 | 3.760656 |\n",
       "| Male   | 69.31475 | 69.00000 | 3.611024 |\n",
       "\n"
      ],
      "text/plain": [
       "  sex    mean_height median_height sd_height\n",
       "1 Female 64.93942    64.98031      3.760656 \n",
       "2 Male   69.31475    69.00000      3.611024 "
      ]
     },
     "metadata": {},
     "output_type": "display_data"
    }
   ],
   "source": [
    "stats_table"
   ]
  },
  {
   "cell_type": "code",
   "execution_count": null,
   "id": "2e25aa67-befb-4dac-9990-2fd5d8c52ef5",
   "metadata": {},
   "outputs": [],
   "source": [
    "#is this normal data? We can test this with a shapiro test"
   ]
  },
  {
   "cell_type": "code",
   "execution_count": 20,
   "id": "b85465af-f1bc-4aa7-9beb-fbae84984eaa",
   "metadata": {},
   "outputs": [
    {
     "data": {
      "text/plain": [
       "\n",
       "\tShapiro-Wilk normality test\n",
       "\n",
       "data:  heights$height[heights$sex == \"Male\"]\n",
       "W = 0.96374, p-value = 2.623e-13\n"
      ]
     },
     "metadata": {},
     "output_type": "display_data"
    }
   ],
   "source": [
    "shapiro.test(heights$height[heights$sex=='Male'])"
   ]
  },
  {
   "cell_type": "code",
   "execution_count": 21,
   "id": "4c147b11-c063-4d8e-9b24-03eaad7f636e",
   "metadata": {},
   "outputs": [
    {
     "data": {
      "text/plain": [
       "\n",
       "\tShapiro-Wilk normality test\n",
       "\n",
       "data:  heights$height[heights$sex == \"Male\"]\n",
       "W = 0.96374, p-value = 2.623e-13\n"
      ]
     },
     "metadata": {},
     "output_type": "display_data"
    }
   ],
   "source": [
    "shapiro.test(heights$height[heights$sex=='Male'])"
   ]
  },
  {
   "cell_type": "markdown",
   "id": "fbb26732-64cf-4083-843f-2a5bd0c67c23",
   "metadata": {},
   "source": [
    "Lets try visualising the data in terms of probability distributions"
   ]
  },
  {
   "cell_type": "code",
   "execution_count": 22,
   "id": "1cb5ec35-c91c-4b6d-8fea-bb5c233e62c1",
   "metadata": {},
   "outputs": [
    {
     "data": {
      "image/png": "[encoded data removed]",
      "text/plain": [
       "plot without title"
      ]
     },
     "metadata": {
      "image/png": {
       "height": 420,
       "width": 420
      }
     },
     "output_type": "display_data"
    }
   ],
   "source": [
    "ggplot(heights,\n",
    "       aes(x = height,\n",
    "           fill = sex)) +\n",
    "    geom_density(alpha=0.5)"
   ]
  },
  {
   "cell_type": "code",
   "execution_count": null,
   "id": "110f02a6-d8e6-47b2-9b34-cafaedd1234e",
   "metadata": {},
   "outputs": [],
   "source": [
    "#The area on this plot adds up to 1, so there is 100% chance that you fall on the scale (if you are part of the data), the overlap represents men and women with same height"
   ]
  },
  {
   "cell_type": "markdown",
   "id": "645a80ee-dadf-4726-9e53-214382f49997",
   "metadata": {},
   "source": [
    "Now we are ready to run a hypothesis test. Are men taller than women? What sort of t test should we do?"
   ]
  },
  {
   "cell_type": "code",
   "execution_count": 23,
   "id": "acebb9d7-4d7f-4239-b24a-e26ced6d28ab",
   "metadata": {},
   "outputs": [
    {
     "data": {
      "text/plain": [
       "\n",
       "\tWelch Two Sample t-test\n",
       "\n",
       "data:  height by sex\n",
       "t = -15.925, df = 374.41, p-value < 2.2e-16\n",
       "alternative hypothesis: true difference in means between group Female and group Male is not equal to 0\n",
       "95 percent confidence interval:\n",
       " -4.915553 -3.835108\n",
       "sample estimates:\n",
       "mean in group Female   mean in group Male \n",
       "            64.93942             69.31475 \n"
      ]
     },
     "metadata": {},
     "output_type": "display_data"
    }
   ],
   "source": [
    "t.test(height ~ sex, data=heights)"
   ]
  },
  {
   "cell_type": "code",
   "execution_count": null,
   "id": "1d0e0c06-9b68-46b4-8543-1ca148545859",
   "metadata": {},
   "outputs": [],
   "source": [
    "# tilde ~ defines the relationship between data, and our dataframe is heights"
   ]
  },
  {
   "cell_type": "code",
   "execution_count": null,
   "id": "54035c96-7455-4874-9613-dd5f0960ffc6",
   "metadata": {},
   "outputs": [],
   "source": [
    "# with the hypothesis test we are not confirming that there is a difference, rather we are rejecting that there is no difference.The base hypothesis is no difference"
   ]
  },
  {
   "cell_type": "markdown",
   "id": "2d87bca0-39e1-490c-8928-f2d5473cd164",
   "metadata": {},
   "source": [
    "# Exercise 2 - Some more messy real world data"
   ]
  },
  {
   "cell_type": "markdown",
   "id": "ba2a4ed7-f398-4276-9591-9561f15ff515",
   "metadata": {},
   "source": [
    "We have been dealing with data that is fairly well organised. Let's look at some data that is slightly more messy\n",
    "\n",
    "Install and load the fuelconomy package, which has fuel economy data from the EPA: https://cran.r-project.org/web/packages/fueleconomy/fueleconomy.pdf"
   ]
  },
  {
   "cell_type": "code",
   "execution_count": 28,
   "id": "a04b6535-5398-4bbe-9537-727820277757",
   "metadata": {},
   "outputs": [
    {
     "name": "stderr",
     "output_type": "stream",
     "text": [
      "Installing package into ‘/usr/local/spark-3.5.2-bin-hadoop3/R/lib’\n",
      "(as ‘lib’ is unspecified)\n",
      "\n"
     ]
    }
   ],
   "source": [
    "install.packages('fueleconomy')"
   ]
  },
  {
   "cell_type": "code",
   "execution_count": 27,
   "id": "1f6f02a2-4675-486d-9f44-9875031429f3",
   "metadata": {},
   "outputs": [],
   "source": [
    "library(fueleconomy)"
   ]
  },
  {
   "cell_type": "code",
   "execution_count": 29,
   "id": "a95f0655-da33-4bb4-a68f-ac05b9854666",
   "metadata": {},
   "outputs": [],
   "source": [
    "data(vehicles)"
   ]
  },
  {
   "cell_type": "code",
   "execution_count": 30,
   "id": "3b9804ee-1648-4016-8552-4f5d0a3079d8",
   "metadata": {
    "scrolled": true
   },
   "outputs": [
    {
     "data": {
      "text/html": [
       "<table class=\"dataframe\">\n",
       "<caption>A tibble: 33442 × 12</caption>\n",
       "<thead>\n",
       "\t<tr><th scope=col>id</th><th scope=col>make</th><th scope=col>model</th><th scope=col>year</th><th scope=col>class</th><th scope=col>trans</th><th scope=col>drive</th><th scope=col>cyl</th><th scope=col>displ</th><th scope=col>fuel</th><th scope=col>hwy</th><th scope=col>cty</th></tr>\n",
       "\t<tr><th scope=col>&lt;dbl&gt;</th><th scope=col>&lt;chr&gt;</th><th scope=col>&lt;chr&gt;</th><th scope=col>&lt;dbl&gt;</th><th scope=col>&lt;chr&gt;</th><th scope=col>&lt;chr&gt;</th><th scope=col>&lt;chr&gt;</th><th scope=col>&lt;dbl&gt;</th><th scope=col>&lt;dbl&gt;</th><th scope=col>&lt;chr&gt;</th><th scope=col>&lt;dbl&gt;</th><th scope=col>&lt;dbl&gt;</th></tr>\n",
       "</thead>\n",
       "<tbody>\n",
       "\t<tr><td>13309</td><td>Acura</td><td>2.2CL/3.0CL</td><td>1997</td><td>Subcompact Cars</td><td>Automatic 4-spd</td><td>Front-Wheel Drive</td><td>4</td><td>2.2</td><td>Regular</td><td>26</td><td>20</td></tr>\n",
       "\t<tr><td>13310</td><td>Acura</td><td>2.2CL/3.0CL</td><td>1997</td><td>Subcompact Cars</td><td>Manual 5-spd   </td><td>Front-Wheel Drive</td><td>4</td><td>2.2</td><td>Regular</td><td>28</td><td>22</td></tr>\n",
       "\t<tr><td>13311</td><td>Acura</td><td>2.2CL/3.0CL</td><td>1997</td><td>Subcompact Cars</td><td>Automatic 4-spd</td><td>Front-Wheel Drive</td><td>6</td><td>3.0</td><td>Regular</td><td>26</td><td>18</td></tr>\n",
       "\t<tr><td>14038</td><td>Acura</td><td>2.3CL/3.0CL</td><td>1998</td><td>Subcompact Cars</td><td>Automatic 4-spd</td><td>Front-Wheel Drive</td><td>4</td><td>2.3</td><td>Regular</td><td>27</td><td>19</td></tr>\n",
       "\t<tr><td>14039</td><td>Acura</td><td>2.3CL/3.0CL</td><td>1998</td><td>Subcompact Cars</td><td>Manual 5-spd   </td><td>Front-Wheel Drive</td><td>4</td><td>2.3</td><td>Regular</td><td>29</td><td>21</td></tr>\n",
       "\t<tr><td>14040</td><td>Acura</td><td>2.3CL/3.0CL</td><td>1998</td><td>Subcompact Cars</td><td>Automatic 4-spd</td><td>Front-Wheel Drive</td><td>6</td><td>3.0</td><td>Regular</td><td>26</td><td>17</td></tr>\n",
       "\t<tr><td>14834</td><td>Acura</td><td>2.3CL/3.0CL</td><td>1999</td><td>Subcompact Cars</td><td>Automatic 4-spd</td><td>Front-Wheel Drive</td><td>4</td><td>2.3</td><td>Regular</td><td>27</td><td>20</td></tr>\n",
       "\t<tr><td>14835</td><td>Acura</td><td>2.3CL/3.0CL</td><td>1999</td><td>Subcompact Cars</td><td>Manual 5-spd   </td><td>Front-Wheel Drive</td><td>4</td><td>2.3</td><td>Regular</td><td>29</td><td>21</td></tr>\n",
       "\t<tr><td>14836</td><td>Acura</td><td>2.3CL/3.0CL</td><td>1999</td><td>Subcompact Cars</td><td>Automatic 4-spd</td><td>Front-Wheel Drive</td><td>6</td><td>3.0</td><td>Regular</td><td>26</td><td>17</td></tr>\n",
       "\t<tr><td>11789</td><td>Acura</td><td>2.5TL      </td><td>1995</td><td>Compact Cars   </td><td>Automatic 4-spd</td><td>Front-Wheel Drive</td><td>5</td><td>2.5</td><td>Premium</td><td>23</td><td>18</td></tr>\n",
       "\t<tr><td>12673</td><td>Acura</td><td>2.5TL/3.2TL</td><td>1996</td><td>Compact Cars   </td><td>Automatic 4-spd</td><td>Front-Wheel Drive</td><td>5</td><td>2.5</td><td>Premium</td><td>23</td><td>18</td></tr>\n",
       "\t<tr><td>12674</td><td>Acura</td><td>2.5TL/3.2TL</td><td>1996</td><td>Compact Cars   </td><td>Automatic 4-spd</td><td>Front-Wheel Drive</td><td>6</td><td>3.2</td><td>Premium</td><td>22</td><td>17</td></tr>\n",
       "\t<tr><td>13421</td><td>Acura</td><td>2.5TL/3.2TL</td><td>1997</td><td>Compact Cars   </td><td>Automatic 4-spd</td><td>Front-Wheel Drive</td><td>5</td><td>2.5</td><td>Premium</td><td>23</td><td>18</td></tr>\n",
       "\t<tr><td>13422</td><td>Acura</td><td>2.5TL/3.2TL</td><td>1997</td><td>Compact Cars   </td><td>Automatic 4-spd</td><td>Front-Wheel Drive</td><td>6</td><td>3.2</td><td>Premium</td><td>22</td><td>17</td></tr>\n",
       "\t<tr><td>14163</td><td>Acura</td><td>2.5TL/3.2TL</td><td>1998</td><td>Compact Cars   </td><td>Automatic 4-spd</td><td>Front-Wheel Drive</td><td>5</td><td>2.5</td><td>Premium</td><td>23</td><td>17</td></tr>\n",
       "\t<tr><td>14164</td><td>Acura</td><td>2.5TL/3.2TL</td><td>1998</td><td>Compact Cars   </td><td>Automatic 4-spd</td><td>Front-Wheel Drive</td><td>6</td><td>3.2</td><td>Premium</td><td>22</td><td>17</td></tr>\n",
       "\t<tr><td>16573</td><td>Acura</td><td>3.2CL      </td><td>2001</td><td>Compact Cars   </td><td>Automatic (S5) </td><td>Front-Wheel Drive</td><td>6</td><td>3.2</td><td>Premium</td><td>27</td><td>17</td></tr>\n",
       "\t<tr><td>17489</td><td>Acura</td><td>3.2CL      </td><td>2002</td><td>Compact Cars   </td><td>Automatic (S5) </td><td>Front-Wheel Drive</td><td>6</td><td>3.2</td><td>Premium</td><td>27</td><td>17</td></tr>\n",
       "\t<tr><td>18458</td><td>Acura</td><td>3.2CL      </td><td>2003</td><td>Compact Cars   </td><td>Manual 6-spd   </td><td>Front-Wheel Drive</td><td>6</td><td>3.2</td><td>Premium</td><td>26</td><td>17</td></tr>\n",
       "\t<tr><td>18459</td><td>Acura</td><td>3.2CL      </td><td>2003</td><td>Compact Cars   </td><td>Automatic (S5) </td><td>Front-Wheel Drive</td><td>6</td><td>3.2</td><td>Premium</td><td>27</td><td>17</td></tr>\n",
       "\t<tr><td>15069</td><td>Acura</td><td>3.2TL      </td><td>1999</td><td>Midsize Cars   </td><td>Automatic 4-spd</td><td>Front-Wheel Drive</td><td>6</td><td>3.2</td><td>Premium</td><td>25</td><td>17</td></tr>\n",
       "\t<tr><td>15871</td><td>Acura</td><td>3.2TL      </td><td>2000</td><td>Midsize Cars   </td><td>Automatic 5-spd</td><td>Front-Wheel Drive</td><td>6</td><td>3.2</td><td>Premium</td><td>27</td><td>17</td></tr>\n",
       "\t<tr><td>16734</td><td>Acura</td><td>3.2TL      </td><td>2001</td><td>Midsize Cars   </td><td>Automatic (S5) </td><td>Front-Wheel Drive</td><td>6</td><td>3.2</td><td>Premium</td><td>27</td><td>17</td></tr>\n",
       "\t<tr><td>17664</td><td>Acura</td><td>3.2TL      </td><td>2002</td><td>Midsize Cars   </td><td>Automatic (S5) </td><td>Front-Wheel Drive</td><td>6</td><td>3.2</td><td>Premium</td><td>27</td><td>17</td></tr>\n",
       "\t<tr><td>18629</td><td>Acura</td><td>3.2TL      </td><td>2003</td><td>Midsize Cars   </td><td>Automatic (S5) </td><td>Front-Wheel Drive</td><td>6</td><td>3.2</td><td>Premium</td><td>27</td><td>17</td></tr>\n",
       "\t<tr><td>12801</td><td>Acura</td><td>3.5RL      </td><td>1996</td><td>Midsize Cars   </td><td>Automatic 4-spd</td><td>Front-Wheel Drive</td><td>6</td><td>3.5</td><td>Premium</td><td>23</td><td>17</td></tr>\n",
       "\t<tr><td>13537</td><td>Acura</td><td>3.5RL      </td><td>1997</td><td>Midsize Cars   </td><td>Automatic 4-spd</td><td>Front-Wheel Drive</td><td>6</td><td>3.5</td><td>Premium</td><td>23</td><td>17</td></tr>\n",
       "\t<tr><td>14278</td><td>Acura</td><td>3.5RL      </td><td>1998</td><td>Midsize Cars   </td><td>Automatic 4-spd</td><td>Front-Wheel Drive</td><td>6</td><td>3.5</td><td>Premium</td><td>23</td><td>17</td></tr>\n",
       "\t<tr><td>15070</td><td>Acura</td><td>3.5RL      </td><td>1999</td><td>Midsize Cars   </td><td>Automatic 4-spd</td><td>Front-Wheel Drive</td><td>6</td><td>3.5</td><td>Premium</td><td>22</td><td>16</td></tr>\n",
       "\t<tr><td>15872</td><td>Acura</td><td>3.5RL      </td><td>2000</td><td>Midsize Cars   </td><td>Automatic 4-spd</td><td>Front-Wheel Drive</td><td>6</td><td>3.5</td><td>Premium</td><td>22</td><td>16</td></tr>\n",
       "\t<tr><td>⋮</td><td>⋮</td><td>⋮</td><td>⋮</td><td>⋮</td><td>⋮</td><td>⋮</td><td>⋮</td><td>⋮</td><td>⋮</td><td>⋮</td><td>⋮</td></tr>\n",
       "\t<tr><td> 8619</td><td>Wallace Environmental</td><td>Wetl 300 SL      </td><td>1992</td><td>Minicompact Cars            </td><td>Automatic 4-spd</td><td>Rear-Wheel Drive </td><td> 6</td><td>2.9</td><td>Premium</td><td>16</td><td>15</td></tr>\n",
       "\t<tr><td> 8103</td><td>Wallace Environmental</td><td>Wetl 300 TE      </td><td>1991</td><td>Midsize-Large Station Wagons</td><td>Automatic 4-spd</td><td>Rear-Wheel Drive </td><td> 6</td><td>2.9</td><td>Premium</td><td>16</td><td>15</td></tr>\n",
       "\t<tr><td> 9187</td><td>Wallace Environmental</td><td>Wetl 300 TE      </td><td>1992</td><td>Midsize-Large Station Wagons</td><td>Automatic 4-spd</td><td>Rear-Wheel Drive </td><td> 6</td><td>2.9</td><td>Premium</td><td>16</td><td>15</td></tr>\n",
       "\t<tr><td> 7905</td><td>Wallace Environmental</td><td>Wetl 412         </td><td>1991</td><td>Compact Cars                </td><td>Manual 5-spd   </td><td>Rear-Wheel Drive </td><td>12</td><td>4.9</td><td>Premium</td><td>13</td><td> 8</td></tr>\n",
       "\t<tr><td>28930</td><td>Wallace Environmental</td><td>Wetl 412         </td><td>1992</td><td>Compact Cars                </td><td>Manual 5-spd   </td><td>Rear-Wheel Drive </td><td>12</td><td>4.9</td><td>Premium</td><td>13</td><td> 9</td></tr>\n",
       "\t<tr><td>28897</td><td>Wallace Environmental</td><td>Wetl 500 SE      </td><td>1991</td><td>Compact Cars                </td><td>Automatic 4-spd</td><td>Rear-Wheel Drive </td><td> 8</td><td>5.6</td><td>Premium</td><td>15</td><td>11</td></tr>\n",
       "\t<tr><td>28931</td><td>Wallace Environmental</td><td>Wetl 500 SE      </td><td>1992</td><td>Compact Cars                </td><td>Automatic 4-spd</td><td>Rear-Wheel Drive </td><td> 8</td><td>5.6</td><td>Premium</td><td>15</td><td>11</td></tr>\n",
       "\t<tr><td>28898</td><td>Wallace Environmental</td><td>Wetl 500 SEC     </td><td>1991</td><td>Compact Cars                </td><td>Automatic 4-spd</td><td>Rear-Wheel Drive </td><td> 8</td><td>5.6</td><td>Premium</td><td>15</td><td>11</td></tr>\n",
       "\t<tr><td>28932</td><td>Wallace Environmental</td><td>Wetl 500 SEC     </td><td>1992</td><td>Compact Cars                </td><td>Automatic 4-spd</td><td>Rear-Wheel Drive </td><td> 8</td><td>5.6</td><td>Premium</td><td>15</td><td>11</td></tr>\n",
       "\t<tr><td>28901</td><td>Wallace Environmental</td><td>Wetl 500 SEL     </td><td>1991</td><td>Midsize Cars                </td><td>Automatic 4-spd</td><td>Rear-Wheel Drive </td><td> 8</td><td>5.6</td><td>Premium</td><td>15</td><td>11</td></tr>\n",
       "\t<tr><td>28947</td><td>Wallace Environmental</td><td>Wetl 500 SEL     </td><td>1992</td><td>Midsize Cars                </td><td>Automatic 4-spd</td><td>Rear-Wheel Drive </td><td> 8</td><td>5.6</td><td>Premium</td><td>15</td><td>11</td></tr>\n",
       "\t<tr><td>28890</td><td>Wallace Environmental</td><td>Wetl 500 SL      </td><td>1991</td><td>Two Seaters                 </td><td>Automatic 4-spd</td><td>Rear-Wheel Drive </td><td> 8</td><td>5.6</td><td>Premium</td><td>15</td><td>11</td></tr>\n",
       "\t<tr><td>28899</td><td>Wallace Environmental</td><td>Wetl 560 SEC     </td><td>1991</td><td>Compact Cars                </td><td>Automatic 4-spd</td><td>Rear-Wheel Drive </td><td> 8</td><td>5.6</td><td>Premium</td><td>15</td><td>11</td></tr>\n",
       "\t<tr><td>28933</td><td>Wallace Environmental</td><td>Wetl 560 SEC     </td><td>1992</td><td>Compact Cars                </td><td>Automatic 4-spd</td><td>Rear-Wheel Drive </td><td> 8</td><td>5.6</td><td>Premium</td><td>15</td><td>11</td></tr>\n",
       "\t<tr><td>28902</td><td>Wallace Environmental</td><td>Wetl 560 SEL     </td><td>1991</td><td>Midsize Cars                </td><td>Automatic 4-spd</td><td>Rear-Wheel Drive </td><td> 8</td><td>5.6</td><td>Premium</td><td>15</td><td>11</td></tr>\n",
       "\t<tr><td>28948</td><td>Wallace Environmental</td><td>Wetl 560 SEL     </td><td>1992</td><td>Midsize Cars                </td><td>Automatic 4-spd</td><td>Rear-Wheel Drive </td><td> 8</td><td>5.6</td><td>Premium</td><td>15</td><td>11</td></tr>\n",
       "\t<tr><td>28891</td><td>Wallace Environmental</td><td>Wetl 560 SL      </td><td>1991</td><td>Two Seaters                 </td><td>Automatic 4-spd</td><td>Rear-Wheel Drive </td><td> 8</td><td>5.6</td><td>Premium</td><td>15</td><td>11</td></tr>\n",
       "\t<tr><td>28950</td><td>Wallace Environmental</td><td>Wetl 600 SEL     </td><td>1992</td><td>Large Cars                  </td><td>Automatic 4-spd</td><td>Rear-Wheel Drive </td><td>12</td><td>6.0</td><td>Premium</td><td>14</td><td>11</td></tr>\n",
       "\t<tr><td>28924</td><td>Wallace Environmental</td><td>Wetl 850I        </td><td>1992</td><td>Subcompact Cars             </td><td>Automatic 4-spd</td><td>Rear-Wheel Drive </td><td>12</td><td>5.0</td><td>Premium</td><td>17</td><td>11</td></tr>\n",
       "\t<tr><td>28925</td><td>Wallace Environmental</td><td>Wetl 850I        </td><td>1992</td><td>Subcompact Cars             </td><td>Manual 6-spd   </td><td>Rear-Wheel Drive </td><td>12</td><td>5.0</td><td>Premium</td><td>17</td><td>10</td></tr>\n",
       "\t<tr><td> 7497</td><td>Wallace Environmental</td><td>Wetl Testarossa  </td><td>1991</td><td>Two Seaters                 </td><td>Manual 5-spd   </td><td>Rear-Wheel Drive </td><td>12</td><td>4.9</td><td>Premium</td><td>15</td><td> 9</td></tr>\n",
       "\t<tr><td>28917</td><td>Wallace Environmental</td><td>Wetl Testarossa  </td><td>1992</td><td>Two Seaters                 </td><td>Manual 5-spd   </td><td>Rear-Wheel Drive </td><td>12</td><td>4.9</td><td>Premium</td><td>14</td><td> 9</td></tr>\n",
       "\t<tr><td> 4358</td><td>Yugo                 </td><td>GV               </td><td>1988</td><td>Subcompact Cars             </td><td>Manual 4-spd   </td><td>Front-Wheel Drive</td><td> 4</td><td>1.1</td><td>Regular</td><td>29</td><td>24</td></tr>\n",
       "\t<tr><td> 4359</td><td>Yugo                 </td><td>GV               </td><td>1988</td><td>Subcompact Cars             </td><td>Manual 5-spd   </td><td>Front-Wheel Drive</td><td> 4</td><td>1.3</td><td>Regular</td><td>27</td><td>23</td></tr>\n",
       "\t<tr><td>28868</td><td>Yugo                 </td><td>GV Plus/GV/Cabrio</td><td>1990</td><td>Minicompact Cars            </td><td>Manual 4-spd   </td><td>Front-Wheel Drive</td><td> 4</td><td>1.3</td><td>Regular</td><td>27</td><td>21</td></tr>\n",
       "\t<tr><td> 6635</td><td>Yugo                 </td><td>GV Plus/GV/Cabrio</td><td>1990</td><td>Subcompact Cars             </td><td>Manual 5-spd   </td><td>Front-Wheel Drive</td><td> 4</td><td>1.3</td><td>Regular</td><td>28</td><td>23</td></tr>\n",
       "\t<tr><td> 3157</td><td>Yugo                 </td><td>GV/GVX           </td><td>1987</td><td>Subcompact Cars             </td><td>Manual 4-spd   </td><td>Front-Wheel Drive</td><td> 4</td><td>1.1</td><td>Regular</td><td>29</td><td>24</td></tr>\n",
       "\t<tr><td> 5497</td><td>Yugo                 </td><td>GV/GVX           </td><td>1989</td><td>Subcompact Cars             </td><td>Manual 4-spd   </td><td>Front-Wheel Drive</td><td> 4</td><td>1.1</td><td>Regular</td><td>29</td><td>24</td></tr>\n",
       "\t<tr><td> 5498</td><td>Yugo                 </td><td>GV/GVX           </td><td>1989</td><td>Subcompact Cars             </td><td>Manual 5-spd   </td><td>Front-Wheel Drive</td><td> 4</td><td>1.3</td><td>Regular</td><td>28</td><td>23</td></tr>\n",
       "\t<tr><td> 1745</td><td>Yugo                 </td><td>Gy/yugo GVX      </td><td>1986</td><td>Minicompact Cars            </td><td>Manual 4-spd   </td><td>Front-Wheel Drive</td><td> 4</td><td>1.1</td><td>Regular</td><td>29</td><td>22</td></tr>\n",
       "</tbody>\n",
       "</table>\n"
      ],
      "text/latex": [
       "A tibble: 33442 × 12\n",
       "\\begin{tabular}{llllllllllll}\n",
       " id & make & model & year & class & trans & drive & cyl & displ & fuel & hwy & cty\\\\\n",
       " <dbl> & <chr> & <chr> & <dbl> & <chr> & <chr> & <chr> & <dbl> & <dbl> & <chr> & <dbl> & <dbl>\\\\\n",
       "\\hline\n",
       "\t 13309 & Acura & 2.2CL/3.0CL & 1997 & Subcompact Cars & Automatic 4-spd & Front-Wheel Drive & 4 & 2.2 & Regular & 26 & 20\\\\\n",
       "\t 13310 & Acura & 2.2CL/3.0CL & 1997 & Subcompact Cars & Manual 5-spd    & Front-Wheel Drive & 4 & 2.2 & Regular & 28 & 22\\\\\n",
       "\t 13311 & Acura & 2.2CL/3.0CL & 1997 & Subcompact Cars & Automatic 4-spd & Front-Wheel Drive & 6 & 3.0 & Regular & 26 & 18\\\\\n",
       "\t 14038 & Acura & 2.3CL/3.0CL & 1998 & Subcompact Cars & Automatic 4-spd & Front-Wheel Drive & 4 & 2.3 & Regular & 27 & 19\\\\\n",
       "\t 14039 & Acura & 2.3CL/3.0CL & 1998 & Subcompact Cars & Manual 5-spd    & Front-Wheel Drive & 4 & 2.3 & Regular & 29 & 21\\\\\n",
       "\t 14040 & Acura & 2.3CL/3.0CL & 1998 & Subcompact Cars & Automatic 4-spd & Front-Wheel Drive & 6 & 3.0 & Regular & 26 & 17\\\\\n",
       "\t 14834 & Acura & 2.3CL/3.0CL & 1999 & Subcompact Cars & Automatic 4-spd & Front-Wheel Drive & 4 & 2.3 & Regular & 27 & 20\\\\\n",
       "\t 14835 & Acura & 2.3CL/3.0CL & 1999 & Subcompact Cars & Manual 5-spd    & Front-Wheel Drive & 4 & 2.3 & Regular & 29 & 21\\\\\n",
       "\t 14836 & Acura & 2.3CL/3.0CL & 1999 & Subcompact Cars & Automatic 4-spd & Front-Wheel Drive & 6 & 3.0 & Regular & 26 & 17\\\\\n",
       "\t 11789 & Acura & 2.5TL       & 1995 & Compact Cars    & Automatic 4-spd & Front-Wheel Drive & 5 & 2.5 & Premium & 23 & 18\\\\\n",
       "\t 12673 & Acura & 2.5TL/3.2TL & 1996 & Compact Cars    & Automatic 4-spd & Front-Wheel Drive & 5 & 2.5 & Premium & 23 & 18\\\\\n",
       "\t 12674 & Acura & 2.5TL/3.2TL & 1996 & Compact Cars    & Automatic 4-spd & Front-Wheel Drive & 6 & 3.2 & Premium & 22 & 17\\\\\n",
       "\t 13421 & Acura & 2.5TL/3.2TL & 1997 & Compact Cars    & Automatic 4-spd & Front-Wheel Drive & 5 & 2.5 & Premium & 23 & 18\\\\\n",
       "\t 13422 & Acura & 2.5TL/3.2TL & 1997 & Compact Cars    & Automatic 4-spd & Front-Wheel Drive & 6 & 3.2 & Premium & 22 & 17\\\\\n",
       "\t 14163 & Acura & 2.5TL/3.2TL & 1998 & Compact Cars    & Automatic 4-spd & Front-Wheel Drive & 5 & 2.5 & Premium & 23 & 17\\\\\n",
       "\t 14164 & Acura & 2.5TL/3.2TL & 1998 & Compact Cars    & Automatic 4-spd & Front-Wheel Drive & 6 & 3.2 & Premium & 22 & 17\\\\\n",
       "\t 16573 & Acura & 3.2CL       & 2001 & Compact Cars    & Automatic (S5)  & Front-Wheel Drive & 6 & 3.2 & Premium & 27 & 17\\\\\n",
       "\t 17489 & Acura & 3.2CL       & 2002 & Compact Cars    & Automatic (S5)  & Front-Wheel Drive & 6 & 3.2 & Premium & 27 & 17\\\\\n",
       "\t 18458 & Acura & 3.2CL       & 2003 & Compact Cars    & Manual 6-spd    & Front-Wheel Drive & 6 & 3.2 & Premium & 26 & 17\\\\\n",
       "\t 18459 & Acura & 3.2CL       & 2003 & Compact Cars    & Automatic (S5)  & Front-Wheel Drive & 6 & 3.2 & Premium & 27 & 17\\\\\n",
       "\t 15069 & Acura & 3.2TL       & 1999 & Midsize Cars    & Automatic 4-spd & Front-Wheel Drive & 6 & 3.2 & Premium & 25 & 17\\\\\n",
       "\t 15871 & Acura & 3.2TL       & 2000 & Midsize Cars    & Automatic 5-spd & Front-Wheel Drive & 6 & 3.2 & Premium & 27 & 17\\\\\n",
       "\t 16734 & Acura & 3.2TL       & 2001 & Midsize Cars    & Automatic (S5)  & Front-Wheel Drive & 6 & 3.2 & Premium & 27 & 17\\\\\n",
       "\t 17664 & Acura & 3.2TL       & 2002 & Midsize Cars    & Automatic (S5)  & Front-Wheel Drive & 6 & 3.2 & Premium & 27 & 17\\\\\n",
       "\t 18629 & Acura & 3.2TL       & 2003 & Midsize Cars    & Automatic (S5)  & Front-Wheel Drive & 6 & 3.2 & Premium & 27 & 17\\\\\n",
       "\t 12801 & Acura & 3.5RL       & 1996 & Midsize Cars    & Automatic 4-spd & Front-Wheel Drive & 6 & 3.5 & Premium & 23 & 17\\\\\n",
       "\t 13537 & Acura & 3.5RL       & 1997 & Midsize Cars    & Automatic 4-spd & Front-Wheel Drive & 6 & 3.5 & Premium & 23 & 17\\\\\n",
       "\t 14278 & Acura & 3.5RL       & 1998 & Midsize Cars    & Automatic 4-spd & Front-Wheel Drive & 6 & 3.5 & Premium & 23 & 17\\\\\n",
       "\t 15070 & Acura & 3.5RL       & 1999 & Midsize Cars    & Automatic 4-spd & Front-Wheel Drive & 6 & 3.5 & Premium & 22 & 16\\\\\n",
       "\t 15872 & Acura & 3.5RL       & 2000 & Midsize Cars    & Automatic 4-spd & Front-Wheel Drive & 6 & 3.5 & Premium & 22 & 16\\\\\n",
       "\t ⋮ & ⋮ & ⋮ & ⋮ & ⋮ & ⋮ & ⋮ & ⋮ & ⋮ & ⋮ & ⋮ & ⋮\\\\\n",
       "\t  8619 & Wallace Environmental & Wetl 300 SL       & 1992 & Minicompact Cars             & Automatic 4-spd & Rear-Wheel Drive  &  6 & 2.9 & Premium & 16 & 15\\\\\n",
       "\t  8103 & Wallace Environmental & Wetl 300 TE       & 1991 & Midsize-Large Station Wagons & Automatic 4-spd & Rear-Wheel Drive  &  6 & 2.9 & Premium & 16 & 15\\\\\n",
       "\t  9187 & Wallace Environmental & Wetl 300 TE       & 1992 & Midsize-Large Station Wagons & Automatic 4-spd & Rear-Wheel Drive  &  6 & 2.9 & Premium & 16 & 15\\\\\n",
       "\t  7905 & Wallace Environmental & Wetl 412          & 1991 & Compact Cars                 & Manual 5-spd    & Rear-Wheel Drive  & 12 & 4.9 & Premium & 13 &  8\\\\\n",
       "\t 28930 & Wallace Environmental & Wetl 412          & 1992 & Compact Cars                 & Manual 5-spd    & Rear-Wheel Drive  & 12 & 4.9 & Premium & 13 &  9\\\\\n",
       "\t 28897 & Wallace Environmental & Wetl 500 SE       & 1991 & Compact Cars                 & Automatic 4-spd & Rear-Wheel Drive  &  8 & 5.6 & Premium & 15 & 11\\\\\n",
       "\t 28931 & Wallace Environmental & Wetl 500 SE       & 1992 & Compact Cars                 & Automatic 4-spd & Rear-Wheel Drive  &  8 & 5.6 & Premium & 15 & 11\\\\\n",
       "\t 28898 & Wallace Environmental & Wetl 500 SEC      & 1991 & Compact Cars                 & Automatic 4-spd & Rear-Wheel Drive  &  8 & 5.6 & Premium & 15 & 11\\\\\n",
       "\t 28932 & Wallace Environmental & Wetl 500 SEC      & 1992 & Compact Cars                 & Automatic 4-spd & Rear-Wheel Drive  &  8 & 5.6 & Premium & 15 & 11\\\\\n",
       "\t 28901 & Wallace Environmental & Wetl 500 SEL      & 1991 & Midsize Cars                 & Automatic 4-spd & Rear-Wheel Drive  &  8 & 5.6 & Premium & 15 & 11\\\\\n",
       "\t 28947 & Wallace Environmental & Wetl 500 SEL      & 1992 & Midsize Cars                 & Automatic 4-spd & Rear-Wheel Drive  &  8 & 5.6 & Premium & 15 & 11\\\\\n",
       "\t 28890 & Wallace Environmental & Wetl 500 SL       & 1991 & Two Seaters                  & Automatic 4-spd & Rear-Wheel Drive  &  8 & 5.6 & Premium & 15 & 11\\\\\n",
       "\t 28899 & Wallace Environmental & Wetl 560 SEC      & 1991 & Compact Cars                 & Automatic 4-spd & Rear-Wheel Drive  &  8 & 5.6 & Premium & 15 & 11\\\\\n",
       "\t 28933 & Wallace Environmental & Wetl 560 SEC      & 1992 & Compact Cars                 & Automatic 4-spd & Rear-Wheel Drive  &  8 & 5.6 & Premium & 15 & 11\\\\\n",
       "\t 28902 & Wallace Environmental & Wetl 560 SEL      & 1991 & Midsize Cars                 & Automatic 4-spd & Rear-Wheel Drive  &  8 & 5.6 & Premium & 15 & 11\\\\\n",
       "\t 28948 & Wallace Environmental & Wetl 560 SEL      & 1992 & Midsize Cars                 & Automatic 4-spd & Rear-Wheel Drive  &  8 & 5.6 & Premium & 15 & 11\\\\\n",
       "\t 28891 & Wallace Environmental & Wetl 560 SL       & 1991 & Two Seaters                  & Automatic 4-spd & Rear-Wheel Drive  &  8 & 5.6 & Premium & 15 & 11\\\\\n",
       "\t 28950 & Wallace Environmental & Wetl 600 SEL      & 1992 & Large Cars                   & Automatic 4-spd & Rear-Wheel Drive  & 12 & 6.0 & Premium & 14 & 11\\\\\n",
       "\t 28924 & Wallace Environmental & Wetl 850I         & 1992 & Subcompact Cars              & Automatic 4-spd & Rear-Wheel Drive  & 12 & 5.0 & Premium & 17 & 11\\\\\n",
       "\t 28925 & Wallace Environmental & Wetl 850I         & 1992 & Subcompact Cars              & Manual 6-spd    & Rear-Wheel Drive  & 12 & 5.0 & Premium & 17 & 10\\\\\n",
       "\t  7497 & Wallace Environmental & Wetl Testarossa   & 1991 & Two Seaters                  & Manual 5-spd    & Rear-Wheel Drive  & 12 & 4.9 & Premium & 15 &  9\\\\\n",
       "\t 28917 & Wallace Environmental & Wetl Testarossa   & 1992 & Two Seaters                  & Manual 5-spd    & Rear-Wheel Drive  & 12 & 4.9 & Premium & 14 &  9\\\\\n",
       "\t  4358 & Yugo                  & GV                & 1988 & Subcompact Cars              & Manual 4-spd    & Front-Wheel Drive &  4 & 1.1 & Regular & 29 & 24\\\\\n",
       "\t  4359 & Yugo                  & GV                & 1988 & Subcompact Cars              & Manual 5-spd    & Front-Wheel Drive &  4 & 1.3 & Regular & 27 & 23\\\\\n",
       "\t 28868 & Yugo                  & GV Plus/GV/Cabrio & 1990 & Minicompact Cars             & Manual 4-spd    & Front-Wheel Drive &  4 & 1.3 & Regular & 27 & 21\\\\\n",
       "\t  6635 & Yugo                  & GV Plus/GV/Cabrio & 1990 & Subcompact Cars              & Manual 5-spd    & Front-Wheel Drive &  4 & 1.3 & Regular & 28 & 23\\\\\n",
       "\t  3157 & Yugo                  & GV/GVX            & 1987 & Subcompact Cars              & Manual 4-spd    & Front-Wheel Drive &  4 & 1.1 & Regular & 29 & 24\\\\\n",
       "\t  5497 & Yugo                  & GV/GVX            & 1989 & Subcompact Cars              & Manual 4-spd    & Front-Wheel Drive &  4 & 1.1 & Regular & 29 & 24\\\\\n",
       "\t  5498 & Yugo                  & GV/GVX            & 1989 & Subcompact Cars              & Manual 5-spd    & Front-Wheel Drive &  4 & 1.3 & Regular & 28 & 23\\\\\n",
       "\t  1745 & Yugo                  & Gy/yugo GVX       & 1986 & Minicompact Cars             & Manual 4-spd    & Front-Wheel Drive &  4 & 1.1 & Regular & 29 & 22\\\\\n",
       "\\end{tabular}\n"
      ],
      "text/markdown": [
       "\n",
       "A tibble: 33442 × 12\n",
       "\n",
       "| id &lt;dbl&gt; | make &lt;chr&gt; | model &lt;chr&gt; | year &lt;dbl&gt; | class &lt;chr&gt; | trans &lt;chr&gt; | drive &lt;chr&gt; | cyl &lt;dbl&gt; | displ &lt;dbl&gt; | fuel &lt;chr&gt; | hwy &lt;dbl&gt; | cty &lt;dbl&gt; |\n",
       "|---|---|---|---|---|---|---|---|---|---|---|---|\n",
       "| 13309 | Acura | 2.2CL/3.0CL | 1997 | Subcompact Cars | Automatic 4-spd | Front-Wheel Drive | 4 | 2.2 | Regular | 26 | 20 |\n",
       "| 13310 | Acura | 2.2CL/3.0CL | 1997 | Subcompact Cars | Manual 5-spd    | Front-Wheel Drive | 4 | 2.2 | Regular | 28 | 22 |\n",
       "| 13311 | Acura | 2.2CL/3.0CL | 1997 | Subcompact Cars | Automatic 4-spd | Front-Wheel Drive | 6 | 3.0 | Regular | 26 | 18 |\n",
       "| 14038 | Acura | 2.3CL/3.0CL | 1998 | Subcompact Cars | Automatic 4-spd | Front-Wheel Drive | 4 | 2.3 | Regular | 27 | 19 |\n",
       "| 14039 | Acura | 2.3CL/3.0CL | 1998 | Subcompact Cars | Manual 5-spd    | Front-Wheel Drive | 4 | 2.3 | Regular | 29 | 21 |\n",
       "| 14040 | Acura | 2.3CL/3.0CL | 1998 | Subcompact Cars | Automatic 4-spd | Front-Wheel Drive | 6 | 3.0 | Regular | 26 | 17 |\n",
       "| 14834 | Acura | 2.3CL/3.0CL | 1999 | Subcompact Cars | Automatic 4-spd | Front-Wheel Drive | 4 | 2.3 | Regular | 27 | 20 |\n",
       "| 14835 | Acura | 2.3CL/3.0CL | 1999 | Subcompact Cars | Manual 5-spd    | Front-Wheel Drive | 4 | 2.3 | Regular | 29 | 21 |\n",
       "| 14836 | Acura | 2.3CL/3.0CL | 1999 | Subcompact Cars | Automatic 4-spd | Front-Wheel Drive | 6 | 3.0 | Regular | 26 | 17 |\n",
       "| 11789 | Acura | 2.5TL       | 1995 | Compact Cars    | Automatic 4-spd | Front-Wheel Drive | 5 | 2.5 | Premium | 23 | 18 |\n",
       "| 12673 | Acura | 2.5TL/3.2TL | 1996 | Compact Cars    | Automatic 4-spd | Front-Wheel Drive | 5 | 2.5 | Premium | 23 | 18 |\n",
       "| 12674 | Acura | 2.5TL/3.2TL | 1996 | Compact Cars    | Automatic 4-spd | Front-Wheel Drive | 6 | 3.2 | Premium | 22 | 17 |\n",
       "| 13421 | Acura | 2.5TL/3.2TL | 1997 | Compact Cars    | Automatic 4-spd | Front-Wheel Drive | 5 | 2.5 | Premium | 23 | 18 |\n",
       "| 13422 | Acura | 2.5TL/3.2TL | 1997 | Compact Cars    | Automatic 4-spd | Front-Wheel Drive | 6 | 3.2 | Premium | 22 | 17 |\n",
       "| 14163 | Acura | 2.5TL/3.2TL | 1998 | Compact Cars    | Automatic 4-spd | Front-Wheel Drive | 5 | 2.5 | Premium | 23 | 17 |\n",
       "| 14164 | Acura | 2.5TL/3.2TL | 1998 | Compact Cars    | Automatic 4-spd | Front-Wheel Drive | 6 | 3.2 | Premium | 22 | 17 |\n",
       "| 16573 | Acura | 3.2CL       | 2001 | Compact Cars    | Automatic (S5)  | Front-Wheel Drive | 6 | 3.2 | Premium | 27 | 17 |\n",
       "| 17489 | Acura | 3.2CL       | 2002 | Compact Cars    | Automatic (S5)  | Front-Wheel Drive | 6 | 3.2 | Premium | 27 | 17 |\n",
       "| 18458 | Acura | 3.2CL       | 2003 | Compact Cars    | Manual 6-spd    | Front-Wheel Drive | 6 | 3.2 | Premium | 26 | 17 |\n",
       "| 18459 | Acura | 3.2CL       | 2003 | Compact Cars    | Automatic (S5)  | Front-Wheel Drive | 6 | 3.2 | Premium | 27 | 17 |\n",
       "| 15069 | Acura | 3.2TL       | 1999 | Midsize Cars    | Automatic 4-spd | Front-Wheel Drive | 6 | 3.2 | Premium | 25 | 17 |\n",
       "| 15871 | Acura | 3.2TL       | 2000 | Midsize Cars    | Automatic 5-spd | Front-Wheel Drive | 6 | 3.2 | Premium | 27 | 17 |\n",
       "| 16734 | Acura | 3.2TL       | 2001 | Midsize Cars    | Automatic (S5)  | Front-Wheel Drive | 6 | 3.2 | Premium | 27 | 17 |\n",
       "| 17664 | Acura | 3.2TL       | 2002 | Midsize Cars    | Automatic (S5)  | Front-Wheel Drive | 6 | 3.2 | Premium | 27 | 17 |\n",
       "| 18629 | Acura | 3.2TL       | 2003 | Midsize Cars    | Automatic (S5)  | Front-Wheel Drive | 6 | 3.2 | Premium | 27 | 17 |\n",
       "| 12801 | Acura | 3.5RL       | 1996 | Midsize Cars    | Automatic 4-spd | Front-Wheel Drive | 6 | 3.5 | Premium | 23 | 17 |\n",
       "| 13537 | Acura | 3.5RL       | 1997 | Midsize Cars    | Automatic 4-spd | Front-Wheel Drive | 6 | 3.5 | Premium | 23 | 17 |\n",
       "| 14278 | Acura | 3.5RL       | 1998 | Midsize Cars    | Automatic 4-spd | Front-Wheel Drive | 6 | 3.5 | Premium | 23 | 17 |\n",
       "| 15070 | Acura | 3.5RL       | 1999 | Midsize Cars    | Automatic 4-spd | Front-Wheel Drive | 6 | 3.5 | Premium | 22 | 16 |\n",
       "| 15872 | Acura | 3.5RL       | 2000 | Midsize Cars    | Automatic 4-spd | Front-Wheel Drive | 6 | 3.5 | Premium | 22 | 16 |\n",
       "| ⋮ | ⋮ | ⋮ | ⋮ | ⋮ | ⋮ | ⋮ | ⋮ | ⋮ | ⋮ | ⋮ | ⋮ |\n",
       "|  8619 | Wallace Environmental | Wetl 300 SL       | 1992 | Minicompact Cars             | Automatic 4-spd | Rear-Wheel Drive  |  6 | 2.9 | Premium | 16 | 15 |\n",
       "|  8103 | Wallace Environmental | Wetl 300 TE       | 1991 | Midsize-Large Station Wagons | Automatic 4-spd | Rear-Wheel Drive  |  6 | 2.9 | Premium | 16 | 15 |\n",
       "|  9187 | Wallace Environmental | Wetl 300 TE       | 1992 | Midsize-Large Station Wagons | Automatic 4-spd | Rear-Wheel Drive  |  6 | 2.9 | Premium | 16 | 15 |\n",
       "|  7905 | Wallace Environmental | Wetl 412          | 1991 | Compact Cars                 | Manual 5-spd    | Rear-Wheel Drive  | 12 | 4.9 | Premium | 13 |  8 |\n",
       "| 28930 | Wallace Environmental | Wetl 412          | 1992 | Compact Cars                 | Manual 5-spd    | Rear-Wheel Drive  | 12 | 4.9 | Premium | 13 |  9 |\n",
       "| 28897 | Wallace Environmental | Wetl 500 SE       | 1991 | Compact Cars                 | Automatic 4-spd | Rear-Wheel Drive  |  8 | 5.6 | Premium | 15 | 11 |\n",
       "| 28931 | Wallace Environmental | Wetl 500 SE       | 1992 | Compact Cars                 | Automatic 4-spd | Rear-Wheel Drive  |  8 | 5.6 | Premium | 15 | 11 |\n",
       "| 28898 | Wallace Environmental | Wetl 500 SEC      | 1991 | Compact Cars                 | Automatic 4-spd | Rear-Wheel Drive  |  8 | 5.6 | Premium | 15 | 11 |\n",
       "| 28932 | Wallace Environmental | Wetl 500 SEC      | 1992 | Compact Cars                 | Automatic 4-spd | Rear-Wheel Drive  |  8 | 5.6 | Premium | 15 | 11 |\n",
       "| 28901 | Wallace Environmental | Wetl 500 SEL      | 1991 | Midsize Cars                 | Automatic 4-spd | Rear-Wheel Drive  |  8 | 5.6 | Premium | 15 | 11 |\n",
       "| 28947 | Wallace Environmental | Wetl 500 SEL      | 1992 | Midsize Cars                 | Automatic 4-spd | Rear-Wheel Drive  |  8 | 5.6 | Premium | 15 | 11 |\n",
       "| 28890 | Wallace Environmental | Wetl 500 SL       | 1991 | Two Seaters                  | Automatic 4-spd | Rear-Wheel Drive  |  8 | 5.6 | Premium | 15 | 11 |\n",
       "| 28899 | Wallace Environmental | Wetl 560 SEC      | 1991 | Compact Cars                 | Automatic 4-spd | Rear-Wheel Drive  |  8 | 5.6 | Premium | 15 | 11 |\n",
       "| 28933 | Wallace Environmental | Wetl 560 SEC      | 1992 | Compact Cars                 | Automatic 4-spd | Rear-Wheel Drive  |  8 | 5.6 | Premium | 15 | 11 |\n",
       "| 28902 | Wallace Environmental | Wetl 560 SEL      | 1991 | Midsize Cars                 | Automatic 4-spd | Rear-Wheel Drive  |  8 | 5.6 | Premium | 15 | 11 |\n",
       "| 28948 | Wallace Environmental | Wetl 560 SEL      | 1992 | Midsize Cars                 | Automatic 4-spd | Rear-Wheel Drive  |  8 | 5.6 | Premium | 15 | 11 |\n",
       "| 28891 | Wallace Environmental | Wetl 560 SL       | 1991 | Two Seaters                  | Automatic 4-spd | Rear-Wheel Drive  |  8 | 5.6 | Premium | 15 | 11 |\n",
       "| 28950 | Wallace Environmental | Wetl 600 SEL      | 1992 | Large Cars                   | Automatic 4-spd | Rear-Wheel Drive  | 12 | 6.0 | Premium | 14 | 11 |\n",
       "| 28924 | Wallace Environmental | Wetl 850I         | 1992 | Subcompact Cars              | Automatic 4-spd | Rear-Wheel Drive  | 12 | 5.0 | Premium | 17 | 11 |\n",
       "| 28925 | Wallace Environmental | Wetl 850I         | 1992 | Subcompact Cars              | Manual 6-spd    | Rear-Wheel Drive  | 12 | 5.0 | Premium | 17 | 10 |\n",
       "|  7497 | Wallace Environmental | Wetl Testarossa   | 1991 | Two Seaters                  | Manual 5-spd    | Rear-Wheel Drive  | 12 | 4.9 | Premium | 15 |  9 |\n",
       "| 28917 | Wallace Environmental | Wetl Testarossa   | 1992 | Two Seaters                  | Manual 5-spd    | Rear-Wheel Drive  | 12 | 4.9 | Premium | 14 |  9 |\n",
       "|  4358 | Yugo                  | GV                | 1988 | Subcompact Cars              | Manual 4-spd    | Front-Wheel Drive |  4 | 1.1 | Regular | 29 | 24 |\n",
       "|  4359 | Yugo                  | GV                | 1988 | Subcompact Cars              | Manual 5-spd    | Front-Wheel Drive |  4 | 1.3 | Regular | 27 | 23 |\n",
       "| 28868 | Yugo                  | GV Plus/GV/Cabrio | 1990 | Minicompact Cars             | Manual 4-spd    | Front-Wheel Drive |  4 | 1.3 | Regular | 27 | 21 |\n",
       "|  6635 | Yugo                  | GV Plus/GV/Cabrio | 1990 | Subcompact Cars              | Manual 5-spd    | Front-Wheel Drive |  4 | 1.3 | Regular | 28 | 23 |\n",
       "|  3157 | Yugo                  | GV/GVX            | 1987 | Subcompact Cars              | Manual 4-spd    | Front-Wheel Drive |  4 | 1.1 | Regular | 29 | 24 |\n",
       "|  5497 | Yugo                  | GV/GVX            | 1989 | Subcompact Cars              | Manual 4-spd    | Front-Wheel Drive |  4 | 1.1 | Regular | 29 | 24 |\n",
       "|  5498 | Yugo                  | GV/GVX            | 1989 | Subcompact Cars              | Manual 5-spd    | Front-Wheel Drive |  4 | 1.3 | Regular | 28 | 23 |\n",
       "|  1745 | Yugo                  | Gy/yugo GVX       | 1986 | Minicompact Cars             | Manual 4-spd    | Front-Wheel Drive |  4 | 1.1 | Regular | 29 | 22 |\n",
       "\n"
      ],
      "text/plain": [
       "      id    make                  model             year\n",
       "1     13309 Acura                 2.2CL/3.0CL       1997\n",
       "2     13310 Acura                 2.2CL/3.0CL       1997\n",
       "3     13311 Acura                 2.2CL/3.0CL       1997\n",
       "4     14038 Acura                 2.3CL/3.0CL       1998\n",
       "5     14039 Acura                 2.3CL/3.0CL       1998\n",
       "6     14040 Acura                 2.3CL/3.0CL       1998\n",
       "7     14834 Acura                 2.3CL/3.0CL       1999\n",
       "8     14835 Acura                 2.3CL/3.0CL       1999\n",
       "9     14836 Acura                 2.3CL/3.0CL       1999\n",
       "10    11789 Acura                 2.5TL             1995\n",
       "11    12673 Acura                 2.5TL/3.2TL       1996\n",
       "12    12674 Acura                 2.5TL/3.2TL       1996\n",
       "13    13421 Acura                 2.5TL/3.2TL       1997\n",
       "14    13422 Acura                 2.5TL/3.2TL       1997\n",
       "15    14163 Acura                 2.5TL/3.2TL       1998\n",
       "16    14164 Acura                 2.5TL/3.2TL       1998\n",
       "17    16573 Acura                 3.2CL             2001\n",
       "18    17489 Acura                 3.2CL             2002\n",
       "19    18458 Acura                 3.2CL             2003\n",
       "20    18459 Acura                 3.2CL             2003\n",
       "21    15069 Acura                 3.2TL             1999\n",
       "22    15871 Acura                 3.2TL             2000\n",
       "23    16734 Acura                 3.2TL             2001\n",
       "24    17664 Acura                 3.2TL             2002\n",
       "25    18629 Acura                 3.2TL             2003\n",
       "26    12801 Acura                 3.5RL             1996\n",
       "27    13537 Acura                 3.5RL             1997\n",
       "28    14278 Acura                 3.5RL             1998\n",
       "29    15070 Acura                 3.5RL             1999\n",
       "30    15872 Acura                 3.5RL             2000\n",
       "⋮     ⋮     ⋮                     ⋮                 ⋮   \n",
       "33413  8619 Wallace Environmental Wetl 300 SL       1992\n",
       "33414  8103 Wallace Environmental Wetl 300 TE       1991\n",
       "33415  9187 Wallace Environmental Wetl 300 TE       1992\n",
       "33416  7905 Wallace Environmental Wetl 412          1991\n",
       "33417 28930 Wallace Environmental Wetl 412          1992\n",
       "33418 28897 Wallace Environmental Wetl 500 SE       1991\n",
       "33419 28931 Wallace Environmental Wetl 500 SE       1992\n",
       "33420 28898 Wallace Environmental Wetl 500 SEC      1991\n",
       "33421 28932 Wallace Environmental Wetl 500 SEC      1992\n",
       "33422 28901 Wallace Environmental Wetl 500 SEL      1991\n",
       "33423 28947 Wallace Environmental Wetl 500 SEL      1992\n",
       "33424 28890 Wallace Environmental Wetl 500 SL       1991\n",
       "33425 28899 Wallace Environmental Wetl 560 SEC      1991\n",
       "33426 28933 Wallace Environmental Wetl 560 SEC      1992\n",
       "33427 28902 Wallace Environmental Wetl 560 SEL      1991\n",
       "33428 28948 Wallace Environmental Wetl 560 SEL      1992\n",
       "33429 28891 Wallace Environmental Wetl 560 SL       1991\n",
       "33430 28950 Wallace Environmental Wetl 600 SEL      1992\n",
       "33431 28924 Wallace Environmental Wetl 850I         1992\n",
       "33432 28925 Wallace Environmental Wetl 850I         1992\n",
       "33433  7497 Wallace Environmental Wetl Testarossa   1991\n",
       "33434 28917 Wallace Environmental Wetl Testarossa   1992\n",
       "33435  4358 Yugo                  GV                1988\n",
       "33436  4359 Yugo                  GV                1988\n",
       "33437 28868 Yugo                  GV Plus/GV/Cabrio 1990\n",
       "33438  6635 Yugo                  GV Plus/GV/Cabrio 1990\n",
       "33439  3157 Yugo                  GV/GVX            1987\n",
       "33440  5497 Yugo                  GV/GVX            1989\n",
       "33441  5498 Yugo                  GV/GVX            1989\n",
       "33442  1745 Yugo                  Gy/yugo GVX       1986\n",
       "      class                        trans           drive             cyl displ\n",
       "1     Subcompact Cars              Automatic 4-spd Front-Wheel Drive 4   2.2  \n",
       "2     Subcompact Cars              Manual 5-spd    Front-Wheel Drive 4   2.2  \n",
       "3     Subcompact Cars              Automatic 4-spd Front-Wheel Drive 6   3.0  \n",
       "4     Subcompact Cars              Automatic 4-spd Front-Wheel Drive 4   2.3  \n",
       "5     Subcompact Cars              Manual 5-spd    Front-Wheel Drive 4   2.3  \n",
       "6     Subcompact Cars              Automatic 4-spd Front-Wheel Drive 6   3.0  \n",
       "7     Subcompact Cars              Automatic 4-spd Front-Wheel Drive 4   2.3  \n",
       "8     Subcompact Cars              Manual 5-spd    Front-Wheel Drive 4   2.3  \n",
       "9     Subcompact Cars              Automatic 4-spd Front-Wheel Drive 6   3.0  \n",
       "10    Compact Cars                 Automatic 4-spd Front-Wheel Drive 5   2.5  \n",
       "11    Compact Cars                 Automatic 4-spd Front-Wheel Drive 5   2.5  \n",
       "12    Compact Cars                 Automatic 4-spd Front-Wheel Drive 6   3.2  \n",
       "13    Compact Cars                 Automatic 4-spd Front-Wheel Drive 5   2.5  \n",
       "14    Compact Cars                 Automatic 4-spd Front-Wheel Drive 6   3.2  \n",
       "15    Compact Cars                 Automatic 4-spd Front-Wheel Drive 5   2.5  \n",
       "16    Compact Cars                 Automatic 4-spd Front-Wheel Drive 6   3.2  \n",
       "17    Compact Cars                 Automatic (S5)  Front-Wheel Drive 6   3.2  \n",
       "18    Compact Cars                 Automatic (S5)  Front-Wheel Drive 6   3.2  \n",
       "19    Compact Cars                 Manual 6-spd    Front-Wheel Drive 6   3.2  \n",
       "20    Compact Cars                 Automatic (S5)  Front-Wheel Drive 6   3.2  \n",
       "21    Midsize Cars                 Automatic 4-spd Front-Wheel Drive 6   3.2  \n",
       "22    Midsize Cars                 Automatic 5-spd Front-Wheel Drive 6   3.2  \n",
       "23    Midsize Cars                 Automatic (S5)  Front-Wheel Drive 6   3.2  \n",
       "24    Midsize Cars                 Automatic (S5)  Front-Wheel Drive 6   3.2  \n",
       "25    Midsize Cars                 Automatic (S5)  Front-Wheel Drive 6   3.2  \n",
       "26    Midsize Cars                 Automatic 4-spd Front-Wheel Drive 6   3.5  \n",
       "27    Midsize Cars                 Automatic 4-spd Front-Wheel Drive 6   3.5  \n",
       "28    Midsize Cars                 Automatic 4-spd Front-Wheel Drive 6   3.5  \n",
       "29    Midsize Cars                 Automatic 4-spd Front-Wheel Drive 6   3.5  \n",
       "30    Midsize Cars                 Automatic 4-spd Front-Wheel Drive 6   3.5  \n",
       "⋮     ⋮                            ⋮               ⋮                 ⋮   ⋮    \n",
       "33413 Minicompact Cars             Automatic 4-spd Rear-Wheel Drive   6  2.9  \n",
       "33414 Midsize-Large Station Wagons Automatic 4-spd Rear-Wheel Drive   6  2.9  \n",
       "33415 Midsize-Large Station Wagons Automatic 4-spd Rear-Wheel Drive   6  2.9  \n",
       "33416 Compact Cars                 Manual 5-spd    Rear-Wheel Drive  12  4.9  \n",
       "33417 Compact Cars                 Manual 5-spd    Rear-Wheel Drive  12  4.9  \n",
       "33418 Compact Cars                 Automatic 4-spd Rear-Wheel Drive   8  5.6  \n",
       "33419 Compact Cars                 Automatic 4-spd Rear-Wheel Drive   8  5.6  \n",
       "33420 Compact Cars                 Automatic 4-spd Rear-Wheel Drive   8  5.6  \n",
       "33421 Compact Cars                 Automatic 4-spd Rear-Wheel Drive   8  5.6  \n",
       "33422 Midsize Cars                 Automatic 4-spd Rear-Wheel Drive   8  5.6  \n",
       "33423 Midsize Cars                 Automatic 4-spd Rear-Wheel Drive   8  5.6  \n",
       "33424 Two Seaters                  Automatic 4-spd Rear-Wheel Drive   8  5.6  \n",
       "33425 Compact Cars                 Automatic 4-spd Rear-Wheel Drive   8  5.6  \n",
       "33426 Compact Cars                 Automatic 4-spd Rear-Wheel Drive   8  5.6  \n",
       "33427 Midsize Cars                 Automatic 4-spd Rear-Wheel Drive   8  5.6  \n",
       "33428 Midsize Cars                 Automatic 4-spd Rear-Wheel Drive   8  5.6  \n",
       "33429 Two Seaters                  Automatic 4-spd Rear-Wheel Drive   8  5.6  \n",
       "33430 Large Cars                   Automatic 4-spd Rear-Wheel Drive  12  6.0  \n",
       "33431 Subcompact Cars              Automatic 4-spd Rear-Wheel Drive  12  5.0  \n",
       "33432 Subcompact Cars              Manual 6-spd    Rear-Wheel Drive  12  5.0  \n",
       "33433 Two Seaters                  Manual 5-spd    Rear-Wheel Drive  12  4.9  \n",
       "33434 Two Seaters                  Manual 5-spd    Rear-Wheel Drive  12  4.9  \n",
       "33435 Subcompact Cars              Manual 4-spd    Front-Wheel Drive  4  1.1  \n",
       "33436 Subcompact Cars              Manual 5-spd    Front-Wheel Drive  4  1.3  \n",
       "33437 Minicompact Cars             Manual 4-spd    Front-Wheel Drive  4  1.3  \n",
       "33438 Subcompact Cars              Manual 5-spd    Front-Wheel Drive  4  1.3  \n",
       "33439 Subcompact Cars              Manual 4-spd    Front-Wheel Drive  4  1.1  \n",
       "33440 Subcompact Cars              Manual 4-spd    Front-Wheel Drive  4  1.1  \n",
       "33441 Subcompact Cars              Manual 5-spd    Front-Wheel Drive  4  1.3  \n",
       "33442 Minicompact Cars             Manual 4-spd    Front-Wheel Drive  4  1.1  \n",
       "      fuel    hwy cty\n",
       "1     Regular 26  20 \n",
       "2     Regular 28  22 \n",
       "3     Regular 26  18 \n",
       "4     Regular 27  19 \n",
       "5     Regular 29  21 \n",
       "6     Regular 26  17 \n",
       "7     Regular 27  20 \n",
       "8     Regular 29  21 \n",
       "9     Regular 26  17 \n",
       "10    Premium 23  18 \n",
       "11    Premium 23  18 \n",
       "12    Premium 22  17 \n",
       "13    Premium 23  18 \n",
       "14    Premium 22  17 \n",
       "15    Premium 23  17 \n",
       "16    Premium 22  17 \n",
       "17    Premium 27  17 \n",
       "18    Premium 27  17 \n",
       "19    Premium 26  17 \n",
       "20    Premium 27  17 \n",
       "21    Premium 25  17 \n",
       "22    Premium 27  17 \n",
       "23    Premium 27  17 \n",
       "24    Premium 27  17 \n",
       "25    Premium 27  17 \n",
       "26    Premium 23  17 \n",
       "27    Premium 23  17 \n",
       "28    Premium 23  17 \n",
       "29    Premium 22  16 \n",
       "30    Premium 22  16 \n",
       "⋮     ⋮       ⋮   ⋮  \n",
       "33413 Premium 16  15 \n",
       "33414 Premium 16  15 \n",
       "33415 Premium 16  15 \n",
       "33416 Premium 13   8 \n",
       "33417 Premium 13   9 \n",
       "33418 Premium 15  11 \n",
       "33419 Premium 15  11 \n",
       "33420 Premium 15  11 \n",
       "33421 Premium 15  11 \n",
       "33422 Premium 15  11 \n",
       "33423 Premium 15  11 \n",
       "33424 Premium 15  11 \n",
       "33425 Premium 15  11 \n",
       "33426 Premium 15  11 \n",
       "33427 Premium 15  11 \n",
       "33428 Premium 15  11 \n",
       "33429 Premium 15  11 \n",
       "33430 Premium 14  11 \n",
       "33431 Premium 17  11 \n",
       "33432 Premium 17  10 \n",
       "33433 Premium 15   9 \n",
       "33434 Premium 14   9 \n",
       "33435 Regular 29  24 \n",
       "33436 Regular 27  23 \n",
       "33437 Regular 27  21 \n",
       "33438 Regular 28  23 \n",
       "33439 Regular 29  24 \n",
       "33440 Regular 29  24 \n",
       "33441 Regular 28  23 \n",
       "33442 Regular 29  22 "
      ]
     },
     "metadata": {},
     "output_type": "display_data"
    }
   ],
   "source": [
    "vehicles"
   ]
  },
  {
   "cell_type": "code",
   "execution_count": 31,
   "id": "63d7ae1f-ea11-4bae-8398-0af01975e0d4",
   "metadata": {},
   "outputs": [
    {
     "data": {
      "text/html": [
       "<table class=\"dataframe\">\n",
       "<caption>A tibble: 6 × 12</caption>\n",
       "<thead>\n",
       "\t<tr><th scope=col>id</th><th scope=col>make</th><th scope=col>model</th><th scope=col>year</th><th scope=col>class</th><th scope=col>trans</th><th scope=col>drive</th><th scope=col>cyl</th><th scope=col>displ</th><th scope=col>fuel</th><th scope=col>hwy</th><th scope=col>cty</th></tr>\n",
       "\t<tr><th scope=col>&lt;dbl&gt;</th><th scope=col>&lt;chr&gt;</th><th scope=col>&lt;chr&gt;</th><th scope=col>&lt;dbl&gt;</th><th scope=col>&lt;chr&gt;</th><th scope=col>&lt;chr&gt;</th><th scope=col>&lt;chr&gt;</th><th scope=col>&lt;dbl&gt;</th><th scope=col>&lt;dbl&gt;</th><th scope=col>&lt;chr&gt;</th><th scope=col>&lt;dbl&gt;</th><th scope=col>&lt;dbl&gt;</th></tr>\n",
       "</thead>\n",
       "<tbody>\n",
       "\t<tr><td>13309</td><td>Acura</td><td>2.2CL/3.0CL</td><td>1997</td><td>Subcompact Cars</td><td>Automatic 4-spd</td><td>Front-Wheel Drive</td><td>4</td><td>2.2</td><td>Regular</td><td>26</td><td>20</td></tr>\n",
       "\t<tr><td>13310</td><td>Acura</td><td>2.2CL/3.0CL</td><td>1997</td><td>Subcompact Cars</td><td>Manual 5-spd   </td><td>Front-Wheel Drive</td><td>4</td><td>2.2</td><td>Regular</td><td>28</td><td>22</td></tr>\n",
       "\t<tr><td>13311</td><td>Acura</td><td>2.2CL/3.0CL</td><td>1997</td><td>Subcompact Cars</td><td>Automatic 4-spd</td><td>Front-Wheel Drive</td><td>6</td><td>3.0</td><td>Regular</td><td>26</td><td>18</td></tr>\n",
       "\t<tr><td>14038</td><td>Acura</td><td>2.3CL/3.0CL</td><td>1998</td><td>Subcompact Cars</td><td>Automatic 4-spd</td><td>Front-Wheel Drive</td><td>4</td><td>2.3</td><td>Regular</td><td>27</td><td>19</td></tr>\n",
       "\t<tr><td>14039</td><td>Acura</td><td>2.3CL/3.0CL</td><td>1998</td><td>Subcompact Cars</td><td>Manual 5-spd   </td><td>Front-Wheel Drive</td><td>4</td><td>2.3</td><td>Regular</td><td>29</td><td>21</td></tr>\n",
       "\t<tr><td>14040</td><td>Acura</td><td>2.3CL/3.0CL</td><td>1998</td><td>Subcompact Cars</td><td>Automatic 4-spd</td><td>Front-Wheel Drive</td><td>6</td><td>3.0</td><td>Regular</td><td>26</td><td>17</td></tr>\n",
       "</tbody>\n",
       "</table>\n"
      ],
      "text/latex": [
       "A tibble: 6 × 12\n",
       "\\begin{tabular}{llllllllllll}\n",
       " id & make & model & year & class & trans & drive & cyl & displ & fuel & hwy & cty\\\\\n",
       " <dbl> & <chr> & <chr> & <dbl> & <chr> & <chr> & <chr> & <dbl> & <dbl> & <chr> & <dbl> & <dbl>\\\\\n",
       "\\hline\n",
       "\t 13309 & Acura & 2.2CL/3.0CL & 1997 & Subcompact Cars & Automatic 4-spd & Front-Wheel Drive & 4 & 2.2 & Regular & 26 & 20\\\\\n",
       "\t 13310 & Acura & 2.2CL/3.0CL & 1997 & Subcompact Cars & Manual 5-spd    & Front-Wheel Drive & 4 & 2.2 & Regular & 28 & 22\\\\\n",
       "\t 13311 & Acura & 2.2CL/3.0CL & 1997 & Subcompact Cars & Automatic 4-spd & Front-Wheel Drive & 6 & 3.0 & Regular & 26 & 18\\\\\n",
       "\t 14038 & Acura & 2.3CL/3.0CL & 1998 & Subcompact Cars & Automatic 4-spd & Front-Wheel Drive & 4 & 2.3 & Regular & 27 & 19\\\\\n",
       "\t 14039 & Acura & 2.3CL/3.0CL & 1998 & Subcompact Cars & Manual 5-spd    & Front-Wheel Drive & 4 & 2.3 & Regular & 29 & 21\\\\\n",
       "\t 14040 & Acura & 2.3CL/3.0CL & 1998 & Subcompact Cars & Automatic 4-spd & Front-Wheel Drive & 6 & 3.0 & Regular & 26 & 17\\\\\n",
       "\\end{tabular}\n"
      ],
      "text/markdown": [
       "\n",
       "A tibble: 6 × 12\n",
       "\n",
       "| id &lt;dbl&gt; | make &lt;chr&gt; | model &lt;chr&gt; | year &lt;dbl&gt; | class &lt;chr&gt; | trans &lt;chr&gt; | drive &lt;chr&gt; | cyl &lt;dbl&gt; | displ &lt;dbl&gt; | fuel &lt;chr&gt; | hwy &lt;dbl&gt; | cty &lt;dbl&gt; |\n",
       "|---|---|---|---|---|---|---|---|---|---|---|---|\n",
       "| 13309 | Acura | 2.2CL/3.0CL | 1997 | Subcompact Cars | Automatic 4-spd | Front-Wheel Drive | 4 | 2.2 | Regular | 26 | 20 |\n",
       "| 13310 | Acura | 2.2CL/3.0CL | 1997 | Subcompact Cars | Manual 5-spd    | Front-Wheel Drive | 4 | 2.2 | Regular | 28 | 22 |\n",
       "| 13311 | Acura | 2.2CL/3.0CL | 1997 | Subcompact Cars | Automatic 4-spd | Front-Wheel Drive | 6 | 3.0 | Regular | 26 | 18 |\n",
       "| 14038 | Acura | 2.3CL/3.0CL | 1998 | Subcompact Cars | Automatic 4-spd | Front-Wheel Drive | 4 | 2.3 | Regular | 27 | 19 |\n",
       "| 14039 | Acura | 2.3CL/3.0CL | 1998 | Subcompact Cars | Manual 5-spd    | Front-Wheel Drive | 4 | 2.3 | Regular | 29 | 21 |\n",
       "| 14040 | Acura | 2.3CL/3.0CL | 1998 | Subcompact Cars | Automatic 4-spd | Front-Wheel Drive | 6 | 3.0 | Regular | 26 | 17 |\n",
       "\n"
      ],
      "text/plain": [
       "  id    make  model       year class           trans          \n",
       "1 13309 Acura 2.2CL/3.0CL 1997 Subcompact Cars Automatic 4-spd\n",
       "2 13310 Acura 2.2CL/3.0CL 1997 Subcompact Cars Manual 5-spd   \n",
       "3 13311 Acura 2.2CL/3.0CL 1997 Subcompact Cars Automatic 4-spd\n",
       "4 14038 Acura 2.3CL/3.0CL 1998 Subcompact Cars Automatic 4-spd\n",
       "5 14039 Acura 2.3CL/3.0CL 1998 Subcompact Cars Manual 5-spd   \n",
       "6 14040 Acura 2.3CL/3.0CL 1998 Subcompact Cars Automatic 4-spd\n",
       "  drive             cyl displ fuel    hwy cty\n",
       "1 Front-Wheel Drive 4   2.2   Regular 26  20 \n",
       "2 Front-Wheel Drive 4   2.2   Regular 28  22 \n",
       "3 Front-Wheel Drive 6   3.0   Regular 26  18 \n",
       "4 Front-Wheel Drive 4   2.3   Regular 27  19 \n",
       "5 Front-Wheel Drive 4   2.3   Regular 29  21 \n",
       "6 Front-Wheel Drive 6   3.0   Regular 26  17 "
      ]
     },
     "metadata": {},
     "output_type": "display_data"
    }
   ],
   "source": [
    "head(vehicles)"
   ]
  },
  {
   "cell_type": "code",
   "execution_count": 32,
   "id": "40a12073-333f-4c3d-a542-2363e2af01c9",
   "metadata": {},
   "outputs": [
    {
     "name": "stdout",
     "output_type": "stream",
     "text": [
      "tibble [33,442 × 12] (S3: tbl_df/tbl/data.frame)\n",
      " $ id   : num [1:33442] 13309 13310 13311 14038 14039 ...\n",
      " $ make : chr [1:33442] \"Acura\" \"Acura\" \"Acura\" \"Acura\" ...\n",
      " $ model: chr [1:33442] \"2.2CL/3.0CL\" \"2.2CL/3.0CL\" \"2.2CL/3.0CL\" \"2.3CL/3.0CL\" ...\n",
      " $ year : num [1:33442] 1997 1997 1997 1998 1998 ...\n",
      " $ class: chr [1:33442] \"Subcompact Cars\" \"Subcompact Cars\" \"Subcompact Cars\" \"Subcompact Cars\" ...\n",
      " $ trans: chr [1:33442] \"Automatic 4-spd\" \"Manual 5-spd\" \"Automatic 4-spd\" \"Automatic 4-spd\" ...\n",
      " $ drive: chr [1:33442] \"Front-Wheel Drive\" \"Front-Wheel Drive\" \"Front-Wheel Drive\" \"Front-Wheel Drive\" ...\n",
      " $ cyl  : num [1:33442] 4 4 6 4 4 6 4 4 6 5 ...\n",
      " $ displ: num [1:33442] 2.2 2.2 3 2.3 2.3 3 2.3 2.3 3 2.5 ...\n",
      " $ fuel : chr [1:33442] \"Regular\" \"Regular\" \"Regular\" \"Regular\" ...\n",
      " $ hwy  : num [1:33442] 26 28 26 27 29 26 27 29 26 23 ...\n",
      " $ cty  : num [1:33442] 20 22 18 19 21 17 20 21 17 18 ...\n"
     ]
    }
   ],
   "source": [
    "str(vehicles)"
   ]
  },
  {
   "cell_type": "code",
   "execution_count": null,
   "id": "a4b4bcc0-6539-44e0-b2a8-891f03a65fa7",
   "metadata": {},
   "outputs": [],
   "source": []
  },
  {
   "cell_type": "markdown",
   "id": "2d066204-b70a-4a07-89be-473fca4cdd98",
   "metadata": {},
   "source": [
    "Let's set ourselves the task of comparing the city fuel economy of the midsize class of two car brands: Audi and VW"
   ]
  },
  {
   "cell_type": "markdown",
   "id": "2fa8044b-96af-4fc0-8882-e3aea498d06f",
   "metadata": {},
   "source": [
    "Our first step is to isolate the relevant data. There are many ways to do this. Here's one:"
   ]
  },
  {
   "cell_type": "code",
   "execution_count": null,
   "id": "549b4f30-1113-42ff-a752-2b2789af7edc",
   "metadata": {},
   "outputs": [],
   "source": [
    "Audi_Midsize <- vehicles %>%\n",
    "    filter(make == \"Audi\" & class == \"Midsize Cars\")"
   ]
  },
  {
   "cell_type": "code",
   "execution_count": null,
   "id": "da7855d5-ba74-43e3-9509-07f66b8560ac",
   "metadata": {},
   "outputs": [],
   "source": [
    "#Another option:"
   ]
  },
  {
   "cell_type": "code",
   "execution_count": 37,
   "id": "751352b1-0262-493c-8ea4-4acbf7b36a34",
   "metadata": {},
   "outputs": [],
   "source": [
    "Audi_Midsize <- vehicles %>%\n",
    "    filter(make == \"Audi\") %>%\n",
    "    filter(class == \"Midsize Cars\")"
   ]
  },
  {
   "cell_type": "code",
   "execution_count": null,
   "id": "2b278d12-3a63-4ab8-ad80-e098477c9b50",
   "metadata": {},
   "outputs": [],
   "source": []
  },
  {
   "cell_type": "code",
   "execution_count": null,
   "id": "f054a436-c2ee-4247-aa4b-e467e06ad66c",
   "metadata": {},
   "outputs": [],
   "source": [
    "#Now the VW"
   ]
  },
  {
   "cell_type": "code",
   "execution_count": 34,
   "id": "a658bcd7-c5f2-40fe-b346-b8dd4698d49b",
   "metadata": {},
   "outputs": [],
   "source": [
    "VW_Midsize <- vehicles %>%\n",
    "    filter(make == \"Volkswagen\") %>%\n",
    "    filter(class == \"Midsize Cars\")"
   ]
  },
  {
   "cell_type": "code",
   "execution_count": null,
   "id": "aee18590-7093-4f25-96e1-4004c7275faf",
   "metadata": {},
   "outputs": [],
   "source": []
  },
  {
   "cell_type": "markdown",
   "id": "84a79015-8393-4042-92e8-2879114a0552",
   "metadata": {},
   "source": [
    "How many cars do we have in each group?"
   ]
  },
  {
   "cell_type": "code",
   "execution_count": null,
   "id": "89ae785a-8f61-46b4-8327-c18d33eb70f2",
   "metadata": {},
   "outputs": [],
   "source": [
    "# Now we can check number of cars and stuff"
   ]
  },
  {
   "cell_type": "code",
   "execution_count": 35,
   "id": "d6b0c13e-9eff-4c09-9268-2ec312be21b0",
   "metadata": {},
   "outputs": [
    {
     "name": "stdout",
     "output_type": "stream",
     "text": [
      "tibble [97 × 12] (S3: tbl_df/tbl/data.frame)\n",
      " $ id   : num [1:97] 6871 6872 8005 8006 9077 ...\n",
      " $ make : chr [1:97] \"Volkswagen\" \"Volkswagen\" \"Volkswagen\" \"Volkswagen\" ...\n",
      " $ model: chr [1:97] \"Passat\" \"Passat\" \"Passat\" \"Passat\" ...\n",
      " $ year : num [1:97] 1990 1990 1991 1991 1992 ...\n",
      " $ class: chr [1:97] \"Midsize Cars\" \"Midsize Cars\" \"Midsize Cars\" \"Midsize Cars\" ...\n",
      " $ trans: chr [1:97] \"Automatic 4-spd\" \"Manual 5-spd\" \"Automatic 4-spd\" \"Manual 5-spd\" ...\n",
      " $ drive: chr [1:97] \"Front-Wheel Drive\" \"Front-Wheel Drive\" \"Front-Wheel Drive\" \"Front-Wheel Drive\" ...\n",
      " $ cyl  : num [1:97] 4 4 4 4 4 4 4 4 6 6 ...\n",
      " $ displ: num [1:97] 2 2 2 2 2 2 2 2 2.8 2.8 ...\n",
      " $ fuel : chr [1:97] \"Regular\" \"Regular\" \"Regular\" \"Regular\" ...\n",
      " $ hwy  : num [1:97] 26 27 26 27 26 28 26 28 22 25 ...\n",
      " $ cty  : num [1:97] 18 18 18 18 18 18 18 18 15 17 ...\n"
     ]
    }
   ],
   "source": [
    "str(VW_Midsize)"
   ]
  },
  {
   "cell_type": "code",
   "execution_count": 38,
   "id": "25b65a19-7dc4-45f8-8dd0-666e3c716e9d",
   "metadata": {},
   "outputs": [
    {
     "name": "stdout",
     "output_type": "stream",
     "text": [
      "tibble [157 × 12] (S3: tbl_df/tbl/data.frame)\n",
      " $ id   : num [1:157] 5656 5657 6784 6785 7908 ...\n",
      " $ make : chr [1:157] \"Audi\" \"Audi\" \"Audi\" \"Audi\" ...\n",
      " $ model: chr [1:157] \"100\" \"100\" \"100\" \"100\" ...\n",
      " $ year : num [1:157] 1989 1989 1990 1990 1991 ...\n",
      " $ class: chr [1:157] \"Midsize Cars\" \"Midsize Cars\" \"Midsize Cars\" \"Midsize Cars\" ...\n",
      " $ trans: chr [1:157] \"Automatic 3-spd\" \"Manual 5-spd\" \"Automatic 3-spd\" \"Automatic 4-spd\" ...\n",
      " $ drive: chr [1:157] \"Front-Wheel Drive\" \"Front-Wheel Drive\" \"Front-Wheel Drive\" \"Front-Wheel Drive\" ...\n",
      " $ cyl  : num [1:157] 5 5 5 5 5 6 6 6 6 6 ...\n",
      " $ displ: num [1:157] 2.3 2.3 2.3 2.3 2.3 2.8 2.8 2.8 2.8 2.8 ...\n",
      " $ fuel : chr [1:157] \"Regular\" \"Regular\" \"Regular\" \"Regular\" ...\n",
      " $ hwy  : num [1:157] 20 23 20 22 22 23 22 24 22 24 ...\n",
      " $ cty  : num [1:157] 17 16 16 16 16 15 17 17 17 17 ...\n"
     ]
    }
   ],
   "source": [
    "str(Audi_Midsize)"
   ]
  },
  {
   "cell_type": "code",
   "execution_count": null,
   "id": "5e105d54-f850-46cc-97e5-86d3e3f05aef",
   "metadata": {},
   "outputs": [],
   "source": []
  },
  {
   "cell_type": "markdown",
   "id": "1c2d4f1b-ecf8-4003-b56d-e5f66048803d",
   "metadata": {},
   "source": [
    "Let's use t.test to compare performance of the two cars"
   ]
  },
  {
   "cell_type": "code",
   "execution_count": 39,
   "id": "bf460c4f-350a-435e-96db-f4bbf1a1579c",
   "metadata": {
    "scrolled": true
   },
   "outputs": [
    {
     "data": {
      "text/plain": [
       "\n",
       "\tWelch Two Sample t-test\n",
       "\n",
       "data:  Audi_Midsize$cty and VW_Midsize$cty\n",
       "t = -7.1511, df = 125.12, p-value = 6.348e-11\n",
       "alternative hypothesis: true difference in means is not equal to 0\n",
       "95 percent confidence interval:\n",
       " -4.232765 -2.397743\n",
       "sample estimates:\n",
       "mean of x mean of y \n",
       " 16.29299  19.60825 \n"
      ]
     },
     "metadata": {},
     "output_type": "display_data"
    }
   ],
   "source": [
    "t.test(Audi_Midsize$cty, VW_Midsize$cty)"
   ]
  },
  {
   "cell_type": "code",
   "execution_count": null,
   "id": "ebd5bbb1-7275-41b6-89d0-c4ddf5240e7b",
   "metadata": {},
   "outputs": [],
   "source": [
    "# the reason we are not using the tilde~ is that these are separate dataframes, not variables of one"
   ]
  },
  {
   "cell_type": "markdown",
   "id": "27f239cd-e486-48c4-a529-3d8d656b1da5",
   "metadata": {},
   "source": [
    "Let's visualise the data and see if this is the best way to ask our question"
   ]
  },
  {
   "cell_type": "code",
   "execution_count": null,
   "id": "c4f39227-4cf8-4110-9fc1-3980c404e721",
   "metadata": {},
   "outputs": [],
   "source": [
    "#Lets put them both into a dataframe to actually look at the data like proper statisticians"
   ]
  },
  {
   "cell_type": "code",
   "execution_count": 40,
   "id": "3c403216-250c-4a9d-b20f-578700df3815",
   "metadata": {},
   "outputs": [],
   "source": [
    "Audi_VW <- rbind(Audi_Midsize, VW_Midsize)"
   ]
  },
  {
   "cell_type": "code",
   "execution_count": 42,
   "id": "40d41b27-7a0e-4796-91a6-adee4fd97c34",
   "metadata": {},
   "outputs": [
    {
     "data": {
      "text/html": [
       "<table class=\"dataframe\">\n",
       "<caption>A tibble: 6 × 12</caption>\n",
       "<thead>\n",
       "\t<tr><th scope=col>id</th><th scope=col>make</th><th scope=col>model</th><th scope=col>year</th><th scope=col>class</th><th scope=col>trans</th><th scope=col>drive</th><th scope=col>cyl</th><th scope=col>displ</th><th scope=col>fuel</th><th scope=col>hwy</th><th scope=col>cty</th></tr>\n",
       "\t<tr><th scope=col>&lt;dbl&gt;</th><th scope=col>&lt;chr&gt;</th><th scope=col>&lt;chr&gt;</th><th scope=col>&lt;dbl&gt;</th><th scope=col>&lt;chr&gt;</th><th scope=col>&lt;chr&gt;</th><th scope=col>&lt;chr&gt;</th><th scope=col>&lt;dbl&gt;</th><th scope=col>&lt;dbl&gt;</th><th scope=col>&lt;chr&gt;</th><th scope=col>&lt;dbl&gt;</th><th scope=col>&lt;dbl&gt;</th></tr>\n",
       "</thead>\n",
       "<tbody>\n",
       "\t<tr><td>5656</td><td>Audi</td><td>100</td><td>1989</td><td>Midsize Cars</td><td>Automatic 3-spd</td><td>Front-Wheel Drive</td><td>5</td><td>2.3</td><td>Regular</td><td>20</td><td>17</td></tr>\n",
       "\t<tr><td>5657</td><td>Audi</td><td>100</td><td>1989</td><td>Midsize Cars</td><td>Manual 5-spd   </td><td>Front-Wheel Drive</td><td>5</td><td>2.3</td><td>Regular</td><td>23</td><td>16</td></tr>\n",
       "\t<tr><td>6784</td><td>Audi</td><td>100</td><td>1990</td><td>Midsize Cars</td><td>Automatic 3-spd</td><td>Front-Wheel Drive</td><td>5</td><td>2.3</td><td>Regular</td><td>20</td><td>16</td></tr>\n",
       "\t<tr><td>6785</td><td>Audi</td><td>100</td><td>1990</td><td>Midsize Cars</td><td>Automatic 4-spd</td><td>Front-Wheel Drive</td><td>5</td><td>2.3</td><td>Regular</td><td>22</td><td>16</td></tr>\n",
       "\t<tr><td>7908</td><td>Audi</td><td>100</td><td>1991</td><td>Midsize Cars</td><td>Automatic 4-spd</td><td>Front-Wheel Drive</td><td>5</td><td>2.3</td><td>Regular</td><td>22</td><td>16</td></tr>\n",
       "\t<tr><td>8987</td><td>Audi</td><td>100</td><td>1992</td><td>Midsize Cars</td><td>Automatic 4-spd</td><td>Front-Wheel Drive</td><td>6</td><td>2.8</td><td>Premium</td><td>23</td><td>15</td></tr>\n",
       "</tbody>\n",
       "</table>\n"
      ],
      "text/latex": [
       "A tibble: 6 × 12\n",
       "\\begin{tabular}{llllllllllll}\n",
       " id & make & model & year & class & trans & drive & cyl & displ & fuel & hwy & cty\\\\\n",
       " <dbl> & <chr> & <chr> & <dbl> & <chr> & <chr> & <chr> & <dbl> & <dbl> & <chr> & <dbl> & <dbl>\\\\\n",
       "\\hline\n",
       "\t 5656 & Audi & 100 & 1989 & Midsize Cars & Automatic 3-spd & Front-Wheel Drive & 5 & 2.3 & Regular & 20 & 17\\\\\n",
       "\t 5657 & Audi & 100 & 1989 & Midsize Cars & Manual 5-spd    & Front-Wheel Drive & 5 & 2.3 & Regular & 23 & 16\\\\\n",
       "\t 6784 & Audi & 100 & 1990 & Midsize Cars & Automatic 3-spd & Front-Wheel Drive & 5 & 2.3 & Regular & 20 & 16\\\\\n",
       "\t 6785 & Audi & 100 & 1990 & Midsize Cars & Automatic 4-spd & Front-Wheel Drive & 5 & 2.3 & Regular & 22 & 16\\\\\n",
       "\t 7908 & Audi & 100 & 1991 & Midsize Cars & Automatic 4-spd & Front-Wheel Drive & 5 & 2.3 & Regular & 22 & 16\\\\\n",
       "\t 8987 & Audi & 100 & 1992 & Midsize Cars & Automatic 4-spd & Front-Wheel Drive & 6 & 2.8 & Premium & 23 & 15\\\\\n",
       "\\end{tabular}\n"
      ],
      "text/markdown": [
       "\n",
       "A tibble: 6 × 12\n",
       "\n",
       "| id &lt;dbl&gt; | make &lt;chr&gt; | model &lt;chr&gt; | year &lt;dbl&gt; | class &lt;chr&gt; | trans &lt;chr&gt; | drive &lt;chr&gt; | cyl &lt;dbl&gt; | displ &lt;dbl&gt; | fuel &lt;chr&gt; | hwy &lt;dbl&gt; | cty &lt;dbl&gt; |\n",
       "|---|---|---|---|---|---|---|---|---|---|---|---|\n",
       "| 5656 | Audi | 100 | 1989 | Midsize Cars | Automatic 3-spd | Front-Wheel Drive | 5 | 2.3 | Regular | 20 | 17 |\n",
       "| 5657 | Audi | 100 | 1989 | Midsize Cars | Manual 5-spd    | Front-Wheel Drive | 5 | 2.3 | Regular | 23 | 16 |\n",
       "| 6784 | Audi | 100 | 1990 | Midsize Cars | Automatic 3-spd | Front-Wheel Drive | 5 | 2.3 | Regular | 20 | 16 |\n",
       "| 6785 | Audi | 100 | 1990 | Midsize Cars | Automatic 4-spd | Front-Wheel Drive | 5 | 2.3 | Regular | 22 | 16 |\n",
       "| 7908 | Audi | 100 | 1991 | Midsize Cars | Automatic 4-spd | Front-Wheel Drive | 5 | 2.3 | Regular | 22 | 16 |\n",
       "| 8987 | Audi | 100 | 1992 | Midsize Cars | Automatic 4-spd | Front-Wheel Drive | 6 | 2.8 | Premium | 23 | 15 |\n",
       "\n"
      ],
      "text/plain": [
       "  id   make model year class        trans           drive             cyl displ\n",
       "1 5656 Audi 100   1989 Midsize Cars Automatic 3-spd Front-Wheel Drive 5   2.3  \n",
       "2 5657 Audi 100   1989 Midsize Cars Manual 5-spd    Front-Wheel Drive 5   2.3  \n",
       "3 6784 Audi 100   1990 Midsize Cars Automatic 3-spd Front-Wheel Drive 5   2.3  \n",
       "4 6785 Audi 100   1990 Midsize Cars Automatic 4-spd Front-Wheel Drive 5   2.3  \n",
       "5 7908 Audi 100   1991 Midsize Cars Automatic 4-spd Front-Wheel Drive 5   2.3  \n",
       "6 8987 Audi 100   1992 Midsize Cars Automatic 4-spd Front-Wheel Drive 6   2.8  \n",
       "  fuel    hwy cty\n",
       "1 Regular 20  17 \n",
       "2 Regular 23  16 \n",
       "3 Regular 20  16 \n",
       "4 Regular 22  16 \n",
       "5 Regular 22  16 \n",
       "6 Premium 23  15 "
      ]
     },
     "metadata": {},
     "output_type": "display_data"
    }
   ],
   "source": [
    "head(Audi_VW)"
   ]
  },
  {
   "cell_type": "code",
   "execution_count": 44,
   "id": "fe9c0c33-9a51-408f-beb4-a75b41445b12",
   "metadata": {},
   "outputs": [
    {
     "name": "stderr",
     "output_type": "stream",
     "text": [
      "\u001b[1m\u001b[22m`stat_bin()` using `bins = 30`. Pick better value with `binwidth`.\n"
     ]
    },
    {
     "data": {
      "image/png": "[encoded data removed]",
      "text/plain": [
       "plot without title"
      ]
     },
     "metadata": {
      "image/png": {
       "height": 420,
       "width": 420
      }
     },
     "output_type": "display_data"
    }
   ],
   "source": [
    "ggplot(Audi_VW,\n",
    "       aes(x = cty,\n",
    "           fill = make)) +\n",
    "    geom_histogram(position='identity',\n",
    "                   alpha = 0.5)"
   ]
  },
  {
   "cell_type": "code",
   "execution_count": null,
   "id": "ed2b5029-4ae7-4872-9f4a-5a3fc7b2c3cd",
   "metadata": {},
   "outputs": [],
   "source": [
    "#ggplot(dataframe \n",
    "#aes\n",
    "#position is used to define the y axis"
   ]
  },
  {
   "cell_type": "code",
   "execution_count": 45,
   "id": "b4ec0643-4123-461c-921a-f44a3d066903",
   "metadata": {},
   "outputs": [
    {
     "data": {
      "image/png": "[encoded data removed]",
      "text/plain": [
       "plot without title"
      ]
     },
     "metadata": {
      "image/png": {
       "height": 420,
       "width": 420
      }
     },
     "output_type": "display_data"
    }
   ],
   "source": [
    "ggplot(Audi_VW,\n",
    "       aes(x = cty,\n",
    "           fill = make)) +\n",
    "    geom_histogram(position='identity',\n",
    "                   alpha = 0.5,\n",
    "                  bins = 20)"
   ]
  },
  {
   "cell_type": "code",
   "execution_count": 46,
   "id": "163893b5-680f-4f5c-b5c2-c8c9332c12e5",
   "metadata": {
    "scrolled": true
   },
   "outputs": [
    {
     "data": {
      "text/plain": [
       "\n",
       "\tShapiro-Wilk normality test\n",
       "\n",
       "data:  Audi_Midsize$cty\n",
       "W = 0.80939, p-value = 4.961e-13\n"
      ]
     },
     "metadata": {},
     "output_type": "display_data"
    },
    {
     "data": {
      "text/plain": [
       "\n",
       "\tShapiro-Wilk normality test\n",
       "\n",
       "data:  VW_Midsize$cty\n",
       "W = 0.77643, p-value = 7.732e-11\n"
      ]
     },
     "metadata": {},
     "output_type": "display_data"
    }
   ],
   "source": [
    "shapiro.test(Audi_Midsize$cty)\n",
    "shapiro.test(VW_Midsize$cty)"
   ]
  },
  {
   "cell_type": "code",
   "execution_count": 47,
   "id": "886c50f3-c6fe-4386-906f-13999e727e75",
   "metadata": {},
   "outputs": [
    {
     "data": {
      "image/png": "[encoded data removed]",
      "text/plain": [
       "plot without title"
      ]
     },
     "metadata": {
      "image/png": {
       "height": 420,
       "width": 420
      }
     },
     "output_type": "display_data"
    }
   ],
   "source": [
    "ggplot(Audi_VW,\n",
    "       aes(x = cty,\n",
    "           fill = make)) +\n",
    "    geom_density(alpha = 0.5)"
   ]
  },
  {
   "cell_type": "markdown",
   "id": "7ba9c962-d51c-4fdc-be6a-3506c0e93af6",
   "metadata": {},
   "source": [
    "We see that a normal distribution is an okay model for our data, but perhaps not the best one. We can see something important happening in the tails suggesting there is important structure we will miss."
   ]
  },
  {
   "cell_type": "markdown",
   "id": "cdd487c6-beb9-449f-a940-dc03e6bcb5b6",
   "metadata": {},
   "source": [
    "Let's investigate that structure"
   ]
  },
  {
   "cell_type": "code",
   "execution_count": 48,
   "id": "7cb13735-65d0-4d22-a8a0-1f47881f49af",
   "metadata": {},
   "outputs": [
    {
     "name": "stdout",
     "output_type": "stream",
     "text": [
      "tibble [254 × 12] (S3: tbl_df/tbl/data.frame)\n",
      " $ id   : num [1:254] 5656 5657 6784 6785 7908 ...\n",
      " $ make : chr [1:254] \"Audi\" \"Audi\" \"Audi\" \"Audi\" ...\n",
      " $ model: chr [1:254] \"100\" \"100\" \"100\" \"100\" ...\n",
      " $ year : num [1:254] 1989 1989 1990 1990 1991 ...\n",
      " $ class: chr [1:254] \"Midsize Cars\" \"Midsize Cars\" \"Midsize Cars\" \"Midsize Cars\" ...\n",
      " $ trans: chr [1:254] \"Automatic 3-spd\" \"Manual 5-spd\" \"Automatic 3-spd\" \"Automatic 4-spd\" ...\n",
      " $ drive: chr [1:254] \"Front-Wheel Drive\" \"Front-Wheel Drive\" \"Front-Wheel Drive\" \"Front-Wheel Drive\" ...\n",
      " $ cyl  : num [1:254] 5 5 5 5 5 6 6 6 6 6 ...\n",
      " $ displ: num [1:254] 2.3 2.3 2.3 2.3 2.3 2.8 2.8 2.8 2.8 2.8 ...\n",
      " $ fuel : chr [1:254] \"Regular\" \"Regular\" \"Regular\" \"Regular\" ...\n",
      " $ hwy  : num [1:254] 20 23 20 22 22 23 22 24 22 24 ...\n",
      " $ cty  : num [1:254] 17 16 16 16 16 15 17 17 17 17 ...\n"
     ]
    }
   ],
   "source": [
    "str(Audi_VW)"
   ]
  },
  {
   "cell_type": "markdown",
   "id": "bff48c6c-3ce4-499d-887a-ef45356f205a",
   "metadata": {},
   "source": [
    "Let's make a scatterplot"
   ]
  },
  {
   "cell_type": "code",
   "execution_count": 49,
   "id": "1f239343-edcb-4690-a753-02349cc94a43",
   "metadata": {},
   "outputs": [
    {
     "data": {
      "image/png": "[encoded data removed]",
      "text/plain": [
       "plot without title"
      ]
     },
     "metadata": {
      "image/png": {
       "height": 420,
       "width": 420
      }
     },
     "output_type": "display_data"
    }
   ],
   "source": [
    "ggplot(Audi_VW,\n",
    "       aes(x = cyl,\n",
    "           y = cty)) +\n",
    "    geom_point()"
   ]
  },
  {
   "cell_type": "code",
   "execution_count": 50,
   "id": "b9c2b00c-6c45-4e23-aafd-246543323b87",
   "metadata": {},
   "outputs": [
    {
     "data": {
      "image/png": "[encoded data removed]",
      "text/plain": [
       "plot without title"
      ]
     },
     "metadata": {
      "image/png": {
       "height": 420,
       "width": 420
      }
     },
     "output_type": "display_data"
    }
   ],
   "source": [
    "ggplot(Audi_VW,\n",
    "       aes(x = cyl,\n",
    "           y = cty)) +\n",
    "    geom_point() +\n",
    "    facet_wrap(~make)"
   ]
  },
  {
   "cell_type": "code",
   "execution_count": 51,
   "id": "0ce38305-0ba9-443c-8e22-3107dabab89a",
   "metadata": {},
   "outputs": [
    {
     "data": {
      "image/png": "[encoded data removed]",
      "text/plain": [
       "plot without title"
      ]
     },
     "metadata": {
      "image/png": {
       "height": 420,
       "width": 420
      }
     },
     "output_type": "display_data"
    }
   ],
   "source": [
    "ggplot(Audi_VW,\n",
    "       aes(x = cyl,\n",
    "           y = cty)) +\n",
    "    geom_point(position = 'jitter') +\n",
    "    facet_wrap(~make)"
   ]
  },
  {
   "cell_type": "code",
   "execution_count": 60,
   "id": "2d46d41f-6ee5-43eb-92ea-3540c4a34673",
   "metadata": {},
   "outputs": [],
   "source": [
    "data(iris)"
   ]
  },
  {
   "cell_type": "code",
   "execution_count": null,
   "id": "e1b6a539-a128-4eac-ab66-7c71303d8b1b",
   "metadata": {},
   "outputs": [],
   "source": [
    "1. Look up the documentation - what is each variable?\n",
    "2. Look at the dataframe.\n",
    "3. Plot all sepal width for all 3 species in 1 plot - as fancy as possible.\n",
    "4. Compare setosa and versicolor varieties in terms of sepal length\n",
    "    - summary stats\n",
    "    - making frequency plots\n",
    "    - making probability plots\n",
    "    - normality test\n",
    "    - t-test + interpret! (try and report formally)"
   ]
  },
  {
   "cell_type": "code",
   "execution_count": null,
   "id": "158068e2-5af2-44ae-abb5-12693917346d",
   "metadata": {},
   "outputs": [],
   "source": []
  },
  {
   "cell_type": "code",
   "execution_count": 64,
   "id": "2d7f0019-5047-485f-becd-9340cceb57a8",
   "metadata": {
    "scrolled": true
   },
   "outputs": [
    {
     "data": {
      "text/html": [
       "<table class=\"dataframe\">\n",
       "<caption>A data.frame: 6 × 5</caption>\n",
       "<thead>\n",
       "\t<tr><th></th><th scope=col>Sepal.Length</th><th scope=col>Sepal.Width</th><th scope=col>Petal.Length</th><th scope=col>Petal.Width</th><th scope=col>Species</th></tr>\n",
       "\t<tr><th></th><th scope=col>&lt;dbl&gt;</th><th scope=col>&lt;dbl&gt;</th><th scope=col>&lt;dbl&gt;</th><th scope=col>&lt;dbl&gt;</th><th scope=col>&lt;fct&gt;</th></tr>\n",
       "</thead>\n",
       "<tbody>\n",
       "\t<tr><th scope=row>1</th><td>5.1</td><td>3.5</td><td>1.4</td><td>0.2</td><td>setosa</td></tr>\n",
       "\t<tr><th scope=row>2</th><td>4.9</td><td>3.0</td><td>1.4</td><td>0.2</td><td>setosa</td></tr>\n",
       "\t<tr><th scope=row>3</th><td>4.7</td><td>3.2</td><td>1.3</td><td>0.2</td><td>setosa</td></tr>\n",
       "\t<tr><th scope=row>4</th><td>4.6</td><td>3.1</td><td>1.5</td><td>0.2</td><td>setosa</td></tr>\n",
       "\t<tr><th scope=row>5</th><td>5.0</td><td>3.6</td><td>1.4</td><td>0.2</td><td>setosa</td></tr>\n",
       "\t<tr><th scope=row>6</th><td>5.4</td><td>3.9</td><td>1.7</td><td>0.4</td><td>setosa</td></tr>\n",
       "</tbody>\n",
       "</table>\n"
      ],
      "text/latex": [
       "A data.frame: 6 × 5\n",
       "\\begin{tabular}{r|lllll}\n",
       "  & Sepal.Length & Sepal.Width & Petal.Length & Petal.Width & Species\\\\\n",
       "  & <dbl> & <dbl> & <dbl> & <dbl> & <fct>\\\\\n",
       "\\hline\n",
       "\t1 & 5.1 & 3.5 & 1.4 & 0.2 & setosa\\\\\n",
       "\t2 & 4.9 & 3.0 & 1.4 & 0.2 & setosa\\\\\n",
       "\t3 & 4.7 & 3.2 & 1.3 & 0.2 & setosa\\\\\n",
       "\t4 & 4.6 & 3.1 & 1.5 & 0.2 & setosa\\\\\n",
       "\t5 & 5.0 & 3.6 & 1.4 & 0.2 & setosa\\\\\n",
       "\t6 & 5.4 & 3.9 & 1.7 & 0.4 & setosa\\\\\n",
       "\\end{tabular}\n"
      ],
      "text/markdown": [
       "\n",
       "A data.frame: 6 × 5\n",
       "\n",
       "| <!--/--> | Sepal.Length &lt;dbl&gt; | Sepal.Width &lt;dbl&gt; | Petal.Length &lt;dbl&gt; | Petal.Width &lt;dbl&gt; | Species &lt;fct&gt; |\n",
       "|---|---|---|---|---|---|\n",
       "| 1 | 5.1 | 3.5 | 1.4 | 0.2 | setosa |\n",
       "| 2 | 4.9 | 3.0 | 1.4 | 0.2 | setosa |\n",
       "| 3 | 4.7 | 3.2 | 1.3 | 0.2 | setosa |\n",
       "| 4 | 4.6 | 3.1 | 1.5 | 0.2 | setosa |\n",
       "| 5 | 5.0 | 3.6 | 1.4 | 0.2 | setosa |\n",
       "| 6 | 5.4 | 3.9 | 1.7 | 0.4 | setosa |\n",
       "\n"
      ],
      "text/plain": [
       "  Sepal.Length Sepal.Width Petal.Length Petal.Width Species\n",
       "1 5.1          3.5         1.4          0.2         setosa \n",
       "2 4.9          3.0         1.4          0.2         setosa \n",
       "3 4.7          3.2         1.3          0.2         setosa \n",
       "4 4.6          3.1         1.5          0.2         setosa \n",
       "5 5.0          3.6         1.4          0.2         setosa \n",
       "6 5.4          3.9         1.7          0.4         setosa "
      ]
     },
     "metadata": {},
     "output_type": "display_data"
    }
   ],
   "source": [
    "head(iris)"
   ]
  },
  {
   "cell_type": "code",
   "execution_count": 63,
   "id": "aeb81513-aa2b-4c81-89a4-5c4b25b0fffe",
   "metadata": {},
   "outputs": [
    {
     "name": "stdout",
     "output_type": "stream",
     "text": [
      "'data.frame':\t150 obs. of  5 variables:\n",
      " $ Sepal.Length: num  5.1 4.9 4.7 4.6 5 5.4 4.6 5 4.4 4.9 ...\n",
      " $ Sepal.Width : num  3.5 3 3.2 3.1 3.6 3.9 3.4 3.4 2.9 3.1 ...\n",
      " $ Petal.Length: num  1.4 1.4 1.3 1.5 1.4 1.7 1.4 1.5 1.4 1.5 ...\n",
      " $ Petal.Width : num  0.2 0.2 0.2 0.2 0.2 0.4 0.3 0.2 0.2 0.1 ...\n",
      " $ Species     : Factor w/ 3 levels \"setosa\",\"versicolor\",..: 1 1 1 1 1 1 1 1 1 1 ...\n"
     ]
    }
   ],
   "source": [
    "str(iris)"
   ]
  },
  {
   "cell_type": "code",
   "execution_count": null,
   "id": "cbe2bbc9-1115-463c-9af2-9a8fa3fe944e",
   "metadata": {},
   "outputs": [],
   "source": []
  },
  {
   "cell_type": "code",
   "execution_count": null,
   "id": "62caa566-08ad-407b-9efe-23d3b191f7b5",
   "metadata": {},
   "outputs": [],
   "source": []
  }
 ],
 "metadata": {
  "kernelspec": {
   "display_name": "R",
   "language": "R",
   "name": "ir"
  },
  "language_info": {
   "codemirror_mode": "r",
   "file_extension": ".r",
   "mimetype": "text/x-r-source",
   "name": "R",
   "pygments_lexer": "r",
   "version": "4.4.1"
  }
 },
 "nbformat": 4,
 "nbformat_minor": 5
}
