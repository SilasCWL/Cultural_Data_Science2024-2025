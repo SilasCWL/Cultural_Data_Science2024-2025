{
 "cells": [
  {
   "cell_type": "code",
   "execution_count": null,
   "id": "c4bd9ac5-f2bd-4155-b7a5-a517de902106",
   "metadata": {},
   "outputs": [],
   "source": []
  }
 ],
 "metadata": {
  "kernelspec": {
   "display_name": "R",
   "language": "R",
   "name": "ir"
  },
  "language_info": {
   "codemirror_mode": "r",
   "file_extension": ".r",
   "mimetype": "text/x-r-source",
   "name": "R",
   "pygments_lexer": "r",
   "version": "4.4.1"
  }
 },
 "nbformat": 4,
 "nbformat_minor": 5
}
