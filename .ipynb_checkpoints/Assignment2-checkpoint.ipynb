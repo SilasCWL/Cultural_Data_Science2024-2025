{
 "cells": [
  {
   "cell_type": "code",
   "execution_count": null,
   "id": "0e8fe49c-35c5-4c78-bae9-5776b2d2aa66",
   "metadata": {},
   "outputs": [],
   "source": [
    "#ASSIGNMENT 2, CULTURAL DATA SCIENCE 2024"
   ]
  },
  {
   "cell_type": "code",
   "execution_count": null,
   "id": "9ffd385b-97ff-4f8e-886c-6dd6499aa0a7",
   "metadata": {},
   "outputs": [],
   "source": [
    "#Part 1 - margarine and divorce"
   ]
  },
  {
   "cell_type": "code",
   "execution_count": 7,
   "id": "1e7ce08d-1cfd-4863-b870-9f4fd84ecfa0",
   "metadata": {},
   "outputs": [
    {
     "name": "stderr",
     "output_type": "stream",
     "text": [
      "Installing package into ‘/usr/local/spark-3.5.2-bin-hadoop3/R/lib’\n",
      "(as ‘lib’ is unspecified)\n",
      "\n",
      "Installing package into ‘/usr/local/spark-3.5.2-bin-hadoop3/R/lib’\n",
      "(as ‘lib’ is unspecified)\n",
      "\n"
     ]
    }
   ],
   "source": [
    "#installing\n",
    "install.packages('dslabs')\n",
    "install.packages('ggplot2')"
   ]
  },
  {
   "cell_type": "code",
   "execution_count": 4,
   "id": "2866fc09-a55c-4f1d-a09f-303b15976c5e",
   "metadata": {},
   "outputs": [],
   "source": [
    "#loading libraries\n",
    "library(dslabs)\n",
    "library(dplyr)\n",
    "library(ggplot2)"
   ]
  },
  {
   "cell_type": "markdown",
   "id": "355a8996-6970-42a9-b179-ff39b862946b",
   "metadata": {},
   "source": []
  },
  {
   "cell_type": "code",
   "execution_count": null,
   "id": "b5127b73-e23f-48b0-8afa-6153b564e8eb",
   "metadata": {},
   "outputs": [],
   "source": [
    "#loading the data"
   ]
  },
  {
   "cell_type": "code",
   "execution_count": 5,
   "id": "bc729422-3569-4f88-91f8-4174710c046d",
   "metadata": {},
   "outputs": [],
   "source": [
    "data(divorce_margarine)"
   ]
  },
  {
   "cell_type": "code",
   "execution_count": 9,
   "id": "c0a34c5b-1091-4f73-b00b-11a462bf0ab2",
   "metadata": {
    "scrolled": true
   },
   "outputs": [
    {
     "data": {
      "text/html": [
       "<table class=\"dataframe\">\n",
       "<caption>A data.frame: 6 × 3</caption>\n",
       "<thead>\n",
       "\t<tr><th></th><th scope=col>divorce_rate_maine</th><th scope=col>margarine_consumption_per_capita</th><th scope=col>year</th></tr>\n",
       "\t<tr><th></th><th scope=col>&lt;dbl&gt;</th><th scope=col>&lt;dbl&gt;</th><th scope=col>&lt;int&gt;</th></tr>\n",
       "</thead>\n",
       "<tbody>\n",
       "\t<tr><th scope=row>1</th><td>5.0</td><td>8.2</td><td>2000</td></tr>\n",
       "\t<tr><th scope=row>2</th><td>4.7</td><td>7.0</td><td>2001</td></tr>\n",
       "\t<tr><th scope=row>3</th><td>4.6</td><td>6.5</td><td>2002</td></tr>\n",
       "\t<tr><th scope=row>4</th><td>4.4</td><td>5.3</td><td>2003</td></tr>\n",
       "\t<tr><th scope=row>5</th><td>4.3</td><td>5.2</td><td>2004</td></tr>\n",
       "\t<tr><th scope=row>6</th><td>4.1</td><td>4.0</td><td>2005</td></tr>\n",
       "</tbody>\n",
       "</table>\n"
      ],
      "text/latex": [
       "A data.frame: 6 × 3\n",
       "\\begin{tabular}{r|lll}\n",
       "  & divorce\\_rate\\_maine & margarine\\_consumption\\_per\\_capita & year\\\\\n",
       "  & <dbl> & <dbl> & <int>\\\\\n",
       "\\hline\n",
       "\t1 & 5.0 & 8.2 & 2000\\\\\n",
       "\t2 & 4.7 & 7.0 & 2001\\\\\n",
       "\t3 & 4.6 & 6.5 & 2002\\\\\n",
       "\t4 & 4.4 & 5.3 & 2003\\\\\n",
       "\t5 & 4.3 & 5.2 & 2004\\\\\n",
       "\t6 & 4.1 & 4.0 & 2005\\\\\n",
       "\\end{tabular}\n"
      ],
      "text/markdown": [
       "\n",
       "A data.frame: 6 × 3\n",
       "\n",
       "| <!--/--> | divorce_rate_maine &lt;dbl&gt; | margarine_consumption_per_capita &lt;dbl&gt; | year &lt;int&gt; |\n",
       "|---|---|---|---|\n",
       "| 1 | 5.0 | 8.2 | 2000 |\n",
       "| 2 | 4.7 | 7.0 | 2001 |\n",
       "| 3 | 4.6 | 6.5 | 2002 |\n",
       "| 4 | 4.4 | 5.3 | 2003 |\n",
       "| 5 | 4.3 | 5.2 | 2004 |\n",
       "| 6 | 4.1 | 4.0 | 2005 |\n",
       "\n"
      ],
      "text/plain": [
       "  divorce_rate_maine margarine_consumption_per_capita year\n",
       "1 5.0                8.2                              2000\n",
       "2 4.7                7.0                              2001\n",
       "3 4.6                6.5                              2002\n",
       "4 4.4                5.3                              2003\n",
       "5 4.3                5.2                              2004\n",
       "6 4.1                4.0                              2005"
      ]
     },
     "metadata": {},
     "output_type": "display_data"
    }
   ],
   "source": [
    "head(divorce_margarine)"
   ]
  },
  {
   "cell_type": "code",
   "execution_count": 12,
   "id": "05e60778-91e6-42a9-8b73-7025e4ab093e",
   "metadata": {},
   "outputs": [
    {
     "data": {
      "text/html": [
       "<table class=\"dataframe\">\n",
       "<caption>A data.frame: 10 × 3</caption>\n",
       "<thead>\n",
       "\t<tr><th scope=col>divorce_rate_maine</th><th scope=col>margarine_consumption_per_capita</th><th scope=col>year</th></tr>\n",
       "\t<tr><th scope=col>&lt;dbl&gt;</th><th scope=col>&lt;dbl&gt;</th><th scope=col>&lt;int&gt;</th></tr>\n",
       "</thead>\n",
       "<tbody>\n",
       "\t<tr><td>5.0</td><td>8.2</td><td>2000</td></tr>\n",
       "\t<tr><td>4.7</td><td>7.0</td><td>2001</td></tr>\n",
       "\t<tr><td>4.6</td><td>6.5</td><td>2002</td></tr>\n",
       "\t<tr><td>4.4</td><td>5.3</td><td>2003</td></tr>\n",
       "\t<tr><td>4.3</td><td>5.2</td><td>2004</td></tr>\n",
       "\t<tr><td>4.1</td><td>4.0</td><td>2005</td></tr>\n",
       "\t<tr><td>4.2</td><td>4.6</td><td>2006</td></tr>\n",
       "\t<tr><td>4.2</td><td>4.5</td><td>2007</td></tr>\n",
       "\t<tr><td>4.2</td><td>4.2</td><td>2008</td></tr>\n",
       "\t<tr><td>4.1</td><td>3.7</td><td>2009</td></tr>\n",
       "</tbody>\n",
       "</table>\n"
      ],
      "text/latex": [
       "A data.frame: 10 × 3\n",
       "\\begin{tabular}{lll}\n",
       " divorce\\_rate\\_maine & margarine\\_consumption\\_per\\_capita & year\\\\\n",
       " <dbl> & <dbl> & <int>\\\\\n",
       "\\hline\n",
       "\t 5.0 & 8.2 & 2000\\\\\n",
       "\t 4.7 & 7.0 & 2001\\\\\n",
       "\t 4.6 & 6.5 & 2002\\\\\n",
       "\t 4.4 & 5.3 & 2003\\\\\n",
       "\t 4.3 & 5.2 & 2004\\\\\n",
       "\t 4.1 & 4.0 & 2005\\\\\n",
       "\t 4.2 & 4.6 & 2006\\\\\n",
       "\t 4.2 & 4.5 & 2007\\\\\n",
       "\t 4.2 & 4.2 & 2008\\\\\n",
       "\t 4.1 & 3.7 & 2009\\\\\n",
       "\\end{tabular}\n"
      ],
      "text/markdown": [
       "\n",
       "A data.frame: 10 × 3\n",
       "\n",
       "| divorce_rate_maine &lt;dbl&gt; | margarine_consumption_per_capita &lt;dbl&gt; | year &lt;int&gt; |\n",
       "|---|---|---|\n",
       "| 5.0 | 8.2 | 2000 |\n",
       "| 4.7 | 7.0 | 2001 |\n",
       "| 4.6 | 6.5 | 2002 |\n",
       "| 4.4 | 5.3 | 2003 |\n",
       "| 4.3 | 5.2 | 2004 |\n",
       "| 4.1 | 4.0 | 2005 |\n",
       "| 4.2 | 4.6 | 2006 |\n",
       "| 4.2 | 4.5 | 2007 |\n",
       "| 4.2 | 4.2 | 2008 |\n",
       "| 4.1 | 3.7 | 2009 |\n",
       "\n"
      ],
      "text/plain": [
       "   divorce_rate_maine margarine_consumption_per_capita year\n",
       "1  5.0                8.2                              2000\n",
       "2  4.7                7.0                              2001\n",
       "3  4.6                6.5                              2002\n",
       "4  4.4                5.3                              2003\n",
       "5  4.3                5.2                              2004\n",
       "6  4.1                4.0                              2005\n",
       "7  4.2                4.6                              2006\n",
       "8  4.2                4.5                              2007\n",
       "9  4.2                4.2                              2008\n",
       "10 4.1                3.7                              2009"
      ]
     },
     "metadata": {},
     "output_type": "display_data"
    }
   ],
   "source": [
    "divorce_margarine"
   ]
  },
  {
   "cell_type": "code",
   "execution_count": 11,
   "id": "502b6769-0214-4a18-8fce-a2e7b82b3a9d",
   "metadata": {},
   "outputs": [
    {
     "data": {
      "image/png": "[encoded data removed]",
      "text/plain": [
       "plot without title"
      ]
     },
     "metadata": {
      "image/png": {
       "height": 420,
       "width": 420
      }
     },
     "output_type": "display_data"
    }
   ],
   "source": [
    "ggplot(divorce_margarine,\n",
    "       aes(x = margarine_consumption_per_capita,\n",
    "           y = divorce_rate_maine)) +\n",
    "    geom_point()"
   ]
  },
  {
   "cell_type": "code",
   "execution_count": null,
   "id": "e89c6498-0bdd-4fb8-a3b7-b5a9e86df53e",
   "metadata": {},
   "outputs": [],
   "source": [
    "#Conclusion: It seems that those who consume more margarine also have higher rates"
   ]
  },
  {
   "cell_type": "code",
   "execution_count": null,
   "id": "3646c513-3108-4465-97a4-9403392fd00e",
   "metadata": {},
   "outputs": [],
   "source": [
    "#However, they are both get lower over time, so we cannot say much. It is likely not closely related, though perhaps tied to common economic reasons"
   ]
  },
  {
   "cell_type": "code",
   "execution_count": 13,
   "id": "035e56bd-3f59-4507-baa4-a34180b767bc",
   "metadata": {
    "scrolled": true
   },
   "outputs": [
    {
     "data": {
      "text/plain": [
       "\n",
       "\tPearson's product-moment correlation\n",
       "\n",
       "data:  divorce_margarine$divorce_rate_maine and divorce_margarine$margarine_consumption_per_capita\n",
       "t = 23.055, df = 8, p-value = 1.33e-08\n",
       "alternative hypothesis: true correlation is not equal to 0\n",
       "95 percent confidence interval:\n",
       " 0.9676666 0.9983038\n",
       "sample estimates:\n",
       "      cor \n",
       "0.9925585 \n"
      ]
     },
     "metadata": {},
     "output_type": "display_data"
    }
   ],
   "source": [
    "cor.test(divorce_margarine$divorce_rate_maine, divorce_margarine$margarine_consumption_per_capita)"
   ]
  },
  {
   "cell_type": "code",
   "execution_count": null,
   "id": "d00db64e-142b-413c-9c8b-49923c1c527f",
   "metadata": {},
   "outputs": [],
   "source": [
    "#the confidence is quite high"
   ]
  },
  {
   "cell_type": "code",
   "execution_count": null,
   "id": "3f2207b9-8036-4601-bc36-c550b9f99b00",
   "metadata": {},
   "outputs": [],
   "source": []
  },
  {
   "cell_type": "markdown",
   "id": "2e50d175-4323-472b-a0fe-1ef8f93846b1",
   "metadata": {},
   "source": [
    "# Part 2 "
   ]
  },
  {
   "cell_type": "code",
   "execution_count": 20,
   "id": "5a75f6b5-384f-4bb4-9ce0-a1f1bddd3b2f",
   "metadata": {
    "scrolled": true
   },
   "outputs": [
    {
     "name": "stderr",
     "output_type": "stream",
     "text": [
      "Installing package into ‘/usr/local/spark-3.5.2-bin-hadoop3/R/lib’\n",
      "(as ‘lib’ is unspecified)\n",
      "\n"
     ]
    }
   ],
   "source": [
    "install.packages('car')"
   ]
  },
  {
   "cell_type": "code",
   "execution_count": 21,
   "id": "1c970c2d-e141-4b3b-b2b5-75b616709f32",
   "metadata": {},
   "outputs": [],
   "source": [
    "library(car)"
   ]
  },
  {
   "cell_type": "code",
   "execution_count": null,
   "id": "1dedcde5-2ed6-4f4f-a2d0-43efbb5d61e8",
   "metadata": {},
   "outputs": [],
   "source": [
    "data(GSSvocab)"
   ]
  },
  {
   "cell_type": "code",
   "execution_count": 24,
   "id": "44d4dc8f-fd40-477d-b724-596b9f9008d7",
   "metadata": {},
   "outputs": [
    {
     "data": {
      "text/html": [
       "<table class=\"dataframe\">\n",
       "<caption>A data.frame: 6 × 8</caption>\n",
       "<thead>\n",
       "\t<tr><th></th><th scope=col>year</th><th scope=col>gender</th><th scope=col>nativeBorn</th><th scope=col>ageGroup</th><th scope=col>educGroup</th><th scope=col>vocab</th><th scope=col>age</th><th scope=col>educ</th></tr>\n",
       "\t<tr><th></th><th scope=col>&lt;fct&gt;</th><th scope=col>&lt;fct&gt;</th><th scope=col>&lt;fct&gt;</th><th scope=col>&lt;fct&gt;</th><th scope=col>&lt;fct&gt;</th><th scope=col>&lt;dbl&gt;</th><th scope=col>&lt;dbl&gt;</th><th scope=col>&lt;dbl&gt;</th></tr>\n",
       "</thead>\n",
       "<tbody>\n",
       "\t<tr><th scope=row>1978.1</th><td>1978</td><td>female</td><td>yes</td><td>50-59</td><td>12 yrs </td><td>10</td><td>52</td><td>12</td></tr>\n",
       "\t<tr><th scope=row>1978.2</th><td>1978</td><td>female</td><td>yes</td><td><span style=white-space:pre-wrap>60+  </span></td><td>&lt;12 yrs</td><td> 6</td><td>74</td><td> 9</td></tr>\n",
       "\t<tr><th scope=row>1978.3</th><td>1978</td><td><span style=white-space:pre-wrap>male  </span></td><td>yes</td><td>30-39</td><td>&lt;12 yrs</td><td> 4</td><td>35</td><td>10</td></tr>\n",
       "\t<tr><th scope=row>1978.4</th><td>1978</td><td>female</td><td>yes</td><td>50-59</td><td>12 yrs </td><td> 9</td><td>50</td><td>12</td></tr>\n",
       "\t<tr><th scope=row>1978.5</th><td>1978</td><td>female</td><td>yes</td><td>40-49</td><td>12 yrs </td><td> 6</td><td>41</td><td>12</td></tr>\n",
       "\t<tr><th scope=row>1978.6</th><td>1978</td><td>male  </td><td>yes</td><td>18-29</td><td>12 yrs </td><td> 6</td><td>19</td><td>12</td></tr>\n",
       "</tbody>\n",
       "</table>\n"
      ],
      "text/latex": [
       "A data.frame: 6 × 8\n",
       "\\begin{tabular}{r|llllllll}\n",
       "  & year & gender & nativeBorn & ageGroup & educGroup & vocab & age & educ\\\\\n",
       "  & <fct> & <fct> & <fct> & <fct> & <fct> & <dbl> & <dbl> & <dbl>\\\\\n",
       "\\hline\n",
       "\t1978.1 & 1978 & female & yes & 50-59 & 12 yrs  & 10 & 52 & 12\\\\\n",
       "\t1978.2 & 1978 & female & yes & 60+   & <12 yrs &  6 & 74 &  9\\\\\n",
       "\t1978.3 & 1978 & male   & yes & 30-39 & <12 yrs &  4 & 35 & 10\\\\\n",
       "\t1978.4 & 1978 & female & yes & 50-59 & 12 yrs  &  9 & 50 & 12\\\\\n",
       "\t1978.5 & 1978 & female & yes & 40-49 & 12 yrs  &  6 & 41 & 12\\\\\n",
       "\t1978.6 & 1978 & male   & yes & 18-29 & 12 yrs  &  6 & 19 & 12\\\\\n",
       "\\end{tabular}\n"
      ],
      "text/markdown": [
       "\n",
       "A data.frame: 6 × 8\n",
       "\n",
       "| <!--/--> | year &lt;fct&gt; | gender &lt;fct&gt; | nativeBorn &lt;fct&gt; | ageGroup &lt;fct&gt; | educGroup &lt;fct&gt; | vocab &lt;dbl&gt; | age &lt;dbl&gt; | educ &lt;dbl&gt; |\n",
       "|---|---|---|---|---|---|---|---|---|\n",
       "| 1978.1 | 1978 | female | yes | 50-59 | 12 yrs  | 10 | 52 | 12 |\n",
       "| 1978.2 | 1978 | female | yes | 60+   | &lt;12 yrs |  6 | 74 |  9 |\n",
       "| 1978.3 | 1978 | male   | yes | 30-39 | &lt;12 yrs |  4 | 35 | 10 |\n",
       "| 1978.4 | 1978 | female | yes | 50-59 | 12 yrs  |  9 | 50 | 12 |\n",
       "| 1978.5 | 1978 | female | yes | 40-49 | 12 yrs  |  6 | 41 | 12 |\n",
       "| 1978.6 | 1978 | male   | yes | 18-29 | 12 yrs  |  6 | 19 | 12 |\n",
       "\n"
      ],
      "text/plain": [
       "       year gender nativeBorn ageGroup educGroup vocab age educ\n",
       "1978.1 1978 female yes        50-59    12 yrs    10    52  12  \n",
       "1978.2 1978 female yes        60+      <12 yrs    6    74   9  \n",
       "1978.3 1978 male   yes        30-39    <12 yrs    4    35  10  \n",
       "1978.4 1978 female yes        50-59    12 yrs     9    50  12  \n",
       "1978.5 1978 female yes        40-49    12 yrs     6    41  12  \n",
       "1978.6 1978 male   yes        18-29    12 yrs     6    19  12  "
      ]
     },
     "metadata": {},
     "output_type": "display_data"
    }
   ],
   "source": [
    "head(GSSvocab)"
   ]
  },
  {
   "cell_type": "code",
   "execution_count": 25,
   "id": "7091caa5-26f6-4a81-96e1-222183f2e02a",
   "metadata": {},
   "outputs": [
    {
     "name": "stdout",
     "output_type": "stream",
     "text": [
      "'data.frame':\t1532 obs. of  8 variables:\n",
      " $ year      : Factor w/ 20 levels \"1978\",\"1982\",..: 1 1 1 1 1 1 1 1 1 1 ...\n",
      " $ gender    : Factor w/ 2 levels \"female\",\"male\": 1 1 2 1 1 2 2 2 1 2 ...\n",
      " $ nativeBorn: Factor w/ 2 levels \"no\",\"yes\": 2 2 2 2 2 2 2 2 2 2 ...\n",
      " $ ageGroup  : Factor w/ 5 levels \"18-29\",\"30-39\",..: 4 5 2 4 3 1 1 4 3 1 ...\n",
      " $ educGroup : Factor w/ 5 levels \"<12 yrs\",\"12 yrs\",..: 2 1 1 2 2 2 2 2 4 2 ...\n",
      " $ vocab     : num  10 6 4 9 6 6 4 7 8 3 ...\n",
      " $ age       : num  52 74 35 50 41 19 19 59 49 21 ...\n",
      " $ educ      : num  12 9 10 12 12 12 12 12 16 12 ...\n"
     ]
    }
   ],
   "source": [
    "Vocab1978 <- GSSvocab %>%\n",
    "    filter(year == \"1978\")\n",
    "str(Vocab1978)"
   ]
  },
  {
   "cell_type": "code",
   "execution_count": 26,
   "id": "9167c09e-8ce3-4e54-9a74-5b495cc06c34",
   "metadata": {
    "scrolled": true
   },
   "outputs": [
    {
     "data": {
      "text/html": [
       "<table class=\"dataframe\">\n",
       "<caption>A data.frame: 1532 × 8</caption>\n",
       "<thead>\n",
       "\t<tr><th></th><th scope=col>year</th><th scope=col>gender</th><th scope=col>nativeBorn</th><th scope=col>ageGroup</th><th scope=col>educGroup</th><th scope=col>vocab</th><th scope=col>age</th><th scope=col>educ</th></tr>\n",
       "\t<tr><th></th><th scope=col>&lt;fct&gt;</th><th scope=col>&lt;fct&gt;</th><th scope=col>&lt;fct&gt;</th><th scope=col>&lt;fct&gt;</th><th scope=col>&lt;fct&gt;</th><th scope=col>&lt;dbl&gt;</th><th scope=col>&lt;dbl&gt;</th><th scope=col>&lt;dbl&gt;</th></tr>\n",
       "</thead>\n",
       "<tbody>\n",
       "\t<tr><th scope=row>1978.1</th><td>1978</td><td>female</td><td>yes</td><td>50-59</td><td>12 yrs   </td><td>10</td><td>52</td><td>12</td></tr>\n",
       "\t<tr><th scope=row>1978.2</th><td>1978</td><td>female</td><td>yes</td><td><span style=white-space:pre-wrap>60+  </span></td><td><span style=white-space:pre-wrap>&lt;12 yrs  </span></td><td> 6</td><td>74</td><td> 9</td></tr>\n",
       "\t<tr><th scope=row>1978.3</th><td>1978</td><td><span style=white-space:pre-wrap>male  </span></td><td>yes</td><td>30-39</td><td><span style=white-space:pre-wrap>&lt;12 yrs  </span></td><td> 4</td><td>35</td><td>10</td></tr>\n",
       "\t<tr><th scope=row>1978.4</th><td>1978</td><td>female</td><td>yes</td><td>50-59</td><td>12 yrs   </td><td> 9</td><td>50</td><td>12</td></tr>\n",
       "\t<tr><th scope=row>1978.5</th><td>1978</td><td>female</td><td>yes</td><td>40-49</td><td>12 yrs   </td><td> 6</td><td>41</td><td>12</td></tr>\n",
       "\t<tr><th scope=row>1978.6</th><td>1978</td><td>male  </td><td>yes</td><td>18-29</td><td>12 yrs   </td><td> 6</td><td>19</td><td>12</td></tr>\n",
       "\t<tr><th scope=row>1978.7</th><td>1978</td><td>male  </td><td>yes</td><td>18-29</td><td>12 yrs   </td><td> 4</td><td>19</td><td>12</td></tr>\n",
       "\t<tr><th scope=row>1978.8</th><td>1978</td><td>male  </td><td>yes</td><td>50-59</td><td>12 yrs   </td><td> 7</td><td>59</td><td>12</td></tr>\n",
       "\t<tr><th scope=row>1978.9</th><td>1978</td><td>female</td><td>yes</td><td>40-49</td><td>16 yrs   </td><td> 8</td><td>49</td><td>16</td></tr>\n",
       "\t<tr><th scope=row>1978.10</th><td>1978</td><td>male  </td><td>yes</td><td>18-29</td><td>12 yrs   </td><td> 3</td><td>21</td><td>12</td></tr>\n",
       "\t<tr><th scope=row>1978.11</th><td>1978</td><td>male  </td><td>yes</td><td>40-49</td><td>12 yrs   </td><td> 7</td><td>44</td><td>12</td></tr>\n",
       "\t<tr><th scope=row>1978.12</th><td>1978</td><td><span style=white-space:pre-wrap>male  </span></td><td>yes</td><td><span style=white-space:pre-wrap>60+  </span></td><td><span style=white-space:pre-wrap>&gt;16 yrs  </span></td><td> 6</td><td>81</td><td>17</td></tr>\n",
       "\t<tr><th scope=row>1978.13</th><td>1978</td><td><span style=white-space:pre-wrap>male  </span></td><td>yes</td><td>40-49</td><td><span style=white-space:pre-wrap>&gt;16 yrs  </span></td><td> 9</td><td>46</td><td>18</td></tr>\n",
       "\t<tr><th scope=row>1978.14</th><td>1978</td><td>female</td><td>yes</td><td>50-59</td><td><span style=white-space:pre-wrap>&gt;16 yrs  </span></td><td> 8</td><td>52</td><td>18</td></tr>\n",
       "\t<tr><th scope=row>1978.15</th><td>1978</td><td><span style=white-space:pre-wrap>male  </span></td><td>yes</td><td>50-59</td><td><span style=white-space:pre-wrap>&lt;12 yrs  </span></td><td> 7</td><td>53</td><td> 7</td></tr>\n",
       "\t<tr><th scope=row>1978.16</th><td>1978</td><td>male  </td><td>no </td><td>18-29</td><td>12 yrs   </td><td> 1</td><td>24</td><td>12</td></tr>\n",
       "\t<tr><th scope=row>1978.17</th><td>1978</td><td>male  </td><td>yes</td><td>40-49</td><td>13-15 yrs</td><td> 6</td><td>43</td><td>14</td></tr>\n",
       "\t<tr><th scope=row>1978.18</th><td>1978</td><td>female</td><td>yes</td><td>18-29</td><td>16 yrs   </td><td>10</td><td>25</td><td>16</td></tr>\n",
       "\t<tr><th scope=row>1978.19</th><td>1978</td><td>male  </td><td>yes</td><td>30-39</td><td>12 yrs   </td><td> 9</td><td>35</td><td>12</td></tr>\n",
       "\t<tr><th scope=row>1978.20</th><td>1978</td><td>male  </td><td>yes</td><td>40-49</td><td>13-15 yrs</td><td>10</td><td>43</td><td>15</td></tr>\n",
       "\t<tr><th scope=row>1978.21</th><td>1978</td><td>female</td><td>yes</td><td><span style=white-space:pre-wrap>60+  </span></td><td><span style=white-space:pre-wrap>&lt;12 yrs  </span></td><td> 3</td><td>73</td><td>10</td></tr>\n",
       "\t<tr><th scope=row>1978.22</th><td>1978</td><td>male  </td><td>no </td><td>50-59</td><td>13-15 yrs</td><td>10</td><td>58</td><td>14</td></tr>\n",
       "\t<tr><th scope=row>1978.23</th><td>1978</td><td>female</td><td>yes</td><td>50-59</td><td>13-15 yrs</td><td> 9</td><td>51</td><td>14</td></tr>\n",
       "\t<tr><th scope=row>1978.24</th><td>1978</td><td>male  </td><td>yes</td><td>50-59</td><td>16 yrs   </td><td> 7</td><td>57</td><td>16</td></tr>\n",
       "\t<tr><th scope=row>1978.25</th><td>1978</td><td><span style=white-space:pre-wrap>male  </span></td><td>yes</td><td>40-49</td><td><span style=white-space:pre-wrap>&gt;16 yrs  </span></td><td> 9</td><td>44</td><td>19</td></tr>\n",
       "\t<tr><th scope=row>1978.26</th><td>1978</td><td>male  </td><td>yes</td><td>60+  </td><td>16 yrs   </td><td>10</td><td>76</td><td>16</td></tr>\n",
       "\t<tr><th scope=row>1978.27</th><td>1978</td><td>female</td><td>no </td><td>30-39</td><td>16 yrs   </td><td>10</td><td>33</td><td>16</td></tr>\n",
       "\t<tr><th scope=row>1978.28</th><td>1978</td><td>female</td><td>yes</td><td>30-39</td><td>12 yrs   </td><td> 4</td><td>39</td><td>12</td></tr>\n",
       "\t<tr><th scope=row>1978.29</th><td>1978</td><td>female</td><td>yes</td><td>18-29</td><td>12 yrs   </td><td> 4</td><td>19</td><td>12</td></tr>\n",
       "\t<tr><th scope=row>1978.30</th><td>1978</td><td>female</td><td>no </td><td>40-49</td><td><span style=white-space:pre-wrap>&lt;12 yrs  </span></td><td> 4</td><td>40</td><td>11</td></tr>\n",
       "\t<tr><th scope=row>⋮</th><td>⋮</td><td>⋮</td><td>⋮</td><td>⋮</td><td>⋮</td><td>⋮</td><td>⋮</td><td>⋮</td></tr>\n",
       "\t<tr><th scope=row>1978.1503</th><td>1978</td><td>female</td><td>yes</td><td>50-59</td><td><span style=white-space:pre-wrap>&lt;12 yrs  </span></td><td> 3</td><td>56</td><td> 4</td></tr>\n",
       "\t<tr><th scope=row>1978.1504</th><td>1978</td><td><span style=white-space:pre-wrap>male  </span></td><td>yes</td><td>18-29</td><td><span style=white-space:pre-wrap>&lt;12 yrs  </span></td><td> 4</td><td>22</td><td>10</td></tr>\n",
       "\t<tr><th scope=row>1978.1505</th><td>1978</td><td>male  </td><td>yes</td><td>40-49</td><td>12 yrs   </td><td>NA</td><td>43</td><td>12</td></tr>\n",
       "\t<tr><th scope=row>1978.1506</th><td>1978</td><td>male  </td><td>yes</td><td>60+  </td><td>12 yrs   </td><td> 6</td><td>70</td><td>12</td></tr>\n",
       "\t<tr><th scope=row>1978.1507</th><td>1978</td><td><span style=white-space:pre-wrap>male  </span></td><td>yes</td><td>30-39</td><td><span style=white-space:pre-wrap>&lt;12 yrs  </span></td><td> 3</td><td>35</td><td>10</td></tr>\n",
       "\t<tr><th scope=row>1978.1508</th><td>1978</td><td>female</td><td>yes</td><td>30-39</td><td><span style=white-space:pre-wrap>&lt;12 yrs  </span></td><td>NA</td><td>33</td><td>10</td></tr>\n",
       "\t<tr><th scope=row>1978.1509</th><td>1978</td><td>female</td><td>yes</td><td>18-29</td><td>12 yrs   </td><td> 5</td><td>22</td><td>12</td></tr>\n",
       "\t<tr><th scope=row>1978.1510</th><td>1978</td><td>female</td><td>yes</td><td><span style=white-space:pre-wrap>60+  </span></td><td><span style=white-space:pre-wrap>&lt;12 yrs  </span></td><td>NA</td><td>71</td><td> 0</td></tr>\n",
       "\t<tr><th scope=row>1978.1511</th><td>1978</td><td>female</td><td>yes</td><td>30-39</td><td>13-15 yrs</td><td> 5</td><td>31</td><td>14</td></tr>\n",
       "\t<tr><th scope=row>1978.1512</th><td>1978</td><td>female</td><td>yes</td><td>30-39</td><td><span style=white-space:pre-wrap>&lt;12 yrs  </span></td><td> 3</td><td>35</td><td> 9</td></tr>\n",
       "\t<tr><th scope=row>1978.1513</th><td>1978</td><td>female</td><td>yes</td><td>50-59</td><td><span style=white-space:pre-wrap>&lt;12 yrs  </span></td><td> 4</td><td>50</td><td> 7</td></tr>\n",
       "\t<tr><th scope=row>1978.1514</th><td>1978</td><td>female</td><td>yes</td><td>18-29</td><td>13-15 yrs</td><td>10</td><td>26</td><td>13</td></tr>\n",
       "\t<tr><th scope=row>1978.1515</th><td>1978</td><td><span style=white-space:pre-wrap>male  </span></td><td>yes</td><td>18-29</td><td><span style=white-space:pre-wrap>&lt;12 yrs  </span></td><td> 3</td><td>25</td><td>10</td></tr>\n",
       "\t<tr><th scope=row>1978.1516</th><td>1978</td><td>male  </td><td>yes</td><td>50-59</td><td>13-15 yrs</td><td> 6</td><td>58</td><td>15</td></tr>\n",
       "\t<tr><th scope=row>1978.1517</th><td>1978</td><td>female</td><td>yes</td><td><span style=white-space:pre-wrap>60+  </span></td><td><span style=white-space:pre-wrap>&lt;12 yrs  </span></td><td> 8</td><td>70</td><td> 8</td></tr>\n",
       "\t<tr><th scope=row>1978.1518</th><td>1978</td><td>female</td><td>yes</td><td>30-39</td><td>12 yrs   </td><td> 6</td><td>33</td><td>12</td></tr>\n",
       "\t<tr><th scope=row>1978.1519</th><td>1978</td><td>male  </td><td>yes</td><td>30-39</td><td>13-15 yrs</td><td> 6</td><td>33</td><td>14</td></tr>\n",
       "\t<tr><th scope=row>1978.1520</th><td>1978</td><td><span style=white-space:pre-wrap>male  </span></td><td>yes</td><td><span style=white-space:pre-wrap>60+  </span></td><td><span style=white-space:pre-wrap>&lt;12 yrs  </span></td><td> 0</td><td>60</td><td> 7</td></tr>\n",
       "\t<tr><th scope=row>1978.1521</th><td>1978</td><td>female</td><td>yes</td><td>40-49</td><td>12 yrs   </td><td> 6</td><td>40</td><td>12</td></tr>\n",
       "\t<tr><th scope=row>1978.1522</th><td>1978</td><td>female</td><td>yes</td><td>50-59</td><td><span style=white-space:pre-wrap>&lt;12 yrs  </span></td><td> 6</td><td>52</td><td>10</td></tr>\n",
       "\t<tr><th scope=row>1978.1523</th><td>1978</td><td><span style=white-space:pre-wrap>male  </span></td><td>yes</td><td><span style=white-space:pre-wrap>60+  </span></td><td><span style=white-space:pre-wrap>&lt;12 yrs  </span></td><td> 1</td><td>84</td><td> 0</td></tr>\n",
       "\t<tr><th scope=row>1978.1524</th><td>1978</td><td><span style=white-space:pre-wrap>male  </span></td><td>yes</td><td><span style=white-space:pre-wrap>60+  </span></td><td><span style=white-space:pre-wrap>&lt;12 yrs  </span></td><td> 6</td><td>66</td><td>10</td></tr>\n",
       "\t<tr><th scope=row>1978.1525</th><td>1978</td><td>female</td><td>yes</td><td>50-59</td><td><span style=white-space:pre-wrap>&lt;12 yrs  </span></td><td> 7</td><td>57</td><td>11</td></tr>\n",
       "\t<tr><th scope=row>1978.1526</th><td>1978</td><td>female</td><td>yes</td><td>30-39</td><td>12 yrs   </td><td> 3</td><td>39</td><td>12</td></tr>\n",
       "\t<tr><th scope=row>1978.1527</th><td>1978</td><td>female</td><td>yes</td><td>40-49</td><td><span style=white-space:pre-wrap>&lt;12 yrs  </span></td><td> 4</td><td>42</td><td> 8</td></tr>\n",
       "\t<tr><th scope=row>1978.1528</th><td>1978</td><td>female</td><td>yes</td><td>30-39</td><td><span style=white-space:pre-wrap>&lt;12 yrs  </span></td><td> 0</td><td>31</td><td>10</td></tr>\n",
       "\t<tr><th scope=row>1978.1529</th><td>1978</td><td>female</td><td>yes</td><td><span style=white-space:pre-wrap>60+  </span></td><td><span style=white-space:pre-wrap>&lt;12 yrs  </span></td><td> 0</td><td>65</td><td> 7</td></tr>\n",
       "\t<tr><th scope=row>1978.1530</th><td>1978</td><td>female</td><td>yes</td><td><span style=white-space:pre-wrap>60+  </span></td><td><span style=white-space:pre-wrap>&lt;12 yrs  </span></td><td> 6</td><td>68</td><td>10</td></tr>\n",
       "\t<tr><th scope=row>1978.1531</th><td>1978</td><td><span style=white-space:pre-wrap>male  </span></td><td>yes</td><td>30-39</td><td><span style=white-space:pre-wrap>&lt;12 yrs  </span></td><td> 6</td><td>33</td><td>10</td></tr>\n",
       "\t<tr><th scope=row>1978.1532</th><td>1978</td><td>female</td><td>yes</td><td>30-39</td><td>12 yrs   </td><td> 5</td><td>38</td><td>12</td></tr>\n",
       "</tbody>\n",
       "</table>\n"
      ],
      "text/latex": [
       "A data.frame: 1532 × 8\n",
       "\\begin{tabular}{r|llllllll}\n",
       "  & year & gender & nativeBorn & ageGroup & educGroup & vocab & age & educ\\\\\n",
       "  & <fct> & <fct> & <fct> & <fct> & <fct> & <dbl> & <dbl> & <dbl>\\\\\n",
       "\\hline\n",
       "\t1978.1 & 1978 & female & yes & 50-59 & 12 yrs    & 10 & 52 & 12\\\\\n",
       "\t1978.2 & 1978 & female & yes & 60+   & <12 yrs   &  6 & 74 &  9\\\\\n",
       "\t1978.3 & 1978 & male   & yes & 30-39 & <12 yrs   &  4 & 35 & 10\\\\\n",
       "\t1978.4 & 1978 & female & yes & 50-59 & 12 yrs    &  9 & 50 & 12\\\\\n",
       "\t1978.5 & 1978 & female & yes & 40-49 & 12 yrs    &  6 & 41 & 12\\\\\n",
       "\t1978.6 & 1978 & male   & yes & 18-29 & 12 yrs    &  6 & 19 & 12\\\\\n",
       "\t1978.7 & 1978 & male   & yes & 18-29 & 12 yrs    &  4 & 19 & 12\\\\\n",
       "\t1978.8 & 1978 & male   & yes & 50-59 & 12 yrs    &  7 & 59 & 12\\\\\n",
       "\t1978.9 & 1978 & female & yes & 40-49 & 16 yrs    &  8 & 49 & 16\\\\\n",
       "\t1978.10 & 1978 & male   & yes & 18-29 & 12 yrs    &  3 & 21 & 12\\\\\n",
       "\t1978.11 & 1978 & male   & yes & 40-49 & 12 yrs    &  7 & 44 & 12\\\\\n",
       "\t1978.12 & 1978 & male   & yes & 60+   & >16 yrs   &  6 & 81 & 17\\\\\n",
       "\t1978.13 & 1978 & male   & yes & 40-49 & >16 yrs   &  9 & 46 & 18\\\\\n",
       "\t1978.14 & 1978 & female & yes & 50-59 & >16 yrs   &  8 & 52 & 18\\\\\n",
       "\t1978.15 & 1978 & male   & yes & 50-59 & <12 yrs   &  7 & 53 &  7\\\\\n",
       "\t1978.16 & 1978 & male   & no  & 18-29 & 12 yrs    &  1 & 24 & 12\\\\\n",
       "\t1978.17 & 1978 & male   & yes & 40-49 & 13-15 yrs &  6 & 43 & 14\\\\\n",
       "\t1978.18 & 1978 & female & yes & 18-29 & 16 yrs    & 10 & 25 & 16\\\\\n",
       "\t1978.19 & 1978 & male   & yes & 30-39 & 12 yrs    &  9 & 35 & 12\\\\\n",
       "\t1978.20 & 1978 & male   & yes & 40-49 & 13-15 yrs & 10 & 43 & 15\\\\\n",
       "\t1978.21 & 1978 & female & yes & 60+   & <12 yrs   &  3 & 73 & 10\\\\\n",
       "\t1978.22 & 1978 & male   & no  & 50-59 & 13-15 yrs & 10 & 58 & 14\\\\\n",
       "\t1978.23 & 1978 & female & yes & 50-59 & 13-15 yrs &  9 & 51 & 14\\\\\n",
       "\t1978.24 & 1978 & male   & yes & 50-59 & 16 yrs    &  7 & 57 & 16\\\\\n",
       "\t1978.25 & 1978 & male   & yes & 40-49 & >16 yrs   &  9 & 44 & 19\\\\\n",
       "\t1978.26 & 1978 & male   & yes & 60+   & 16 yrs    & 10 & 76 & 16\\\\\n",
       "\t1978.27 & 1978 & female & no  & 30-39 & 16 yrs    & 10 & 33 & 16\\\\\n",
       "\t1978.28 & 1978 & female & yes & 30-39 & 12 yrs    &  4 & 39 & 12\\\\\n",
       "\t1978.29 & 1978 & female & yes & 18-29 & 12 yrs    &  4 & 19 & 12\\\\\n",
       "\t1978.30 & 1978 & female & no  & 40-49 & <12 yrs   &  4 & 40 & 11\\\\\n",
       "\t⋮ & ⋮ & ⋮ & ⋮ & ⋮ & ⋮ & ⋮ & ⋮ & ⋮\\\\\n",
       "\t1978.1503 & 1978 & female & yes & 50-59 & <12 yrs   &  3 & 56 &  4\\\\\n",
       "\t1978.1504 & 1978 & male   & yes & 18-29 & <12 yrs   &  4 & 22 & 10\\\\\n",
       "\t1978.1505 & 1978 & male   & yes & 40-49 & 12 yrs    & NA & 43 & 12\\\\\n",
       "\t1978.1506 & 1978 & male   & yes & 60+   & 12 yrs    &  6 & 70 & 12\\\\\n",
       "\t1978.1507 & 1978 & male   & yes & 30-39 & <12 yrs   &  3 & 35 & 10\\\\\n",
       "\t1978.1508 & 1978 & female & yes & 30-39 & <12 yrs   & NA & 33 & 10\\\\\n",
       "\t1978.1509 & 1978 & female & yes & 18-29 & 12 yrs    &  5 & 22 & 12\\\\\n",
       "\t1978.1510 & 1978 & female & yes & 60+   & <12 yrs   & NA & 71 &  0\\\\\n",
       "\t1978.1511 & 1978 & female & yes & 30-39 & 13-15 yrs &  5 & 31 & 14\\\\\n",
       "\t1978.1512 & 1978 & female & yes & 30-39 & <12 yrs   &  3 & 35 &  9\\\\\n",
       "\t1978.1513 & 1978 & female & yes & 50-59 & <12 yrs   &  4 & 50 &  7\\\\\n",
       "\t1978.1514 & 1978 & female & yes & 18-29 & 13-15 yrs & 10 & 26 & 13\\\\\n",
       "\t1978.1515 & 1978 & male   & yes & 18-29 & <12 yrs   &  3 & 25 & 10\\\\\n",
       "\t1978.1516 & 1978 & male   & yes & 50-59 & 13-15 yrs &  6 & 58 & 15\\\\\n",
       "\t1978.1517 & 1978 & female & yes & 60+   & <12 yrs   &  8 & 70 &  8\\\\\n",
       "\t1978.1518 & 1978 & female & yes & 30-39 & 12 yrs    &  6 & 33 & 12\\\\\n",
       "\t1978.1519 & 1978 & male   & yes & 30-39 & 13-15 yrs &  6 & 33 & 14\\\\\n",
       "\t1978.1520 & 1978 & male   & yes & 60+   & <12 yrs   &  0 & 60 &  7\\\\\n",
       "\t1978.1521 & 1978 & female & yes & 40-49 & 12 yrs    &  6 & 40 & 12\\\\\n",
       "\t1978.1522 & 1978 & female & yes & 50-59 & <12 yrs   &  6 & 52 & 10\\\\\n",
       "\t1978.1523 & 1978 & male   & yes & 60+   & <12 yrs   &  1 & 84 &  0\\\\\n",
       "\t1978.1524 & 1978 & male   & yes & 60+   & <12 yrs   &  6 & 66 & 10\\\\\n",
       "\t1978.1525 & 1978 & female & yes & 50-59 & <12 yrs   &  7 & 57 & 11\\\\\n",
       "\t1978.1526 & 1978 & female & yes & 30-39 & 12 yrs    &  3 & 39 & 12\\\\\n",
       "\t1978.1527 & 1978 & female & yes & 40-49 & <12 yrs   &  4 & 42 &  8\\\\\n",
       "\t1978.1528 & 1978 & female & yes & 30-39 & <12 yrs   &  0 & 31 & 10\\\\\n",
       "\t1978.1529 & 1978 & female & yes & 60+   & <12 yrs   &  0 & 65 &  7\\\\\n",
       "\t1978.1530 & 1978 & female & yes & 60+   & <12 yrs   &  6 & 68 & 10\\\\\n",
       "\t1978.1531 & 1978 & male   & yes & 30-39 & <12 yrs   &  6 & 33 & 10\\\\\n",
       "\t1978.1532 & 1978 & female & yes & 30-39 & 12 yrs    &  5 & 38 & 12\\\\\n",
       "\\end{tabular}\n"
      ],
      "text/markdown": [
       "\n",
       "A data.frame: 1532 × 8\n",
       "\n",
       "| <!--/--> | year &lt;fct&gt; | gender &lt;fct&gt; | nativeBorn &lt;fct&gt; | ageGroup &lt;fct&gt; | educGroup &lt;fct&gt; | vocab &lt;dbl&gt; | age &lt;dbl&gt; | educ &lt;dbl&gt; |\n",
       "|---|---|---|---|---|---|---|---|---|\n",
       "| 1978.1 | 1978 | female | yes | 50-59 | 12 yrs    | 10 | 52 | 12 |\n",
       "| 1978.2 | 1978 | female | yes | 60+   | &lt;12 yrs   |  6 | 74 |  9 |\n",
       "| 1978.3 | 1978 | male   | yes | 30-39 | &lt;12 yrs   |  4 | 35 | 10 |\n",
       "| 1978.4 | 1978 | female | yes | 50-59 | 12 yrs    |  9 | 50 | 12 |\n",
       "| 1978.5 | 1978 | female | yes | 40-49 | 12 yrs    |  6 | 41 | 12 |\n",
       "| 1978.6 | 1978 | male   | yes | 18-29 | 12 yrs    |  6 | 19 | 12 |\n",
       "| 1978.7 | 1978 | male   | yes | 18-29 | 12 yrs    |  4 | 19 | 12 |\n",
       "| 1978.8 | 1978 | male   | yes | 50-59 | 12 yrs    |  7 | 59 | 12 |\n",
       "| 1978.9 | 1978 | female | yes | 40-49 | 16 yrs    |  8 | 49 | 16 |\n",
       "| 1978.10 | 1978 | male   | yes | 18-29 | 12 yrs    |  3 | 21 | 12 |\n",
       "| 1978.11 | 1978 | male   | yes | 40-49 | 12 yrs    |  7 | 44 | 12 |\n",
       "| 1978.12 | 1978 | male   | yes | 60+   | &gt;16 yrs   |  6 | 81 | 17 |\n",
       "| 1978.13 | 1978 | male   | yes | 40-49 | &gt;16 yrs   |  9 | 46 | 18 |\n",
       "| 1978.14 | 1978 | female | yes | 50-59 | &gt;16 yrs   |  8 | 52 | 18 |\n",
       "| 1978.15 | 1978 | male   | yes | 50-59 | &lt;12 yrs   |  7 | 53 |  7 |\n",
       "| 1978.16 | 1978 | male   | no  | 18-29 | 12 yrs    |  1 | 24 | 12 |\n",
       "| 1978.17 | 1978 | male   | yes | 40-49 | 13-15 yrs |  6 | 43 | 14 |\n",
       "| 1978.18 | 1978 | female | yes | 18-29 | 16 yrs    | 10 | 25 | 16 |\n",
       "| 1978.19 | 1978 | male   | yes | 30-39 | 12 yrs    |  9 | 35 | 12 |\n",
       "| 1978.20 | 1978 | male   | yes | 40-49 | 13-15 yrs | 10 | 43 | 15 |\n",
       "| 1978.21 | 1978 | female | yes | 60+   | &lt;12 yrs   |  3 | 73 | 10 |\n",
       "| 1978.22 | 1978 | male   | no  | 50-59 | 13-15 yrs | 10 | 58 | 14 |\n",
       "| 1978.23 | 1978 | female | yes | 50-59 | 13-15 yrs |  9 | 51 | 14 |\n",
       "| 1978.24 | 1978 | male   | yes | 50-59 | 16 yrs    |  7 | 57 | 16 |\n",
       "| 1978.25 | 1978 | male   | yes | 40-49 | &gt;16 yrs   |  9 | 44 | 19 |\n",
       "| 1978.26 | 1978 | male   | yes | 60+   | 16 yrs    | 10 | 76 | 16 |\n",
       "| 1978.27 | 1978 | female | no  | 30-39 | 16 yrs    | 10 | 33 | 16 |\n",
       "| 1978.28 | 1978 | female | yes | 30-39 | 12 yrs    |  4 | 39 | 12 |\n",
       "| 1978.29 | 1978 | female | yes | 18-29 | 12 yrs    |  4 | 19 | 12 |\n",
       "| 1978.30 | 1978 | female | no  | 40-49 | &lt;12 yrs   |  4 | 40 | 11 |\n",
       "| ⋮ | ⋮ | ⋮ | ⋮ | ⋮ | ⋮ | ⋮ | ⋮ | ⋮ |\n",
       "| 1978.1503 | 1978 | female | yes | 50-59 | &lt;12 yrs   |  3 | 56 |  4 |\n",
       "| 1978.1504 | 1978 | male   | yes | 18-29 | &lt;12 yrs   |  4 | 22 | 10 |\n",
       "| 1978.1505 | 1978 | male   | yes | 40-49 | 12 yrs    | NA | 43 | 12 |\n",
       "| 1978.1506 | 1978 | male   | yes | 60+   | 12 yrs    |  6 | 70 | 12 |\n",
       "| 1978.1507 | 1978 | male   | yes | 30-39 | &lt;12 yrs   |  3 | 35 | 10 |\n",
       "| 1978.1508 | 1978 | female | yes | 30-39 | &lt;12 yrs   | NA | 33 | 10 |\n",
       "| 1978.1509 | 1978 | female | yes | 18-29 | 12 yrs    |  5 | 22 | 12 |\n",
       "| 1978.1510 | 1978 | female | yes | 60+   | &lt;12 yrs   | NA | 71 |  0 |\n",
       "| 1978.1511 | 1978 | female | yes | 30-39 | 13-15 yrs |  5 | 31 | 14 |\n",
       "| 1978.1512 | 1978 | female | yes | 30-39 | &lt;12 yrs   |  3 | 35 |  9 |\n",
       "| 1978.1513 | 1978 | female | yes | 50-59 | &lt;12 yrs   |  4 | 50 |  7 |\n",
       "| 1978.1514 | 1978 | female | yes | 18-29 | 13-15 yrs | 10 | 26 | 13 |\n",
       "| 1978.1515 | 1978 | male   | yes | 18-29 | &lt;12 yrs   |  3 | 25 | 10 |\n",
       "| 1978.1516 | 1978 | male   | yes | 50-59 | 13-15 yrs |  6 | 58 | 15 |\n",
       "| 1978.1517 | 1978 | female | yes | 60+   | &lt;12 yrs   |  8 | 70 |  8 |\n",
       "| 1978.1518 | 1978 | female | yes | 30-39 | 12 yrs    |  6 | 33 | 12 |\n",
       "| 1978.1519 | 1978 | male   | yes | 30-39 | 13-15 yrs |  6 | 33 | 14 |\n",
       "| 1978.1520 | 1978 | male   | yes | 60+   | &lt;12 yrs   |  0 | 60 |  7 |\n",
       "| 1978.1521 | 1978 | female | yes | 40-49 | 12 yrs    |  6 | 40 | 12 |\n",
       "| 1978.1522 | 1978 | female | yes | 50-59 | &lt;12 yrs   |  6 | 52 | 10 |\n",
       "| 1978.1523 | 1978 | male   | yes | 60+   | &lt;12 yrs   |  1 | 84 |  0 |\n",
       "| 1978.1524 | 1978 | male   | yes | 60+   | &lt;12 yrs   |  6 | 66 | 10 |\n",
       "| 1978.1525 | 1978 | female | yes | 50-59 | &lt;12 yrs   |  7 | 57 | 11 |\n",
       "| 1978.1526 | 1978 | female | yes | 30-39 | 12 yrs    |  3 | 39 | 12 |\n",
       "| 1978.1527 | 1978 | female | yes | 40-49 | &lt;12 yrs   |  4 | 42 |  8 |\n",
       "| 1978.1528 | 1978 | female | yes | 30-39 | &lt;12 yrs   |  0 | 31 | 10 |\n",
       "| 1978.1529 | 1978 | female | yes | 60+   | &lt;12 yrs   |  0 | 65 |  7 |\n",
       "| 1978.1530 | 1978 | female | yes | 60+   | &lt;12 yrs   |  6 | 68 | 10 |\n",
       "| 1978.1531 | 1978 | male   | yes | 30-39 | &lt;12 yrs   |  6 | 33 | 10 |\n",
       "| 1978.1532 | 1978 | female | yes | 30-39 | 12 yrs    |  5 | 38 | 12 |\n",
       "\n"
      ],
      "text/plain": [
       "          year gender nativeBorn ageGroup educGroup vocab age educ\n",
       "1978.1    1978 female yes        50-59    12 yrs    10    52  12  \n",
       "1978.2    1978 female yes        60+      <12 yrs    6    74   9  \n",
       "1978.3    1978 male   yes        30-39    <12 yrs    4    35  10  \n",
       "1978.4    1978 female yes        50-59    12 yrs     9    50  12  \n",
       "1978.5    1978 female yes        40-49    12 yrs     6    41  12  \n",
       "1978.6    1978 male   yes        18-29    12 yrs     6    19  12  \n",
       "1978.7    1978 male   yes        18-29    12 yrs     4    19  12  \n",
       "1978.8    1978 male   yes        50-59    12 yrs     7    59  12  \n",
       "1978.9    1978 female yes        40-49    16 yrs     8    49  16  \n",
       "1978.10   1978 male   yes        18-29    12 yrs     3    21  12  \n",
       "1978.11   1978 male   yes        40-49    12 yrs     7    44  12  \n",
       "1978.12   1978 male   yes        60+      >16 yrs    6    81  17  \n",
       "1978.13   1978 male   yes        40-49    >16 yrs    9    46  18  \n",
       "1978.14   1978 female yes        50-59    >16 yrs    8    52  18  \n",
       "1978.15   1978 male   yes        50-59    <12 yrs    7    53   7  \n",
       "1978.16   1978 male   no         18-29    12 yrs     1    24  12  \n",
       "1978.17   1978 male   yes        40-49    13-15 yrs  6    43  14  \n",
       "1978.18   1978 female yes        18-29    16 yrs    10    25  16  \n",
       "1978.19   1978 male   yes        30-39    12 yrs     9    35  12  \n",
       "1978.20   1978 male   yes        40-49    13-15 yrs 10    43  15  \n",
       "1978.21   1978 female yes        60+      <12 yrs    3    73  10  \n",
       "1978.22   1978 male   no         50-59    13-15 yrs 10    58  14  \n",
       "1978.23   1978 female yes        50-59    13-15 yrs  9    51  14  \n",
       "1978.24   1978 male   yes        50-59    16 yrs     7    57  16  \n",
       "1978.25   1978 male   yes        40-49    >16 yrs    9    44  19  \n",
       "1978.26   1978 male   yes        60+      16 yrs    10    76  16  \n",
       "1978.27   1978 female no         30-39    16 yrs    10    33  16  \n",
       "1978.28   1978 female yes        30-39    12 yrs     4    39  12  \n",
       "1978.29   1978 female yes        18-29    12 yrs     4    19  12  \n",
       "1978.30   1978 female no         40-49    <12 yrs    4    40  11  \n",
       "⋮         ⋮    ⋮      ⋮          ⋮        ⋮         ⋮     ⋮   ⋮   \n",
       "1978.1503 1978 female yes        50-59    <12 yrs    3    56   4  \n",
       "1978.1504 1978 male   yes        18-29    <12 yrs    4    22  10  \n",
       "1978.1505 1978 male   yes        40-49    12 yrs    NA    43  12  \n",
       "1978.1506 1978 male   yes        60+      12 yrs     6    70  12  \n",
       "1978.1507 1978 male   yes        30-39    <12 yrs    3    35  10  \n",
       "1978.1508 1978 female yes        30-39    <12 yrs   NA    33  10  \n",
       "1978.1509 1978 female yes        18-29    12 yrs     5    22  12  \n",
       "1978.1510 1978 female yes        60+      <12 yrs   NA    71   0  \n",
       "1978.1511 1978 female yes        30-39    13-15 yrs  5    31  14  \n",
       "1978.1512 1978 female yes        30-39    <12 yrs    3    35   9  \n",
       "1978.1513 1978 female yes        50-59    <12 yrs    4    50   7  \n",
       "1978.1514 1978 female yes        18-29    13-15 yrs 10    26  13  \n",
       "1978.1515 1978 male   yes        18-29    <12 yrs    3    25  10  \n",
       "1978.1516 1978 male   yes        50-59    13-15 yrs  6    58  15  \n",
       "1978.1517 1978 female yes        60+      <12 yrs    8    70   8  \n",
       "1978.1518 1978 female yes        30-39    12 yrs     6    33  12  \n",
       "1978.1519 1978 male   yes        30-39    13-15 yrs  6    33  14  \n",
       "1978.1520 1978 male   yes        60+      <12 yrs    0    60   7  \n",
       "1978.1521 1978 female yes        40-49    12 yrs     6    40  12  \n",
       "1978.1522 1978 female yes        50-59    <12 yrs    6    52  10  \n",
       "1978.1523 1978 male   yes        60+      <12 yrs    1    84   0  \n",
       "1978.1524 1978 male   yes        60+      <12 yrs    6    66  10  \n",
       "1978.1525 1978 female yes        50-59    <12 yrs    7    57  11  \n",
       "1978.1526 1978 female yes        30-39    12 yrs     3    39  12  \n",
       "1978.1527 1978 female yes        40-49    <12 yrs    4    42   8  \n",
       "1978.1528 1978 female yes        30-39    <12 yrs    0    31  10  \n",
       "1978.1529 1978 female yes        60+      <12 yrs    0    65   7  \n",
       "1978.1530 1978 female yes        60+      <12 yrs    6    68  10  \n",
       "1978.1531 1978 male   yes        30-39    <12 yrs    6    33  10  \n",
       "1978.1532 1978 female yes        30-39    12 yrs     5    38  12  "
      ]
     },
     "metadata": {},
     "output_type": "display_data"
    }
   ],
   "source": [
    "Vocab1978"
   ]
  },
  {
   "cell_type": "code",
   "execution_count": 31,
   "id": "63a62633-b00a-464f-a5d3-5c3f6c59a06a",
   "metadata": {},
   "outputs": [
    {
     "name": "stdout",
     "output_type": "stream",
     "text": [
      "'data.frame':\t1477 obs. of  8 variables:\n",
      " $ year      : Factor w/ 20 levels \"1978\",\"1982\",..: 1 1 1 1 1 1 1 1 1 1 ...\n",
      " $ gender    : Factor w/ 2 levels \"female\",\"male\": 1 1 2 1 1 2 2 2 1 2 ...\n",
      " $ nativeBorn: Factor w/ 2 levels \"no\",\"yes\": 2 2 2 2 2 2 2 2 2 2 ...\n",
      " $ ageGroup  : Factor w/ 5 levels \"18-29\",\"30-39\",..: 4 5 2 4 3 1 1 4 3 1 ...\n",
      " $ educGroup : Factor w/ 5 levels \"<12 yrs\",\"12 yrs\",..: 2 1 1 2 2 2 2 2 4 2 ...\n",
      " $ vocab     : num  10 6 4 9 6 6 4 7 8 3 ...\n",
      " $ age       : num  52 74 35 50 41 19 19 59 49 21 ...\n",
      " $ educ      : num  12 9 10 12 12 12 12 12 16 12 ...\n",
      " - attr(*, \"na.action\")= 'exclude' Named int [1:55] 179 193 258 329 346 389 390 408 429 451 ...\n",
      "  ..- attr(*, \"names\")= chr [1:55] \"1978.179\" \"1978.193\" \"1978.258\" \"1978.329\" ...\n"
     ]
    }
   ],
   "source": [
    "Vocab78Sorted <- Vocab1978 %>%\n",
    "    na.exclude(Vocab1978)\n",
    "str(Vocab78Sorted)"
   ]
  },
  {
   "cell_type": "code",
   "execution_count": null,
   "id": "054f5dc1-bbcc-40ee-a7ac-bf58b2533385",
   "metadata": {},
   "outputs": [],
   "source": [
    "#Alternatively: This way only excludes NA in one column"
   ]
  },
  {
   "cell_type": "code",
   "execution_count": null,
   "id": "b7e68ea8-e3b3-4864-bd49-f50a1277d1bb",
   "metadata": {},
   "outputs": [],
   "source": [
    "Vocab78Sorted <- Vocab1978 %>%\n",
    "    na.exclude(vocab = \"NA\")\n",
    "str(Vocab78Sorted)"
   ]
  },
  {
   "cell_type": "code",
   "execution_count": 29,
   "id": "bee27e2e-b9f6-4921-ba37-cf9ae5bb6c6d",
   "metadata": {},
   "outputs": [
    {
     "data": {
      "text/html": [
       "<table class=\"dataframe\">\n",
       "<caption>A data.frame: 6 × 8</caption>\n",
       "<thead>\n",
       "\t<tr><th></th><th scope=col>year</th><th scope=col>gender</th><th scope=col>nativeBorn</th><th scope=col>ageGroup</th><th scope=col>educGroup</th><th scope=col>vocab</th><th scope=col>age</th><th scope=col>educ</th></tr>\n",
       "\t<tr><th></th><th scope=col>&lt;fct&gt;</th><th scope=col>&lt;fct&gt;</th><th scope=col>&lt;fct&gt;</th><th scope=col>&lt;fct&gt;</th><th scope=col>&lt;fct&gt;</th><th scope=col>&lt;dbl&gt;</th><th scope=col>&lt;dbl&gt;</th><th scope=col>&lt;dbl&gt;</th></tr>\n",
       "</thead>\n",
       "<tbody>\n",
       "\t<tr><th scope=row>1978.1</th><td>1978</td><td>female</td><td>yes</td><td>50-59</td><td>12 yrs </td><td>10</td><td>52</td><td>12</td></tr>\n",
       "\t<tr><th scope=row>1978.2</th><td>1978</td><td>female</td><td>yes</td><td><span style=white-space:pre-wrap>60+  </span></td><td>&lt;12 yrs</td><td> 6</td><td>74</td><td> 9</td></tr>\n",
       "\t<tr><th scope=row>1978.3</th><td>1978</td><td><span style=white-space:pre-wrap>male  </span></td><td>yes</td><td>30-39</td><td>&lt;12 yrs</td><td> 4</td><td>35</td><td>10</td></tr>\n",
       "\t<tr><th scope=row>1978.4</th><td>1978</td><td>female</td><td>yes</td><td>50-59</td><td>12 yrs </td><td> 9</td><td>50</td><td>12</td></tr>\n",
       "\t<tr><th scope=row>1978.5</th><td>1978</td><td>female</td><td>yes</td><td>40-49</td><td>12 yrs </td><td> 6</td><td>41</td><td>12</td></tr>\n",
       "\t<tr><th scope=row>1978.6</th><td>1978</td><td>male  </td><td>yes</td><td>18-29</td><td>12 yrs </td><td> 6</td><td>19</td><td>12</td></tr>\n",
       "</tbody>\n",
       "</table>\n"
      ],
      "text/latex": [
       "A data.frame: 6 × 8\n",
       "\\begin{tabular}{r|llllllll}\n",
       "  & year & gender & nativeBorn & ageGroup & educGroup & vocab & age & educ\\\\\n",
       "  & <fct> & <fct> & <fct> & <fct> & <fct> & <dbl> & <dbl> & <dbl>\\\\\n",
       "\\hline\n",
       "\t1978.1 & 1978 & female & yes & 50-59 & 12 yrs  & 10 & 52 & 12\\\\\n",
       "\t1978.2 & 1978 & female & yes & 60+   & <12 yrs &  6 & 74 &  9\\\\\n",
       "\t1978.3 & 1978 & male   & yes & 30-39 & <12 yrs &  4 & 35 & 10\\\\\n",
       "\t1978.4 & 1978 & female & yes & 50-59 & 12 yrs  &  9 & 50 & 12\\\\\n",
       "\t1978.5 & 1978 & female & yes & 40-49 & 12 yrs  &  6 & 41 & 12\\\\\n",
       "\t1978.6 & 1978 & male   & yes & 18-29 & 12 yrs  &  6 & 19 & 12\\\\\n",
       "\\end{tabular}\n"
      ],
      "text/markdown": [
       "\n",
       "A data.frame: 6 × 8\n",
       "\n",
       "| <!--/--> | year &lt;fct&gt; | gender &lt;fct&gt; | nativeBorn &lt;fct&gt; | ageGroup &lt;fct&gt; | educGroup &lt;fct&gt; | vocab &lt;dbl&gt; | age &lt;dbl&gt; | educ &lt;dbl&gt; |\n",
       "|---|---|---|---|---|---|---|---|---|\n",
       "| 1978.1 | 1978 | female | yes | 50-59 | 12 yrs  | 10 | 52 | 12 |\n",
       "| 1978.2 | 1978 | female | yes | 60+   | &lt;12 yrs |  6 | 74 |  9 |\n",
       "| 1978.3 | 1978 | male   | yes | 30-39 | &lt;12 yrs |  4 | 35 | 10 |\n",
       "| 1978.4 | 1978 | female | yes | 50-59 | 12 yrs  |  9 | 50 | 12 |\n",
       "| 1978.5 | 1978 | female | yes | 40-49 | 12 yrs  |  6 | 41 | 12 |\n",
       "| 1978.6 | 1978 | male   | yes | 18-29 | 12 yrs  |  6 | 19 | 12 |\n",
       "\n"
      ],
      "text/plain": [
       "       year gender nativeBorn ageGroup educGroup vocab age educ\n",
       "1978.1 1978 female yes        50-59    12 yrs    10    52  12  \n",
       "1978.2 1978 female yes        60+      <12 yrs    6    74   9  \n",
       "1978.3 1978 male   yes        30-39    <12 yrs    4    35  10  \n",
       "1978.4 1978 female yes        50-59    12 yrs     9    50  12  \n",
       "1978.5 1978 female yes        40-49    12 yrs     6    41  12  \n",
       "1978.6 1978 male   yes        18-29    12 yrs     6    19  12  "
      ]
     },
     "metadata": {},
     "output_type": "display_data"
    }
   ],
   "source": [
    "head(Vocab78Sorted)"
   ]
  },
  {
   "cell_type": "code",
   "execution_count": 32,
   "id": "00263693-6dff-4b11-9fba-086cfee90328",
   "metadata": {
    "scrolled": true
   },
   "outputs": [
    {
     "data": {
      "text/html": [
       "<table class=\"dataframe\">\n",
       "<caption>A data.frame: 1477 × 8</caption>\n",
       "<thead>\n",
       "\t<tr><th></th><th scope=col>year</th><th scope=col>gender</th><th scope=col>nativeBorn</th><th scope=col>ageGroup</th><th scope=col>educGroup</th><th scope=col>vocab</th><th scope=col>age</th><th scope=col>educ</th></tr>\n",
       "\t<tr><th></th><th scope=col>&lt;fct&gt;</th><th scope=col>&lt;fct&gt;</th><th scope=col>&lt;fct&gt;</th><th scope=col>&lt;fct&gt;</th><th scope=col>&lt;fct&gt;</th><th scope=col>&lt;dbl&gt;</th><th scope=col>&lt;dbl&gt;</th><th scope=col>&lt;dbl&gt;</th></tr>\n",
       "</thead>\n",
       "<tbody>\n",
       "\t<tr><th scope=row>1978.1</th><td>1978</td><td>female</td><td>yes</td><td>50-59</td><td>12 yrs   </td><td>10</td><td>52</td><td>12</td></tr>\n",
       "\t<tr><th scope=row>1978.2</th><td>1978</td><td>female</td><td>yes</td><td><span style=white-space:pre-wrap>60+  </span></td><td><span style=white-space:pre-wrap>&lt;12 yrs  </span></td><td> 6</td><td>74</td><td> 9</td></tr>\n",
       "\t<tr><th scope=row>1978.3</th><td>1978</td><td><span style=white-space:pre-wrap>male  </span></td><td>yes</td><td>30-39</td><td><span style=white-space:pre-wrap>&lt;12 yrs  </span></td><td> 4</td><td>35</td><td>10</td></tr>\n",
       "\t<tr><th scope=row>1978.4</th><td>1978</td><td>female</td><td>yes</td><td>50-59</td><td>12 yrs   </td><td> 9</td><td>50</td><td>12</td></tr>\n",
       "\t<tr><th scope=row>1978.5</th><td>1978</td><td>female</td><td>yes</td><td>40-49</td><td>12 yrs   </td><td> 6</td><td>41</td><td>12</td></tr>\n",
       "\t<tr><th scope=row>1978.6</th><td>1978</td><td>male  </td><td>yes</td><td>18-29</td><td>12 yrs   </td><td> 6</td><td>19</td><td>12</td></tr>\n",
       "\t<tr><th scope=row>1978.7</th><td>1978</td><td>male  </td><td>yes</td><td>18-29</td><td>12 yrs   </td><td> 4</td><td>19</td><td>12</td></tr>\n",
       "\t<tr><th scope=row>1978.8</th><td>1978</td><td>male  </td><td>yes</td><td>50-59</td><td>12 yrs   </td><td> 7</td><td>59</td><td>12</td></tr>\n",
       "\t<tr><th scope=row>1978.9</th><td>1978</td><td>female</td><td>yes</td><td>40-49</td><td>16 yrs   </td><td> 8</td><td>49</td><td>16</td></tr>\n",
       "\t<tr><th scope=row>1978.10</th><td>1978</td><td>male  </td><td>yes</td><td>18-29</td><td>12 yrs   </td><td> 3</td><td>21</td><td>12</td></tr>\n",
       "\t<tr><th scope=row>1978.11</th><td>1978</td><td>male  </td><td>yes</td><td>40-49</td><td>12 yrs   </td><td> 7</td><td>44</td><td>12</td></tr>\n",
       "\t<tr><th scope=row>1978.12</th><td>1978</td><td><span style=white-space:pre-wrap>male  </span></td><td>yes</td><td><span style=white-space:pre-wrap>60+  </span></td><td><span style=white-space:pre-wrap>&gt;16 yrs  </span></td><td> 6</td><td>81</td><td>17</td></tr>\n",
       "\t<tr><th scope=row>1978.13</th><td>1978</td><td><span style=white-space:pre-wrap>male  </span></td><td>yes</td><td>40-49</td><td><span style=white-space:pre-wrap>&gt;16 yrs  </span></td><td> 9</td><td>46</td><td>18</td></tr>\n",
       "\t<tr><th scope=row>1978.14</th><td>1978</td><td>female</td><td>yes</td><td>50-59</td><td><span style=white-space:pre-wrap>&gt;16 yrs  </span></td><td> 8</td><td>52</td><td>18</td></tr>\n",
       "\t<tr><th scope=row>1978.15</th><td>1978</td><td><span style=white-space:pre-wrap>male  </span></td><td>yes</td><td>50-59</td><td><span style=white-space:pre-wrap>&lt;12 yrs  </span></td><td> 7</td><td>53</td><td> 7</td></tr>\n",
       "\t<tr><th scope=row>1978.16</th><td>1978</td><td>male  </td><td>no </td><td>18-29</td><td>12 yrs   </td><td> 1</td><td>24</td><td>12</td></tr>\n",
       "\t<tr><th scope=row>1978.17</th><td>1978</td><td>male  </td><td>yes</td><td>40-49</td><td>13-15 yrs</td><td> 6</td><td>43</td><td>14</td></tr>\n",
       "\t<tr><th scope=row>1978.18</th><td>1978</td><td>female</td><td>yes</td><td>18-29</td><td>16 yrs   </td><td>10</td><td>25</td><td>16</td></tr>\n",
       "\t<tr><th scope=row>1978.19</th><td>1978</td><td>male  </td><td>yes</td><td>30-39</td><td>12 yrs   </td><td> 9</td><td>35</td><td>12</td></tr>\n",
       "\t<tr><th scope=row>1978.20</th><td>1978</td><td>male  </td><td>yes</td><td>40-49</td><td>13-15 yrs</td><td>10</td><td>43</td><td>15</td></tr>\n",
       "\t<tr><th scope=row>1978.21</th><td>1978</td><td>female</td><td>yes</td><td><span style=white-space:pre-wrap>60+  </span></td><td><span style=white-space:pre-wrap>&lt;12 yrs  </span></td><td> 3</td><td>73</td><td>10</td></tr>\n",
       "\t<tr><th scope=row>1978.22</th><td>1978</td><td>male  </td><td>no </td><td>50-59</td><td>13-15 yrs</td><td>10</td><td>58</td><td>14</td></tr>\n",
       "\t<tr><th scope=row>1978.23</th><td>1978</td><td>female</td><td>yes</td><td>50-59</td><td>13-15 yrs</td><td> 9</td><td>51</td><td>14</td></tr>\n",
       "\t<tr><th scope=row>1978.24</th><td>1978</td><td>male  </td><td>yes</td><td>50-59</td><td>16 yrs   </td><td> 7</td><td>57</td><td>16</td></tr>\n",
       "\t<tr><th scope=row>1978.25</th><td>1978</td><td><span style=white-space:pre-wrap>male  </span></td><td>yes</td><td>40-49</td><td><span style=white-space:pre-wrap>&gt;16 yrs  </span></td><td> 9</td><td>44</td><td>19</td></tr>\n",
       "\t<tr><th scope=row>1978.26</th><td>1978</td><td>male  </td><td>yes</td><td>60+  </td><td>16 yrs   </td><td>10</td><td>76</td><td>16</td></tr>\n",
       "\t<tr><th scope=row>1978.27</th><td>1978</td><td>female</td><td>no </td><td>30-39</td><td>16 yrs   </td><td>10</td><td>33</td><td>16</td></tr>\n",
       "\t<tr><th scope=row>1978.28</th><td>1978</td><td>female</td><td>yes</td><td>30-39</td><td>12 yrs   </td><td> 4</td><td>39</td><td>12</td></tr>\n",
       "\t<tr><th scope=row>1978.29</th><td>1978</td><td>female</td><td>yes</td><td>18-29</td><td>12 yrs   </td><td> 4</td><td>19</td><td>12</td></tr>\n",
       "\t<tr><th scope=row>1978.30</th><td>1978</td><td>female</td><td>no </td><td>40-49</td><td><span style=white-space:pre-wrap>&lt;12 yrs  </span></td><td> 4</td><td>40</td><td>11</td></tr>\n",
       "\t<tr><th scope=row>⋮</th><td>⋮</td><td>⋮</td><td>⋮</td><td>⋮</td><td>⋮</td><td>⋮</td><td>⋮</td><td>⋮</td></tr>\n",
       "\t<tr><th scope=row>1978.1500</th><td>1978</td><td>female</td><td>yes</td><td>50-59</td><td>13-15 yrs</td><td> 6</td><td>55</td><td>14</td></tr>\n",
       "\t<tr><th scope=row>1978.1501</th><td>1978</td><td>female</td><td>yes</td><td>30-39</td><td>12 yrs   </td><td> 8</td><td>36</td><td>12</td></tr>\n",
       "\t<tr><th scope=row>1978.1502</th><td>1978</td><td>female</td><td>yes</td><td>18-29</td><td><span style=white-space:pre-wrap>&lt;12 yrs  </span></td><td> 5</td><td>22</td><td>10</td></tr>\n",
       "\t<tr><th scope=row>1978.1503</th><td>1978</td><td>female</td><td>yes</td><td>50-59</td><td><span style=white-space:pre-wrap>&lt;12 yrs  </span></td><td> 3</td><td>56</td><td> 4</td></tr>\n",
       "\t<tr><th scope=row>1978.1504</th><td>1978</td><td><span style=white-space:pre-wrap>male  </span></td><td>yes</td><td>18-29</td><td><span style=white-space:pre-wrap>&lt;12 yrs  </span></td><td> 4</td><td>22</td><td>10</td></tr>\n",
       "\t<tr><th scope=row>1978.1506</th><td>1978</td><td>male  </td><td>yes</td><td>60+  </td><td>12 yrs   </td><td> 6</td><td>70</td><td>12</td></tr>\n",
       "\t<tr><th scope=row>1978.1507</th><td>1978</td><td><span style=white-space:pre-wrap>male  </span></td><td>yes</td><td>30-39</td><td><span style=white-space:pre-wrap>&lt;12 yrs  </span></td><td> 3</td><td>35</td><td>10</td></tr>\n",
       "\t<tr><th scope=row>1978.1509</th><td>1978</td><td>female</td><td>yes</td><td>18-29</td><td>12 yrs   </td><td> 5</td><td>22</td><td>12</td></tr>\n",
       "\t<tr><th scope=row>1978.1511</th><td>1978</td><td>female</td><td>yes</td><td>30-39</td><td>13-15 yrs</td><td> 5</td><td>31</td><td>14</td></tr>\n",
       "\t<tr><th scope=row>1978.1512</th><td>1978</td><td>female</td><td>yes</td><td>30-39</td><td><span style=white-space:pre-wrap>&lt;12 yrs  </span></td><td> 3</td><td>35</td><td> 9</td></tr>\n",
       "\t<tr><th scope=row>1978.1513</th><td>1978</td><td>female</td><td>yes</td><td>50-59</td><td><span style=white-space:pre-wrap>&lt;12 yrs  </span></td><td> 4</td><td>50</td><td> 7</td></tr>\n",
       "\t<tr><th scope=row>1978.1514</th><td>1978</td><td>female</td><td>yes</td><td>18-29</td><td>13-15 yrs</td><td>10</td><td>26</td><td>13</td></tr>\n",
       "\t<tr><th scope=row>1978.1515</th><td>1978</td><td><span style=white-space:pre-wrap>male  </span></td><td>yes</td><td>18-29</td><td><span style=white-space:pre-wrap>&lt;12 yrs  </span></td><td> 3</td><td>25</td><td>10</td></tr>\n",
       "\t<tr><th scope=row>1978.1516</th><td>1978</td><td>male  </td><td>yes</td><td>50-59</td><td>13-15 yrs</td><td> 6</td><td>58</td><td>15</td></tr>\n",
       "\t<tr><th scope=row>1978.1517</th><td>1978</td><td>female</td><td>yes</td><td><span style=white-space:pre-wrap>60+  </span></td><td><span style=white-space:pre-wrap>&lt;12 yrs  </span></td><td> 8</td><td>70</td><td> 8</td></tr>\n",
       "\t<tr><th scope=row>1978.1518</th><td>1978</td><td>female</td><td>yes</td><td>30-39</td><td>12 yrs   </td><td> 6</td><td>33</td><td>12</td></tr>\n",
       "\t<tr><th scope=row>1978.1519</th><td>1978</td><td>male  </td><td>yes</td><td>30-39</td><td>13-15 yrs</td><td> 6</td><td>33</td><td>14</td></tr>\n",
       "\t<tr><th scope=row>1978.1520</th><td>1978</td><td><span style=white-space:pre-wrap>male  </span></td><td>yes</td><td><span style=white-space:pre-wrap>60+  </span></td><td><span style=white-space:pre-wrap>&lt;12 yrs  </span></td><td> 0</td><td>60</td><td> 7</td></tr>\n",
       "\t<tr><th scope=row>1978.1521</th><td>1978</td><td>female</td><td>yes</td><td>40-49</td><td>12 yrs   </td><td> 6</td><td>40</td><td>12</td></tr>\n",
       "\t<tr><th scope=row>1978.1522</th><td>1978</td><td>female</td><td>yes</td><td>50-59</td><td><span style=white-space:pre-wrap>&lt;12 yrs  </span></td><td> 6</td><td>52</td><td>10</td></tr>\n",
       "\t<tr><th scope=row>1978.1523</th><td>1978</td><td><span style=white-space:pre-wrap>male  </span></td><td>yes</td><td><span style=white-space:pre-wrap>60+  </span></td><td><span style=white-space:pre-wrap>&lt;12 yrs  </span></td><td> 1</td><td>84</td><td> 0</td></tr>\n",
       "\t<tr><th scope=row>1978.1524</th><td>1978</td><td><span style=white-space:pre-wrap>male  </span></td><td>yes</td><td><span style=white-space:pre-wrap>60+  </span></td><td><span style=white-space:pre-wrap>&lt;12 yrs  </span></td><td> 6</td><td>66</td><td>10</td></tr>\n",
       "\t<tr><th scope=row>1978.1525</th><td>1978</td><td>female</td><td>yes</td><td>50-59</td><td><span style=white-space:pre-wrap>&lt;12 yrs  </span></td><td> 7</td><td>57</td><td>11</td></tr>\n",
       "\t<tr><th scope=row>1978.1526</th><td>1978</td><td>female</td><td>yes</td><td>30-39</td><td>12 yrs   </td><td> 3</td><td>39</td><td>12</td></tr>\n",
       "\t<tr><th scope=row>1978.1527</th><td>1978</td><td>female</td><td>yes</td><td>40-49</td><td><span style=white-space:pre-wrap>&lt;12 yrs  </span></td><td> 4</td><td>42</td><td> 8</td></tr>\n",
       "\t<tr><th scope=row>1978.1528</th><td>1978</td><td>female</td><td>yes</td><td>30-39</td><td><span style=white-space:pre-wrap>&lt;12 yrs  </span></td><td> 0</td><td>31</td><td>10</td></tr>\n",
       "\t<tr><th scope=row>1978.1529</th><td>1978</td><td>female</td><td>yes</td><td><span style=white-space:pre-wrap>60+  </span></td><td><span style=white-space:pre-wrap>&lt;12 yrs  </span></td><td> 0</td><td>65</td><td> 7</td></tr>\n",
       "\t<tr><th scope=row>1978.1530</th><td>1978</td><td>female</td><td>yes</td><td><span style=white-space:pre-wrap>60+  </span></td><td><span style=white-space:pre-wrap>&lt;12 yrs  </span></td><td> 6</td><td>68</td><td>10</td></tr>\n",
       "\t<tr><th scope=row>1978.1531</th><td>1978</td><td><span style=white-space:pre-wrap>male  </span></td><td>yes</td><td>30-39</td><td><span style=white-space:pre-wrap>&lt;12 yrs  </span></td><td> 6</td><td>33</td><td>10</td></tr>\n",
       "\t<tr><th scope=row>1978.1532</th><td>1978</td><td>female</td><td>yes</td><td>30-39</td><td>12 yrs   </td><td> 5</td><td>38</td><td>12</td></tr>\n",
       "</tbody>\n",
       "</table>\n"
      ],
      "text/latex": [
       "A data.frame: 1477 × 8\n",
       "\\begin{tabular}{r|llllllll}\n",
       "  & year & gender & nativeBorn & ageGroup & educGroup & vocab & age & educ\\\\\n",
       "  & <fct> & <fct> & <fct> & <fct> & <fct> & <dbl> & <dbl> & <dbl>\\\\\n",
       "\\hline\n",
       "\t1978.1 & 1978 & female & yes & 50-59 & 12 yrs    & 10 & 52 & 12\\\\\n",
       "\t1978.2 & 1978 & female & yes & 60+   & <12 yrs   &  6 & 74 &  9\\\\\n",
       "\t1978.3 & 1978 & male   & yes & 30-39 & <12 yrs   &  4 & 35 & 10\\\\\n",
       "\t1978.4 & 1978 & female & yes & 50-59 & 12 yrs    &  9 & 50 & 12\\\\\n",
       "\t1978.5 & 1978 & female & yes & 40-49 & 12 yrs    &  6 & 41 & 12\\\\\n",
       "\t1978.6 & 1978 & male   & yes & 18-29 & 12 yrs    &  6 & 19 & 12\\\\\n",
       "\t1978.7 & 1978 & male   & yes & 18-29 & 12 yrs    &  4 & 19 & 12\\\\\n",
       "\t1978.8 & 1978 & male   & yes & 50-59 & 12 yrs    &  7 & 59 & 12\\\\\n",
       "\t1978.9 & 1978 & female & yes & 40-49 & 16 yrs    &  8 & 49 & 16\\\\\n",
       "\t1978.10 & 1978 & male   & yes & 18-29 & 12 yrs    &  3 & 21 & 12\\\\\n",
       "\t1978.11 & 1978 & male   & yes & 40-49 & 12 yrs    &  7 & 44 & 12\\\\\n",
       "\t1978.12 & 1978 & male   & yes & 60+   & >16 yrs   &  6 & 81 & 17\\\\\n",
       "\t1978.13 & 1978 & male   & yes & 40-49 & >16 yrs   &  9 & 46 & 18\\\\\n",
       "\t1978.14 & 1978 & female & yes & 50-59 & >16 yrs   &  8 & 52 & 18\\\\\n",
       "\t1978.15 & 1978 & male   & yes & 50-59 & <12 yrs   &  7 & 53 &  7\\\\\n",
       "\t1978.16 & 1978 & male   & no  & 18-29 & 12 yrs    &  1 & 24 & 12\\\\\n",
       "\t1978.17 & 1978 & male   & yes & 40-49 & 13-15 yrs &  6 & 43 & 14\\\\\n",
       "\t1978.18 & 1978 & female & yes & 18-29 & 16 yrs    & 10 & 25 & 16\\\\\n",
       "\t1978.19 & 1978 & male   & yes & 30-39 & 12 yrs    &  9 & 35 & 12\\\\\n",
       "\t1978.20 & 1978 & male   & yes & 40-49 & 13-15 yrs & 10 & 43 & 15\\\\\n",
       "\t1978.21 & 1978 & female & yes & 60+   & <12 yrs   &  3 & 73 & 10\\\\\n",
       "\t1978.22 & 1978 & male   & no  & 50-59 & 13-15 yrs & 10 & 58 & 14\\\\\n",
       "\t1978.23 & 1978 & female & yes & 50-59 & 13-15 yrs &  9 & 51 & 14\\\\\n",
       "\t1978.24 & 1978 & male   & yes & 50-59 & 16 yrs    &  7 & 57 & 16\\\\\n",
       "\t1978.25 & 1978 & male   & yes & 40-49 & >16 yrs   &  9 & 44 & 19\\\\\n",
       "\t1978.26 & 1978 & male   & yes & 60+   & 16 yrs    & 10 & 76 & 16\\\\\n",
       "\t1978.27 & 1978 & female & no  & 30-39 & 16 yrs    & 10 & 33 & 16\\\\\n",
       "\t1978.28 & 1978 & female & yes & 30-39 & 12 yrs    &  4 & 39 & 12\\\\\n",
       "\t1978.29 & 1978 & female & yes & 18-29 & 12 yrs    &  4 & 19 & 12\\\\\n",
       "\t1978.30 & 1978 & female & no  & 40-49 & <12 yrs   &  4 & 40 & 11\\\\\n",
       "\t⋮ & ⋮ & ⋮ & ⋮ & ⋮ & ⋮ & ⋮ & ⋮ & ⋮\\\\\n",
       "\t1978.1500 & 1978 & female & yes & 50-59 & 13-15 yrs &  6 & 55 & 14\\\\\n",
       "\t1978.1501 & 1978 & female & yes & 30-39 & 12 yrs    &  8 & 36 & 12\\\\\n",
       "\t1978.1502 & 1978 & female & yes & 18-29 & <12 yrs   &  5 & 22 & 10\\\\\n",
       "\t1978.1503 & 1978 & female & yes & 50-59 & <12 yrs   &  3 & 56 &  4\\\\\n",
       "\t1978.1504 & 1978 & male   & yes & 18-29 & <12 yrs   &  4 & 22 & 10\\\\\n",
       "\t1978.1506 & 1978 & male   & yes & 60+   & 12 yrs    &  6 & 70 & 12\\\\\n",
       "\t1978.1507 & 1978 & male   & yes & 30-39 & <12 yrs   &  3 & 35 & 10\\\\\n",
       "\t1978.1509 & 1978 & female & yes & 18-29 & 12 yrs    &  5 & 22 & 12\\\\\n",
       "\t1978.1511 & 1978 & female & yes & 30-39 & 13-15 yrs &  5 & 31 & 14\\\\\n",
       "\t1978.1512 & 1978 & female & yes & 30-39 & <12 yrs   &  3 & 35 &  9\\\\\n",
       "\t1978.1513 & 1978 & female & yes & 50-59 & <12 yrs   &  4 & 50 &  7\\\\\n",
       "\t1978.1514 & 1978 & female & yes & 18-29 & 13-15 yrs & 10 & 26 & 13\\\\\n",
       "\t1978.1515 & 1978 & male   & yes & 18-29 & <12 yrs   &  3 & 25 & 10\\\\\n",
       "\t1978.1516 & 1978 & male   & yes & 50-59 & 13-15 yrs &  6 & 58 & 15\\\\\n",
       "\t1978.1517 & 1978 & female & yes & 60+   & <12 yrs   &  8 & 70 &  8\\\\\n",
       "\t1978.1518 & 1978 & female & yes & 30-39 & 12 yrs    &  6 & 33 & 12\\\\\n",
       "\t1978.1519 & 1978 & male   & yes & 30-39 & 13-15 yrs &  6 & 33 & 14\\\\\n",
       "\t1978.1520 & 1978 & male   & yes & 60+   & <12 yrs   &  0 & 60 &  7\\\\\n",
       "\t1978.1521 & 1978 & female & yes & 40-49 & 12 yrs    &  6 & 40 & 12\\\\\n",
       "\t1978.1522 & 1978 & female & yes & 50-59 & <12 yrs   &  6 & 52 & 10\\\\\n",
       "\t1978.1523 & 1978 & male   & yes & 60+   & <12 yrs   &  1 & 84 &  0\\\\\n",
       "\t1978.1524 & 1978 & male   & yes & 60+   & <12 yrs   &  6 & 66 & 10\\\\\n",
       "\t1978.1525 & 1978 & female & yes & 50-59 & <12 yrs   &  7 & 57 & 11\\\\\n",
       "\t1978.1526 & 1978 & female & yes & 30-39 & 12 yrs    &  3 & 39 & 12\\\\\n",
       "\t1978.1527 & 1978 & female & yes & 40-49 & <12 yrs   &  4 & 42 &  8\\\\\n",
       "\t1978.1528 & 1978 & female & yes & 30-39 & <12 yrs   &  0 & 31 & 10\\\\\n",
       "\t1978.1529 & 1978 & female & yes & 60+   & <12 yrs   &  0 & 65 &  7\\\\\n",
       "\t1978.1530 & 1978 & female & yes & 60+   & <12 yrs   &  6 & 68 & 10\\\\\n",
       "\t1978.1531 & 1978 & male   & yes & 30-39 & <12 yrs   &  6 & 33 & 10\\\\\n",
       "\t1978.1532 & 1978 & female & yes & 30-39 & 12 yrs    &  5 & 38 & 12\\\\\n",
       "\\end{tabular}\n"
      ],
      "text/markdown": [
       "\n",
       "A data.frame: 1477 × 8\n",
       "\n",
       "| <!--/--> | year &lt;fct&gt; | gender &lt;fct&gt; | nativeBorn &lt;fct&gt; | ageGroup &lt;fct&gt; | educGroup &lt;fct&gt; | vocab &lt;dbl&gt; | age &lt;dbl&gt; | educ &lt;dbl&gt; |\n",
       "|---|---|---|---|---|---|---|---|---|\n",
       "| 1978.1 | 1978 | female | yes | 50-59 | 12 yrs    | 10 | 52 | 12 |\n",
       "| 1978.2 | 1978 | female | yes | 60+   | &lt;12 yrs   |  6 | 74 |  9 |\n",
       "| 1978.3 | 1978 | male   | yes | 30-39 | &lt;12 yrs   |  4 | 35 | 10 |\n",
       "| 1978.4 | 1978 | female | yes | 50-59 | 12 yrs    |  9 | 50 | 12 |\n",
       "| 1978.5 | 1978 | female | yes | 40-49 | 12 yrs    |  6 | 41 | 12 |\n",
       "| 1978.6 | 1978 | male   | yes | 18-29 | 12 yrs    |  6 | 19 | 12 |\n",
       "| 1978.7 | 1978 | male   | yes | 18-29 | 12 yrs    |  4 | 19 | 12 |\n",
       "| 1978.8 | 1978 | male   | yes | 50-59 | 12 yrs    |  7 | 59 | 12 |\n",
       "| 1978.9 | 1978 | female | yes | 40-49 | 16 yrs    |  8 | 49 | 16 |\n",
       "| 1978.10 | 1978 | male   | yes | 18-29 | 12 yrs    |  3 | 21 | 12 |\n",
       "| 1978.11 | 1978 | male   | yes | 40-49 | 12 yrs    |  7 | 44 | 12 |\n",
       "| 1978.12 | 1978 | male   | yes | 60+   | &gt;16 yrs   |  6 | 81 | 17 |\n",
       "| 1978.13 | 1978 | male   | yes | 40-49 | &gt;16 yrs   |  9 | 46 | 18 |\n",
       "| 1978.14 | 1978 | female | yes | 50-59 | &gt;16 yrs   |  8 | 52 | 18 |\n",
       "| 1978.15 | 1978 | male   | yes | 50-59 | &lt;12 yrs   |  7 | 53 |  7 |\n",
       "| 1978.16 | 1978 | male   | no  | 18-29 | 12 yrs    |  1 | 24 | 12 |\n",
       "| 1978.17 | 1978 | male   | yes | 40-49 | 13-15 yrs |  6 | 43 | 14 |\n",
       "| 1978.18 | 1978 | female | yes | 18-29 | 16 yrs    | 10 | 25 | 16 |\n",
       "| 1978.19 | 1978 | male   | yes | 30-39 | 12 yrs    |  9 | 35 | 12 |\n",
       "| 1978.20 | 1978 | male   | yes | 40-49 | 13-15 yrs | 10 | 43 | 15 |\n",
       "| 1978.21 | 1978 | female | yes | 60+   | &lt;12 yrs   |  3 | 73 | 10 |\n",
       "| 1978.22 | 1978 | male   | no  | 50-59 | 13-15 yrs | 10 | 58 | 14 |\n",
       "| 1978.23 | 1978 | female | yes | 50-59 | 13-15 yrs |  9 | 51 | 14 |\n",
       "| 1978.24 | 1978 | male   | yes | 50-59 | 16 yrs    |  7 | 57 | 16 |\n",
       "| 1978.25 | 1978 | male   | yes | 40-49 | &gt;16 yrs   |  9 | 44 | 19 |\n",
       "| 1978.26 | 1978 | male   | yes | 60+   | 16 yrs    | 10 | 76 | 16 |\n",
       "| 1978.27 | 1978 | female | no  | 30-39 | 16 yrs    | 10 | 33 | 16 |\n",
       "| 1978.28 | 1978 | female | yes | 30-39 | 12 yrs    |  4 | 39 | 12 |\n",
       "| 1978.29 | 1978 | female | yes | 18-29 | 12 yrs    |  4 | 19 | 12 |\n",
       "| 1978.30 | 1978 | female | no  | 40-49 | &lt;12 yrs   |  4 | 40 | 11 |\n",
       "| ⋮ | ⋮ | ⋮ | ⋮ | ⋮ | ⋮ | ⋮ | ⋮ | ⋮ |\n",
       "| 1978.1500 | 1978 | female | yes | 50-59 | 13-15 yrs |  6 | 55 | 14 |\n",
       "| 1978.1501 | 1978 | female | yes | 30-39 | 12 yrs    |  8 | 36 | 12 |\n",
       "| 1978.1502 | 1978 | female | yes | 18-29 | &lt;12 yrs   |  5 | 22 | 10 |\n",
       "| 1978.1503 | 1978 | female | yes | 50-59 | &lt;12 yrs   |  3 | 56 |  4 |\n",
       "| 1978.1504 | 1978 | male   | yes | 18-29 | &lt;12 yrs   |  4 | 22 | 10 |\n",
       "| 1978.1506 | 1978 | male   | yes | 60+   | 12 yrs    |  6 | 70 | 12 |\n",
       "| 1978.1507 | 1978 | male   | yes | 30-39 | &lt;12 yrs   |  3 | 35 | 10 |\n",
       "| 1978.1509 | 1978 | female | yes | 18-29 | 12 yrs    |  5 | 22 | 12 |\n",
       "| 1978.1511 | 1978 | female | yes | 30-39 | 13-15 yrs |  5 | 31 | 14 |\n",
       "| 1978.1512 | 1978 | female | yes | 30-39 | &lt;12 yrs   |  3 | 35 |  9 |\n",
       "| 1978.1513 | 1978 | female | yes | 50-59 | &lt;12 yrs   |  4 | 50 |  7 |\n",
       "| 1978.1514 | 1978 | female | yes | 18-29 | 13-15 yrs | 10 | 26 | 13 |\n",
       "| 1978.1515 | 1978 | male   | yes | 18-29 | &lt;12 yrs   |  3 | 25 | 10 |\n",
       "| 1978.1516 | 1978 | male   | yes | 50-59 | 13-15 yrs |  6 | 58 | 15 |\n",
       "| 1978.1517 | 1978 | female | yes | 60+   | &lt;12 yrs   |  8 | 70 |  8 |\n",
       "| 1978.1518 | 1978 | female | yes | 30-39 | 12 yrs    |  6 | 33 | 12 |\n",
       "| 1978.1519 | 1978 | male   | yes | 30-39 | 13-15 yrs |  6 | 33 | 14 |\n",
       "| 1978.1520 | 1978 | male   | yes | 60+   | &lt;12 yrs   |  0 | 60 |  7 |\n",
       "| 1978.1521 | 1978 | female | yes | 40-49 | 12 yrs    |  6 | 40 | 12 |\n",
       "| 1978.1522 | 1978 | female | yes | 50-59 | &lt;12 yrs   |  6 | 52 | 10 |\n",
       "| 1978.1523 | 1978 | male   | yes | 60+   | &lt;12 yrs   |  1 | 84 |  0 |\n",
       "| 1978.1524 | 1978 | male   | yes | 60+   | &lt;12 yrs   |  6 | 66 | 10 |\n",
       "| 1978.1525 | 1978 | female | yes | 50-59 | &lt;12 yrs   |  7 | 57 | 11 |\n",
       "| 1978.1526 | 1978 | female | yes | 30-39 | 12 yrs    |  3 | 39 | 12 |\n",
       "| 1978.1527 | 1978 | female | yes | 40-49 | &lt;12 yrs   |  4 | 42 |  8 |\n",
       "| 1978.1528 | 1978 | female | yes | 30-39 | &lt;12 yrs   |  0 | 31 | 10 |\n",
       "| 1978.1529 | 1978 | female | yes | 60+   | &lt;12 yrs   |  0 | 65 |  7 |\n",
       "| 1978.1530 | 1978 | female | yes | 60+   | &lt;12 yrs   |  6 | 68 | 10 |\n",
       "| 1978.1531 | 1978 | male   | yes | 30-39 | &lt;12 yrs   |  6 | 33 | 10 |\n",
       "| 1978.1532 | 1978 | female | yes | 30-39 | 12 yrs    |  5 | 38 | 12 |\n",
       "\n"
      ],
      "text/plain": [
       "          year gender nativeBorn ageGroup educGroup vocab age educ\n",
       "1978.1    1978 female yes        50-59    12 yrs    10    52  12  \n",
       "1978.2    1978 female yes        60+      <12 yrs    6    74   9  \n",
       "1978.3    1978 male   yes        30-39    <12 yrs    4    35  10  \n",
       "1978.4    1978 female yes        50-59    12 yrs     9    50  12  \n",
       "1978.5    1978 female yes        40-49    12 yrs     6    41  12  \n",
       "1978.6    1978 male   yes        18-29    12 yrs     6    19  12  \n",
       "1978.7    1978 male   yes        18-29    12 yrs     4    19  12  \n",
       "1978.8    1978 male   yes        50-59    12 yrs     7    59  12  \n",
       "1978.9    1978 female yes        40-49    16 yrs     8    49  16  \n",
       "1978.10   1978 male   yes        18-29    12 yrs     3    21  12  \n",
       "1978.11   1978 male   yes        40-49    12 yrs     7    44  12  \n",
       "1978.12   1978 male   yes        60+      >16 yrs    6    81  17  \n",
       "1978.13   1978 male   yes        40-49    >16 yrs    9    46  18  \n",
       "1978.14   1978 female yes        50-59    >16 yrs    8    52  18  \n",
       "1978.15   1978 male   yes        50-59    <12 yrs    7    53   7  \n",
       "1978.16   1978 male   no         18-29    12 yrs     1    24  12  \n",
       "1978.17   1978 male   yes        40-49    13-15 yrs  6    43  14  \n",
       "1978.18   1978 female yes        18-29    16 yrs    10    25  16  \n",
       "1978.19   1978 male   yes        30-39    12 yrs     9    35  12  \n",
       "1978.20   1978 male   yes        40-49    13-15 yrs 10    43  15  \n",
       "1978.21   1978 female yes        60+      <12 yrs    3    73  10  \n",
       "1978.22   1978 male   no         50-59    13-15 yrs 10    58  14  \n",
       "1978.23   1978 female yes        50-59    13-15 yrs  9    51  14  \n",
       "1978.24   1978 male   yes        50-59    16 yrs     7    57  16  \n",
       "1978.25   1978 male   yes        40-49    >16 yrs    9    44  19  \n",
       "1978.26   1978 male   yes        60+      16 yrs    10    76  16  \n",
       "1978.27   1978 female no         30-39    16 yrs    10    33  16  \n",
       "1978.28   1978 female yes        30-39    12 yrs     4    39  12  \n",
       "1978.29   1978 female yes        18-29    12 yrs     4    19  12  \n",
       "1978.30   1978 female no         40-49    <12 yrs    4    40  11  \n",
       "⋮         ⋮    ⋮      ⋮          ⋮        ⋮         ⋮     ⋮   ⋮   \n",
       "1978.1500 1978 female yes        50-59    13-15 yrs  6    55  14  \n",
       "1978.1501 1978 female yes        30-39    12 yrs     8    36  12  \n",
       "1978.1502 1978 female yes        18-29    <12 yrs    5    22  10  \n",
       "1978.1503 1978 female yes        50-59    <12 yrs    3    56   4  \n",
       "1978.1504 1978 male   yes        18-29    <12 yrs    4    22  10  \n",
       "1978.1506 1978 male   yes        60+      12 yrs     6    70  12  \n",
       "1978.1507 1978 male   yes        30-39    <12 yrs    3    35  10  \n",
       "1978.1509 1978 female yes        18-29    12 yrs     5    22  12  \n",
       "1978.1511 1978 female yes        30-39    13-15 yrs  5    31  14  \n",
       "1978.1512 1978 female yes        30-39    <12 yrs    3    35   9  \n",
       "1978.1513 1978 female yes        50-59    <12 yrs    4    50   7  \n",
       "1978.1514 1978 female yes        18-29    13-15 yrs 10    26  13  \n",
       "1978.1515 1978 male   yes        18-29    <12 yrs    3    25  10  \n",
       "1978.1516 1978 male   yes        50-59    13-15 yrs  6    58  15  \n",
       "1978.1517 1978 female yes        60+      <12 yrs    8    70   8  \n",
       "1978.1518 1978 female yes        30-39    12 yrs     6    33  12  \n",
       "1978.1519 1978 male   yes        30-39    13-15 yrs  6    33  14  \n",
       "1978.1520 1978 male   yes        60+      <12 yrs    0    60   7  \n",
       "1978.1521 1978 female yes        40-49    12 yrs     6    40  12  \n",
       "1978.1522 1978 female yes        50-59    <12 yrs    6    52  10  \n",
       "1978.1523 1978 male   yes        60+      <12 yrs    1    84   0  \n",
       "1978.1524 1978 male   yes        60+      <12 yrs    6    66  10  \n",
       "1978.1525 1978 female yes        50-59    <12 yrs    7    57  11  \n",
       "1978.1526 1978 female yes        30-39    12 yrs     3    39  12  \n",
       "1978.1527 1978 female yes        40-49    <12 yrs    4    42   8  \n",
       "1978.1528 1978 female yes        30-39    <12 yrs    0    31  10  \n",
       "1978.1529 1978 female yes        60+      <12 yrs    0    65   7  \n",
       "1978.1530 1978 female yes        60+      <12 yrs    6    68  10  \n",
       "1978.1531 1978 male   yes        30-39    <12 yrs    6    33  10  \n",
       "1978.1532 1978 female yes        30-39    12 yrs     5    38  12  "
      ]
     },
     "metadata": {},
     "output_type": "display_data"
    }
   ],
   "source": [
    "Vocab78Sorted"
   ]
  },
  {
   "cell_type": "code",
   "execution_count": 34,
   "id": "0b3529a8-fd82-4bfc-ae07-6e46b378d9a5",
   "metadata": {},
   "outputs": [
    {
     "data": {
      "image/png": "[encoded data removed]",
      "text/plain": [
       "plot without title"
      ]
     },
     "metadata": {
      "image/png": {
       "height": 420,
       "width": 420
      }
     },
     "output_type": "display_data"
    }
   ],
   "source": [
    "ggplot(Vocab78Sorted,\n",
    "       aes(x = educ,\n",
    "           y = vocab)) +\n",
    "    geom_point()"
   ]
  },
  {
   "cell_type": "code",
   "execution_count": 37,
   "id": "1a3383bc-28e9-473b-8bba-7643d6f60582",
   "metadata": {},
   "outputs": [
    {
     "data": {
      "image/png": "[encoded data removed]",
      "text/plain": [
       "plot without title"
      ]
     },
     "metadata": {
      "image/png": {
       "height": 420,
       "width": 420
      }
     },
     "output_type": "display_data"
    }
   ],
   "source": [
    "ggplot(Vocab78Sorted,\n",
    "       aes(x = educ,\n",
    "           y = vocab)) +\n",
    "    geom_point(position = 'jitter') +\n",
    "    facet_wrap( ~gender)"
   ]
  },
  {
   "cell_type": "code",
   "execution_count": null,
   "id": "2ce99455-333d-47d4-a6cc-ba4b12095d0a",
   "metadata": {},
   "outputs": [],
   "source": [
    "# As we can see, education and vocabulary are tied together"
   ]
  },
  {
   "cell_type": "code",
   "execution_count": 40,
   "id": "b5660153-3d1f-408e-8076-b5df6970513b",
   "metadata": {},
   "outputs": [
    {
     "data": {
      "text/plain": [
       "\n",
       "Call:\n",
       "lm(formula = vocab ~ educ, data = Vocab78Sorted)\n",
       "\n",
       "Residuals:\n",
       "    Min      1Q  Median      3Q     Max \n",
       "-7.1233 -1.1608  0.0542  1.0917  5.6243 \n",
       "\n",
       "Coefficients:\n",
       "            Estimate Std. Error t value Pr(>|t|)    \n",
       "(Intercept)  1.23567    0.19957   6.192  7.7e-10 ***\n",
       "educ         0.39251    0.01606  24.443  < 2e-16 ***\n",
       "---\n",
       "Signif. codes:  0 ‘***’ 0.001 ‘**’ 0.01 ‘*’ 0.05 ‘.’ 0.1 ‘ ’ 1\n",
       "\n",
       "Residual standard error: 1.885 on 1475 degrees of freedom\n",
       "Multiple R-squared:  0.2883,\tAdjusted R-squared:  0.2878 \n",
       "F-statistic: 597.5 on 1 and 1475 DF,  p-value: < 2.2e-16\n"
      ]
     },
     "metadata": {},
     "output_type": "display_data"
    }
   ],
   "source": [
    "vocab_model <- lm(vocab ~ educ, Vocab78Sorted)\n",
    "summary(vocab_model)"
   ]
  },
  {
   "cell_type": "code",
   "execution_count": null,
   "id": "20f569b3-4c04-4b41-8023-5e8f5dfae72c",
   "metadata": {},
   "outputs": [],
   "source": []
  },
  {
   "cell_type": "code",
   "execution_count": 42,
   "id": "64ec103b-55ee-4c16-ae9d-5a1b23f152e5",
   "metadata": {},
   "outputs": [
    {
     "data": {
      "text/plain": [
       "\n",
       "Call:\n",
       "lm(formula = educ ~ vocab, data = Vocab78Sorted)\n",
       "\n",
       "Residuals:\n",
       "    Min      1Q  Median      3Q     Max \n",
       "-9.5420 -1.5420 -0.0731  1.6614  7.3959 \n",
       "\n",
       "Coefficients:\n",
       "            Estimate Std. Error t value Pr(>|t|)    \n",
       "(Intercept)  7.66623    0.19136   40.06   <2e-16 ***\n",
       "vocab        0.73447    0.03005   24.44   <2e-16 ***\n",
       "---\n",
       "Signif. codes:  0 ‘***’ 0.001 ‘**’ 0.01 ‘*’ 0.05 ‘.’ 0.1 ‘ ’ 1\n",
       "\n",
       "Residual standard error: 2.579 on 1475 degrees of freedom\n",
       "Multiple R-squared:  0.2883,\tAdjusted R-squared:  0.2878 \n",
       "F-statistic: 597.5 on 1 and 1475 DF,  p-value: < 2.2e-16\n"
      ]
     },
     "metadata": {},
     "output_type": "display_data"
    }
   ],
   "source": [
    "summary(lm(educ ~ vocab, data = Vocab78Sorted))"
   ]
  },
  {
   "cell_type": "code",
   "execution_count": 44,
   "id": "b3f60459-8001-45db-9008-3e574193412f",
   "metadata": {},
   "outputs": [
    {
     "data": {
      "image/png": "[encoded data removed]",
      "text/plain": [
       "plot without title"
      ]
     },
     "metadata": {
      "image/png": {
       "height": 420,
       "width": 420
      }
     },
     "output_type": "display_data"
    }
   ],
   "source": [
    "ggplot(Vocab78Sorted,\n",
    "       aes(x = educ,\n",
    "           y = vocab)) +\n",
    "    geom_point(position = 'jitter') +\n",
    "    facet_wrap( ~nativeBorn)"
   ]
  },
  {
   "cell_type": "code",
   "execution_count": 46,
   "id": "cb8354aa-fdd2-4ecf-bdb7-ae9c040ee1ad",
   "metadata": {},
   "outputs": [
    {
     "data": {
      "text/plain": [
       "\n",
       "Call:\n",
       "lm(formula = vocab ~ educ * nativeBorn, data = Vocab78Sorted)\n",
       "\n",
       "Residuals:\n",
       "    Min      1Q  Median      3Q     Max \n",
       "-7.1554 -1.2049  0.0149  1.2347  5.9857 \n",
       "\n",
       "Coefficients:\n",
       "                   Estimate Std. Error t value Pr(>|t|)    \n",
       "(Intercept)         0.35394    0.68780   0.515    0.607    \n",
       "educ                0.41510    0.05496   7.553 7.45e-14 ***\n",
       "nativeBornyes       0.95000    0.71855   1.322    0.186    \n",
       "educ:nativeBornyes -0.02501    0.05745  -0.435    0.663    \n",
       "---\n",
       "Signif. codes:  0 ‘***’ 0.001 ‘**’ 0.01 ‘*’ 0.05 ‘.’ 0.1 ‘ ’ 1\n",
       "\n",
       "Residual standard error: 1.88 on 1473 degrees of freedom\n",
       "Multiple R-squared:  0.2932,\tAdjusted R-squared:  0.2917 \n",
       "F-statistic: 203.7 on 3 and 1473 DF,  p-value: < 2.2e-16\n"
      ]
     },
     "metadata": {},
     "output_type": "display_data"
    }
   ],
   "source": [
    "summary(lm(vocab ~ educ * nativeBorn, Vocab78Sorted))"
   ]
  },
  {
   "cell_type": "code",
   "execution_count": null,
   "id": "bf703538-e02d-4be1-b6f7-7e62b4d5fd39",
   "metadata": {},
   "outputs": [],
   "source": [
    "#There is a strong correlation between education and vocab. Dividing native born and non native born, makes sense as a control/investigation, but it does not change results. With both groups, educ and vocab are related in roughly the same way."
   ]
  },
  {
   "cell_type": "code",
   "execution_count": null,
   "id": "87ac8c5a-20e2-4f80-845c-99143c43f202",
   "metadata": {},
   "outputs": [],
   "source": [
    "#All models perform nearly the same"
   ]
  }
 ],
 "metadata": {
  "kernelspec": {
   "display_name": "R",
   "language": "R",
   "name": "ir"
  },
  "language_info": {
   "codemirror_mode": "r",
   "file_extension": ".r",
   "mimetype": "text/x-r-source",
   "name": "R",
   "pygments_lexer": "r",
   "version": "4.4.1"
  }
 },
 "nbformat": 4,
 "nbformat_minor": 5
}
