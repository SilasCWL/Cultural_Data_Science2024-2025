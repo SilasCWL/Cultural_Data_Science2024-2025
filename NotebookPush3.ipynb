{
 "cells": [
  {
   "cell_type": "markdown",
   "id": "94a6dbb9-e450-4638-a925-dc96783d1814",
   "metadata": {},
   "source": [
    "This is my Notebook to push 3"
   ]
  },
  {
   "cell_type": "code",
   "execution_count": null,
   "id": "9e5e39ff-73e4-45c6-8b5c-11fe06e3ff95",
   "metadata": {},
   "outputs": [],
   "source": []
  },
  {
   "cell_type": "code",
   "execution_count": null,
   "id": "ffcddfb7-260c-4fc4-a836-1489175737b6",
   "metadata": {},
   "outputs": [],
   "source": []
  },
  {
   "cell_type": "code",
   "execution_count": null,
   "id": "99a22725-69d3-48d6-b28f-606cf8e403e9",
   "metadata": {},
   "outputs": [],
   "source": []
  },
  {
   "cell_type": "code",
   "execution_count": null,
   "id": "8bb952f6-866c-40c2-a08f-2e7a2c07b518",
   "metadata": {},
   "outputs": [],
   "source": []
  },
  {
   "cell_type": "code",
   "execution_count": null,
   "id": "7a2b0cac-9d18-4e4a-b4a9-cc94cd79e8b7",
   "metadata": {},
   "outputs": [],
   "source": []
  }
 ],
 "metadata": {
  "kernelspec": {
   "display_name": "Python 3 ",
   "language": "python",
   "name": "python3"
  },
  "language_info": {
   "codemirror_mode": {
    "name": "ipython",
    "version": 3
   },
   "file_extension": ".py",
   "mimetype": "text/x-python",
   "name": "python",
   "nbconvert_exporter": "python",
   "pygments_lexer": "ipython3",
   "version": "3.10.14"
  }
 },
 "nbformat": 4,
 "nbformat_minor": 5
}
